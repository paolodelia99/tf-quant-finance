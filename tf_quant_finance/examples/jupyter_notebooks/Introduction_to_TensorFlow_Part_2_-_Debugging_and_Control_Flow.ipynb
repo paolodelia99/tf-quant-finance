{
  "cells": [
    {
      "cell_type": "markdown",
      "metadata": {
        "id": "EheA5_j_cEwc"
      },
      "source": [
        "##### Copyright 2019 Google LLC.\n",
        "\n",
        "Licensed under the Apache License, Version 2.0 (the \"License\");"
      ]
    },
    {
      "cell_type": "code",
      "execution_count": null,
      "metadata": {
        "id": "YCriMWd-pRTP"
      },
      "outputs": [],
      "source": [
        "#@title Licensed under the Apache License, Version 2.0 (the \"License\"); { display-mode: \"form\" }\n",
        "# you may not use this file except in compliance with the License.\n",
        "# You may obtain a copy of the License at\n",
        "#\n",
        "# https://www.apache.org/licenses/LICENSE-2.0\n",
        "#\n",
        "# Unless required by applicable law or agreed to in writing, software\n",
        "# distributed under the License is distributed on an \"AS IS\" BASIS,\n",
        "# WITHOUT WARRANTIES OR CONDITIONS OF ANY KIND, either express or implied.\n",
        "# See the License for the specific language governing permissions and\n",
        "# limitations under the License."
      ]
    },
    {
      "cell_type": "markdown",
      "metadata": {
        "id": "OvRwFTkqcp1e"
      },
      "source": [
        "# Introduction to TensorFlow Part 2 - Debugging and Control Flow\n",
        "\n",
        "\u003ctable class=\"tfo-notebook-buttons\" align=\"left\"\u003e\n",
        "  \u003ctd\u003e\n",
        "    \u003ca target=\"_blank\" href=\"https://colab.research.google.com/github/google/tf-quant-finance/blob/master/tf_quant_finance/examples/jupyter_notebooks/Introduction_to_TensorFlow_Part_2_-_Debugging_and_Control_Flow.ipynb\"\u003e\u003cimg src=\"https://www.tensorflow.org/images/colab_logo_32px.png\" /\u003eRun in Google Colab\u003c/a\u003e\n",
        "  \u003c/td\u003e\n",
        "  \u003ctd\u003e\n",
        "    \u003ca target=\"_blank\" href=\"https://github.com/paolodelia99/tf-quant-finance/blob/master/tf_quant_finance/examples/jupyter_notebooks/Introduction_to_TensorFlow_Part_2_-_Debugging_and_Control_Flow.ipynb\"\u003e\u003cimg src=\"https://www.tensorflow.org/images/GitHub-Mark-32px.png\" /\u003eView source on GitHub\u003c/a\u003e\n",
        "  \u003c/td\u003e\n",
        "\u003c/table\u003e"
      ]
    },
    {
      "cell_type": "code",
      "execution_count": null,
      "metadata": {
        "id": "Oi_zYoOWjR88"
      },
      "outputs": [],
      "source": [
        "#@title Upgrade to TensorFlow 2.5+\n",
        "!pip install --upgrade tensorflow"
      ]
    },
    {
      "cell_type": "code",
      "execution_count": null,
      "metadata": {
        "colab": {
          "base_uri": "https://localhost:8080/"
        },
        "executionInfo": {
          "elapsed": 13237,
          "status": "ok",
          "timestamp": 1626861040105,
          "user": {
            "displayName": "",
            "photoUrl": "",
            "userId": ""
          },
          "user_tz": -60
        },
        "id": "nPX9m7Q_w_8p",
        "outputId": "acd6d1c3-835b-43d9-fd34-4af356616d0f"
      },
      "outputs": [
        {
          "name": "stdout",
          "output_type": "stream",
          "text": [
            "Requirement already satisfied: matplotlib in /usr/local/lib/python3.7/dist-packages (3.2.2)\n",
            "Requirement already satisfied: cycler\u003e=0.10 in /usr/local/lib/python3.7/dist-packages (from matplotlib) (0.10.0)\n",
            "Requirement already satisfied: numpy\u003e=1.11 in /usr/local/lib/python3.7/dist-packages (from matplotlib) (1.19.5)\n",
            "Requirement already satisfied: python-dateutil\u003e=2.1 in /usr/local/lib/python3.7/dist-packages (from matplotlib) (2.8.1)\n",
            "Requirement already satisfied: pyparsing!=2.0.4,!=2.1.2,!=2.1.6,\u003e=2.0.1 in /usr/local/lib/python3.7/dist-packages (from matplotlib) (2.4.7)\n",
            "Requirement already satisfied: kiwisolver\u003e=1.0.1 in /usr/local/lib/python3.7/dist-packages (from matplotlib) (1.3.1)\n",
            "Requirement already satisfied: six in /usr/local/lib/python3.7/dist-packages (from cycler\u003e=0.10-\u003ematplotlib) (1.15.0)\n"
          ]
        }
      ],
      "source": [
        "#@title Install and import Libraries for this colab. RUN ME FIRST!\n",
        "!pip install matplotlib\n",
        "import matplotlib.pyplot as plt\n",
        "import tensorflow as tf\n",
        "from tensorflow.python.summary.writer.writer import FileWriter\n",
        "%load_ext tensorboard\n",
        "\n"
      ]
    },
    {
      "cell_type": "markdown",
      "metadata": {
        "id": "obZHjPQScSqd"
      },
      "source": [
        "# What this notebook covers\n",
        "\n",
        "This notebook carries on from [part 1](https://colab.research.google.com/github/google/tf-quant-finance/blob/master/tf_quant_finance/examples/jupyter_notebooks/Introduction_to_TensorFlow_Part_1_-_Basics.ipynb), and covers the basics of control flow and debugging in tensorflow: \n",
        "*   various debugging aids\n",
        "*   loops\n",
        "*   conditionals\n",
        "\n",
        "These features are used in graph mode of inside a `tf.function`. For simplicity eager execution is disabled throughout the training.\n",
        "\n"
      ]
    },
    {
      "cell_type": "markdown",
      "metadata": {
        "id": "pVLqCYzuDhfT"
      },
      "source": [
        "# Debugging"
      ]
    },
    {
      "cell_type": "markdown",
      "metadata": {
        "id": "_md9nF-EbCcn"
      },
      "source": [
        "## tf.py_function\n",
        "\n",
        "[Full documentation](https://www.tensorflow.org/api_docs/python/tf/py_function)\n",
        "\n",
        "This allows you to wrap a python function as an op. The function can make further calls into tensorflow, allowing e.g. a subset of tensorflow operations to be wrapped up inside the function and inspected using pdb. \n",
        "\n",
        "There are various restrictions involved with this op and \n",
        "*   serializing execution graphs\n",
        "*   executing across distributed machines\n",
        "\n",
        "Read the documentation for more information. As such, this should be viewed as more of a debugging tool, and its use should be avoided in performance-sensitive code.\n",
        "\n",
        "\n",
        "\n"
      ]
    },
    {
      "cell_type": "code",
      "execution_count": null,
      "metadata": {
        "id": "ff0Ex7zkfw6o"
      },
      "outputs": [],
      "source": [
        "def plus_one(x):\n",
        "  print(\"input has type %s, value %s\"%(type(x), x))\n",
        "  output = x + 1.0\n",
        "  print(\"output has type %s, value %s\"%(type(output), output))\n",
        "  return output\n",
        "\n",
        "# Let us create a graph where `plus_one` is invoked during the graph contruction\n",
        "g = tf.Graph()\n",
        "\n",
        "with g.as_default():\n",
        "  x = tf.constant([1.0,2.0,3.0])\n",
        "  # Notice that print statemets are not called during the graph construction\n",
        "  a = tf.py_function(plus_one, inp = [x], Tout=tf.float32)\n",
        "\n"
      ]
    },
    {
      "cell_type": "code",
      "execution_count": null,
      "metadata": {
        "colab": {
          "base_uri": "https://localhost:8080/"
        },
        "executionInfo": {
          "elapsed": 245,
          "status": "ok",
          "timestamp": 1626861573469,
          "user": {
            "displayName": "",
            "photoUrl": "",
            "userId": ""
          },
          "user_tz": -60
        },
        "id": "y3SfhaJVf91f",
        "outputId": "caa0dc72-e628-4480-8422-4f12a34a461c"
      },
      "outputs": [
        {
          "name": "stdout",
          "output_type": "stream",
          "text": [
            "input has type \u003cclass 'tensorflow.python.framework.ops.EagerTensor'\u003e, value tf.Tensor([1. 2. 3.], shape=(3,), dtype=float32)\n",
            "output has type \u003cclass 'tensorflow.python.framework.ops.EagerTensor'\u003e, value tf.Tensor([2. 3. 4.], shape=(3,), dtype=float32)\n",
            "[2. 3. 4.]\n"
          ]
        }
      ],
      "source": [
        "with tf.compat.v1.Session(graph=g) as sess:\n",
        "  # During the runtime, input `x` is passed as an EagerTensor to `plus_one`\n",
        "  print(sess.run(a))"
      ]
    },
    {
      "cell_type": "markdown",
      "metadata": {
        "id": "NHt4uXO6AadV"
      },
      "source": [
        "## tf.print\n",
        "\n",
        "[Full Documentation](https://www.tensorflow.org/api_docs/python/tf/print)\n",
        "\n",
        "The `tf.print` op is another useful debugging tool. It takes any number of tensors and python objects, and prints them to stdout. There are a few optional parameters, to control formatting and where it prints to. See the documentation for details."
      ]
    },
    {
      "cell_type": "code",
      "execution_count": null,
      "metadata": {
        "colab": {
          "base_uri": "https://localhost:8080/"
        },
        "executionInfo": {
          "elapsed": 240,
          "status": "ok",
          "timestamp": 1626862462892,
          "user": {
            "displayName": "",
            "photoUrl": "",
            "userId": ""
          },
          "user_tz": -60
        },
        "id": "cGlMeyLFDq1F",
        "outputId": "e4544d0e-cd25-4596-a5ce-4dfbd1a311a7"
      },
      "outputs": [
        {
          "name": "stdout",
          "output_type": "stream",
          "text": [
            "`input` has value [1 2] , type \u003cclass 'tensorflow.python.framework.ops.Tensor'\u003e and shape [2]\n"
          ]
        }
      ],
      "source": [
        "\n",
        "# Define a TensorFlow function\n",
        "@tf.function\n",
        "def print_fn(x):\n",
        "  # Note that `print_trace` is a TensorFlow Op. See the next section for details\n",
        "  print_trace = tf.print(\n",
        "      \"`input` has value\", x, \", type\", type(x), \"and shape\", tf.shape(x))\n",
        "\n",
        "# Create some inputs\n",
        "a = tf.constant([1, 2])\n",
        "\n",
        "# Call the function\n",
        "print_fn(a)"
      ]
    },
    {
      "cell_type": "markdown",
      "metadata": {
        "id": "Ou9Eph35D-sH"
      },
      "source": [
        "If you're using eager execution mode, that's all you need to know. For deferred execution however there are some significant complications that we'll discuss in the next section."
      ]
    },
    {
      "cell_type": "markdown",
      "metadata": {
        "id": "pt5xeqm7E8Vq"
      },
      "source": [
        "## tf.control_dependencies\n",
        "[Full Documentation](https://www.tensorflow.org/api_docs/python/tf/control_dependencies)\n",
        "\n",
        "One of the easiest optimisations tensorflow makes when in deferred mode is to eliminate unused ops. So if we run this:"
      ]
    },
    {
      "cell_type": "code",
      "execution_count": null,
      "metadata": {
        "id": "8nYVTSB4FMxg"
      },
      "outputs": [],
      "source": [
        "g = tf.Graph()\n",
        "\n",
        "with g.as_default():\n",
        "  a = tf.constant(1) + tf.constant(1)\n",
        "  print_trace = tf.print(\"a is set to \", a)\n",
        "  b = a * 2\n",
        "\n",
        "with tf.compat.v1.Session(graph=g) as sess:\n",
        "  results = sess.run(b)"
      ]
    },
    {
      "cell_type": "markdown",
      "metadata": {
        "id": "nkCbBSvLFeXp"
      },
      "source": [
        "Then we don't get any output. Nothing depends on ```print_trace``` (in fact nothing *can* depend on it: tf.print doesn't return anything to depend on), so it gets dropped from the graph before execution occurs. If you want ```print_trace``` to be evaluated, then you need to ask for it explicitly:\n"
      ]
    },
    {
      "cell_type": "code",
      "execution_count": null,
      "metadata": {
        "colab": {
          "base_uri": "https://localhost:8080/"
        },
        "executionInfo": {
          "elapsed": 4,
          "status": "ok",
          "timestamp": 1626862571067,
          "user": {
            "displayName": "",
            "photoUrl": "",
            "userId": ""
          },
          "user_tz": -60
        },
        "id": "nbPBQ8QKF88O",
        "outputId": "fe4e687d-779e-49a5-e083-955413656c36"
      },
      "outputs": [
        {
          "name": "stdout",
          "output_type": "stream",
          "text": [
            "a is set to 2\n"
          ]
        }
      ],
      "source": [
        "g = tf.Graph()\n",
        "\n",
        "with g.as_default():\n",
        "  a = tf.constant(1) + tf.constant(1)\n",
        "  print_trace = tf.compat.v1.print(\"a is set to\", a)\n",
        "  b = a * 2\n",
        "\n",
        "with tf.compat.v1.Session(graph=g) as sess:\n",
        "  results = sess.run((b, print_trace))"
      ]
    },
    {
      "cell_type": "markdown",
      "metadata": {
        "id": "6QxaLTRaGfBt"
      },
      "source": [
        "That's fine for our noddy sample above. But obviously has problems as your graph grows larger or the `sess.run` method gets further removed from the graph definition. The solution for that is ```tf.control_dependencies```. This signals to tensorflow that the given set of prerequisite ops must be evaluated before a set of dependent ops. \n"
      ]
    },
    {
      "cell_type": "code",
      "execution_count": null,
      "metadata": {
        "colab": {
          "base_uri": "https://localhost:8080/"
        },
        "executionInfo": {
          "elapsed": 312,
          "status": "ok",
          "timestamp": 1626862634285,
          "user": {
            "displayName": "",
            "photoUrl": "",
            "userId": ""
          },
          "user_tz": -60
        },
        "id": "2aNBMcvcIuaf",
        "outputId": "51ac757a-8a6c-417e-8eec-6143862dfe20"
      },
      "outputs": [
        {
          "name": "stdout",
          "output_type": "stream",
          "text": [
            "hello world\n",
            "a is set to 2\n"
          ]
        }
      ],
      "source": [
        "g = tf.Graph()\n",
        "\n",
        "with g.as_default():\n",
        "  a = tf.constant(1) + tf.constant(1)\n",
        "  print_trace = tf.print(\"a is set to\", a)\n",
        "  hello_world = tf.print(\"hello world\")\n",
        "\n",
        "  with tf.control_dependencies((print_trace, hello_world)):\n",
        "    # print_trace and hello_world will always be evaluated \n",
        "    # before b can be evaluated\n",
        "    b = a * 2\n",
        "  c = a * 3\n",
        "\n",
        "with tf.compat.v1.Session(graph=g) as sess:\n",
        "  results = sess.run(b)"
      ]
    },
    {
      "cell_type": "markdown",
      "metadata": {
        "id": "lhuVDQ6QJT_X"
      },
      "source": [
        "Note that if all of the dependent ops are pruned from the dependency tree and thus not evaluated, then the prerequisites will not be evaluated either: e.g. if we call ```sess.run(c)``` in the example above,then `print_trace` and `hello_world` won't be evaluated\n",
        "\n",
        "\n"
      ]
    },
    {
      "cell_type": "code",
      "execution_count": null,
      "metadata": {
        "id": "y76vDUESoq5B"
      },
      "outputs": [],
      "source": [
        "# Nothing gets printed\n",
        "with tf.compat.v1.Session(graph=g) as sess:\n",
        "  results = sess.run(c)"
      ]
    },
    {
      "cell_type": "markdown",
      "metadata": {
        "id": "oh_GyeVQZxtf"
      },
      "source": [
        "## tf.debugging.Assert\n",
        "[Full Documentation](https://www.tensorflow.org/api_docs/python/tf/debugging/Assert)\n",
        "\n",
        "In addition to ```tf.print```, the other common use of control_dependencies is ```tf.debugging.Assert```. This op does what you'd expect: checks a boolean condition and aborts execution with a InvalidArgumentError if the condition is not true. Just like ```tf.print```, it is likely to be pruned from the dependency tree and ignored if run in deferred execution mode without control_dependencies"
      ]
    },
    {
      "cell_type": "code",
      "execution_count": null,
      "metadata": {
        "colab": {
          "base_uri": "https://localhost:8080/"
        },
        "executionInfo": {
          "elapsed": 7,
          "status": "ok",
          "timestamp": 1626862899716,
          "user": {
            "displayName": "",
            "photoUrl": "",
            "userId": ""
          },
          "user_tz": -60
        },
        "id": "qSU7b6fCawNv",
        "outputId": "5ba6cfe4-fe1e-40e7-e476-74f0aa58e37b"
      },
      "outputs": [
        {
          "name": "stdout",
          "output_type": "stream",
          "text": [
            "Value of x is zero\n",
            "Error message:\n",
            "assertion failed: [Invalid value for x:] [0]\n",
            "\t [[{{node Assert}}]]\n"
          ]
        }
      ],
      "source": [
        "g = tf.Graph()\n",
        "\n",
        "with g.as_default():\n",
        "  x = tf.compat.v1.placeholder(tf.float32, shape=[])\n",
        "\n",
        "  with tf.control_dependencies([\n",
        "      tf.debugging.Assert(tf.not_equal(x, 0), [\"Invalid value for x:\",x])]):\n",
        "    y = 2.0 / x\n",
        "\n",
        "\n",
        "with tf.compat.v1.Session(graph=g) as sess:\n",
        "  try:\n",
        "    results = sess.run(y, feed_dict={x: 0.0})\n",
        "  except tf.errors.InvalidArgumentError as e:\n",
        "    print('Value of x is zero\\nError message:')\n",
        "    print(e.message)"
      ]
    },
    {
      "cell_type": "markdown",
      "metadata": {
        "id": "0sSUmD2HbkLt"
      },
      "source": [
        "There are also a bunch of helper methods, such as \n",
        "*   [assert_equal](https://www.tensorflow.org/api_docs/python/tf/debugging/assert_equal)\n",
        "*   [assert_positive](https://www.tensorflow.org/api_docs/python/tf/debugging/assert_positive)\n",
        "*   [assert_rank_at_least](https://www.tensorflow.org/api_docs/python/tf/debugging/assert_rank_at_least)\n",
        "*   etc.\n",
        "\n",
        "to simplify common uses of ```tf.Assert```\n",
        "\n",
        "So our sample above could have been written as"
      ]
    },
    {
      "cell_type": "code",
      "execution_count": null,
      "metadata": {
        "colab": {
          "base_uri": "https://localhost:8080/"
        },
        "executionInfo": {
          "elapsed": 250,
          "status": "ok",
          "timestamp": 1626863424475,
          "user": {
            "displayName": "",
            "photoUrl": "",
            "userId": ""
          },
          "user_tz": -60
        },
        "id": "fD9Ih3IacQmn",
        "outputId": "c2405b0a-e561-47af-8790-c7240c2f3127"
      },
      "outputs": [
        {
          "name": "stdout",
          "output_type": "stream",
          "text": [
            "Value of x is zero\n",
            "Error message:\n",
            "assertion failed: [Condition x != y did not hold element-wise:] [x (Placeholder:0) = ] [0] [y (assert_none_equal/y:0) = ] [0]\n",
            "\t [[{{node Assert}}]]\n"
          ]
        }
      ],
      "source": [
        "g = tf.Graph()\n",
        "\n",
        "with g.as_default():\n",
        "  x = tf.compat.v1.placeholder(tf.float32, shape=[])\n",
        "\n",
        "  with tf.control_dependencies([tf.debugging.assert_none_equal(x, 0.0)]):\n",
        "    y = 2.0 / x\n",
        "\n",
        "with tf.compat.v1.Session(graph=g) as sess:\n",
        "  try:\n",
        "    results = sess.run(y, feed_dict={x: 0.0})\n",
        "  except tf.errors.InvalidArgumentError as e:\n",
        "    print('Value of x is zero\\nError message:')\n",
        "    print(e.message)"
      ]
    },
    {
      "cell_type": "markdown",
      "metadata": {
        "id": "4hgH3jCrD6Sr"
      },
      "source": [
        "# Control Flow"
      ]
    },
    {
      "cell_type": "markdown",
      "metadata": {
        "id": "AVpDI6T9X7sZ"
      },
      "source": [
        "## tf.cond\n",
        "[Full Documentation](https://www.tensorflow.org/api_docs/python/tf/cond)\n",
        "\n",
        "The cond operand is the TensorFlow equivalent of if-else. It takes \n",
        "*   a condition, which must resolve down to a single scalar boolean\n",
        "*   true_fn: a python callable to generate one or more tensors that will be evaluated if the condition is true\n",
        "*   false_fn: same as true_fn, but the resulting tensors will only be evaluated if the the condition is false\n",
        "\n",
        "The condition is evaluated, and if its result is true then, the tensors generated by true_fn are evaluated and those generated by false_fn are abandoned (and vice versa if the result is false). \n",
        "\n",
        "Note that true_fn and false_fn must be python functions (or lambdas), not just tensors:"
      ]
    },
    {
      "cell_type": "code",
      "execution_count": null,
      "metadata": {
        "colab": {
          "base_uri": "https://localhost:8080/"
        },
        "executionInfo": {
          "elapsed": 264,
          "status": "ok",
          "timestamp": 1626863428747,
          "user": {
            "displayName": "",
            "photoUrl": "",
            "userId": ""
          },
          "user_tz": -60
        },
        "id": "2JfNrC8MFk5k",
        "outputId": "cab68bf8-93c5-4030-d035-eceba9269515"
      },
      "outputs": [
        {
          "data": {
            "text/plain": [
              "\u003ctf.Tensor: shape=(), dtype=int32, numpy=1\u003e"
            ]
          },
          "execution_count": 47,
          "metadata": {
            "tags": []
          },
          "output_type": "execute_result"
        }
      ],
      "source": [
        "# This won't work\n",
        "try:\n",
        "  tf.cond(tf.constant(True), tf.constant(1), tf.constant(2))\n",
        "except TypeError as e:\n",
        "  pass\n",
        "# You need a callable:\n",
        "tf.cond(tf.constant(True), lambda: tf.constant(1), lambda: tf.constant(2))"
      ]
    },
    {
      "cell_type": "markdown",
      "metadata": {
        "id": "zCKbDsTIGllL"
      },
      "source": [
        "The exact order of execution is a little complicated\n",
        "*   true_fn and false_fn are executed just once, when the graph is being built. \n",
        "*   the tensors created by true_fn (if the condition is true) or false_fn (if the condition is false) will be evaluated stricly after the condition has been evaluated\n",
        "*   the tensors created by false_fn (if the condition is true) or true_fn (if the condition is false) will never be evaluated\n",
        "*   any tensors depended on by the tensors generated by true_fn or false_fn will be always evaluated, even regardless of what the condition evaluates to"
      ]
    },
    {
      "cell_type": "code",
      "execution_count": null,
      "metadata": {
        "colab": {
          "base_uri": "https://localhost:8080/"
        },
        "executionInfo": {
          "elapsed": 276,
          "status": "ok",
          "timestamp": 1626863744673,
          "user": {
            "displayName": "",
            "photoUrl": "",
            "userId": ""
          },
          "user_tz": -60
        },
        "id": "uhqRk_-pkPiF",
        "outputId": "35829134-ea48-4669-8d8c-e06082516aa1"
      },
      "outputs": [
        {
          "name": "stdout",
          "output_type": "stream",
          "text": [
            "DEPENDENCY: I'm always evaluated at execution time because I'm a dependency\n",
            "\n",
            "****** Building graph\n",
            "TRUE_FN: I'm evaluated at graph building time\n",
            "FALSE_FN: I'm evaluated at graph building time\n",
            "\n",
            "****** Executing the graph\n",
            "PREDICATE: I'm evaluated at execution time\n",
            "\n",
            "TRUE_OP_FN: I'm evaluated at execution time because condition is True\n",
            "\n"
          ]
        }
      ],
      "source": [
        "def dependency_fn():\n",
        "  print (\"DEPENDENCY: I'm always evaluated at execution time because I'm a dependency\\n\")\n",
        "  return tf.constant(2)\n",
        "dependency = tf.py_function(dependency_fn, inp=[], Tout=tf.int32)\n",
        "\n",
        "def true_op_fn():\n",
        "  print (\"TRUE_OP_FN: I'm evaluated at execution time because condition is True\\n\")\n",
        "  return 1\n",
        "\n",
        "def true_fn():\n",
        "  print (\"TRUE_FN: I'm evaluated at graph building time\")\n",
        "  return tf.py_function(true_op_fn, inp=[], Tout=tf.int32)\n",
        "\n",
        "def false_op_fn(input):\n",
        "  print (\"FALSE_OP_FN: I'm never evaluated because condition isn't False\\n\")\n",
        "  return 1 + input\n",
        "\n",
        "def false_fn():\n",
        "  print (\"FALSE_FN: I'm evaluated at graph building time\")\n",
        "  return tf.py_function(false_op_fn, inp=[dependency], Tout=tf.int32)\n",
        "\n",
        "\n",
        "\n",
        "def predicate_fn():\n",
        "  print(\"\\n****** Executing the graph\")\n",
        "  print(\"PREDICATE: I'm evaluated at execution time\\n\")\n",
        "  return tf.constant(True)\n",
        "\n",
        "@tf.function\n",
        "def test_fn():\n",
        "  print(\"****** Building graph\")\n",
        "  tf.cond(tf.py_function(predicate_fn, inp=[], Tout=tf.bool), \n",
        "          true_fn, false_fn)\n",
        "\n",
        "test_fn()"
      ]
    },
    {
      "cell_type": "markdown",
      "metadata": {
        "id": "HXDMqSKFQozZ"
      },
      "source": [
        "## tf.while_loop\n",
        "[Full Documentation](https://www.tensorflow.org/api_docs/python/tf/while_loop)\n",
        "\n",
        "This is one of the more complicated ops in TensorFlow, so we'll take things step by step. \n",
        "\n",
        "*   The most important parameter is ```loop_vars```. This is a tuple/list of tensors.\n",
        "\n",
        "*   Next up is ```cond``` this is a python callable that should take the same number of arguments as loop_vars contains, and returns a single boolean.\n",
        "\n",
        "*   The third important parameter is ```body```. This is a python callable that should take the same number of arguments as loop_vars contains, and returns a tuple/list of values with the same size as loop_vars, and whose members are of the same type/arity/shape as those in loop_vars.\n",
        "\n",
        "Note that like the ```trun_fn``` and ```false_fn``` parameters discussed in tf.cond above, ```body``` and ```cond``` are callables, that are called once during graph definition.\n",
        "\n",
        "To a first level approximation, the behaviour is then roughtly akin to the following pseudo-code:\n",
        "```python\n",
        "working_vars = loop_vars\n",
        "while(cond(*working_vars)):\n",
        "  working_vars = body(*working_vars)\n",
        "return working_vars\n",
        "```\n",
        "\n",
        "\n",
        "There are optional complications:\n",
        "*   By default, each loop variable must have exactly the same shape/size/arity in all iterations. If you don't want that (e.g. because you want to increase the size in a particular dimnension by 1 each iteration), then you can use ```shape_invariants``` to loosen the checks.\n",
        "*   ```maximum_iterations``` can be used to put an upper bound on number of times the loop is executed, even if cond still returns true\n",
        "\n",
        "The documentation contains some warnings about parallel executions, race conditions and variables getting out of sync. To understand these, we need to beyond the first level approximation above. Consider the following:\n",
        "```python\n",
        "index = tf.constant(1)\n",
        "accumulator = tf.constant(0)\n",
        "\n",
        "loop = tf.while_loop(\n",
        "    loop_vars=[index, accumulator], \n",
        "    cond = lambda idx, acc: idx \u003c 4, \n",
        "    body = lambda idx, acc: [idx+1, acc + idx] )\n",
        "```\n",
        "\n",
        "To a second level approximation, this is equivalent to\n",
        "\n",
        "```python\n",
        "index_initial = tf.constant(1)\n",
        "accumalator_initial = tf.constant(0)\n",
        "\n",
        "index_iteration_1 = tf.add(index_initial, 1)\n",
        "index_iteration_2 = tf.add(index_iteration_1, 1)\n",
        "index_iteration_3 = tf.add(index_iteration_2, 1)\n",
        "\n",
        "accumulator_iteration_1 = tf.add(\n",
        "  accumalator_initial, index_initial)\n",
        "accumulator_iteration_2 = tf.add(\n",
        "  accumulator_iteration_1, index_iteration_1)\n",
        "accumulator_iteration_3 = tf.add(\n",
        "  accumulator_iteration_2, index_iteration_2)\n",
        "\n",
        "loop = [index_iteration_3, accumulator_iteration_3]\n",
        "```\n",
        "(for the full, unapproximated, gory details of the graph, run the code below"
      ]
    },
    {
      "cell_type": "code",
      "execution_count": null,
      "metadata": {
        "id": "8iBvXDmZ0C55"
      },
      "outputs": [],
      "source": [
        "\n",
        "g = tf.Graph()\n",
        "with g.as_default():\n",
        "  index = tf.constant(1)\n",
        "  accumulator = tf.constant(0)\n",
        "\n",
        "  loop = tf.while_loop(\n",
        "      loop_vars=[index, accumulator], \n",
        "      cond = lambda idx, acc: idx \u003c 4, \n",
        "      body = lambda idx, acc: [idx+1, acc + idx] )\n",
        "\n",
        "  with tf.compat.v1.Session() as sess:\n",
        "    with FileWriter(\"logs\", sess.graph):\n",
        "      results = sess.run(loop)\n",
        "  # Graph visualization\n",
        "  %tensorboard --logdir logs"
      ]
    },
    {
      "cell_type": "markdown",
      "metadata": {
        "id": "_t7YDFWe4T3F"
      },
      "source": [
        "but our second-level approximation will do for now).\n",
        "\n",
        "Notice how index_iteration_3 doesn't depend the accumulator values at all. Thus assuming our accumulator tensors were doing something more complicated than adding two integers, and assuming we were running on hardware with plenty of execution units, then it's possible that index_iteration_3 could be fully calculated in one thead, while accumulator_iteration_1 is still being calculated in another.\n",
        "\n",
        "It usually doesn't matter, because loop depends on both index_iteration_3 and accuulator_iteration_3, so it and any dependencies can't start their evaluation before all the accumulation steps have completed. But if you're depending on side effects, or clever operations depending on global state that tensorflow is unware of (e.g. in custom kernels, or py_function ops), then it's something to be aware of. You can use the while_loop's parallel_iterations parameter to restrict the number of iterations that can be calulated in parallel if this does become an issue."
      ]
    },
    {
      "cell_type": "markdown",
      "metadata": {
        "id": "SZcinCEho0ga"
      },
      "source": [
        "## Autograph to deal with `for-loop` and `if-statement`\n",
        "\n",
        "One can be tempted to use Python for-loops and if-statements and expect TensorFlow to correctly map them to control flow. Autograph is a utlitity that\n",
        "comes with `tf.function` and allows to treat Python loops and conditionals as\n",
        "TensorFlow control flow ops. Autograph is enabled by default and is capable of converting Python logiv to a TF code. See more details on the official TF page [here](https://www.tensorflow.org/guide/function#autograph_transformations)."
      ]
    },
    {
      "cell_type": "code",
      "execution_count": null,
      "metadata": {
        "id": "kFXXaOZVqPMO"
      },
      "outputs": [],
      "source": [
        "# First let us explicitly disable Autograph\n",
        "@tf.function(autograph=False)\n",
        "def loop_fn(index, max_iterations):\n",
        "  for index in range(max_iterations):\n",
        "    index += 1\n",
        "    if index == 4:\n",
        "      tf.print('index is equal to 4')\n",
        "  return index"
      ]
    },
    {
      "cell_type": "code",
      "execution_count": null,
      "metadata": {
        "id": "aISk73eJqPPB"
      },
      "outputs": [],
      "source": [
        "# Create some inputs\n",
        "index = tf.constant(0)\n",
        "max_iterations = tf.constant(5)\n"
      ]
    },
    {
      "cell_type": "code",
      "execution_count": null,
      "metadata": {
        "colab": {
          "base_uri": "https://localhost:8080/"
        },
        "executionInfo": {
          "elapsed": 42,
          "status": "ok",
          "timestamp": 1626864514366,
          "user": {
            "displayName": "",
            "photoUrl": "",
            "userId": ""
          },
          "user_tz": -60
        },
        "id": "SUt1-NborXx6",
        "outputId": "f67dcb47-8e78-47ef-e6f5-4e7ed2eaa1f8"
      },
      "outputs": [
        {
          "name": "stdout",
          "output_type": "stream",
          "text": [
            "'Tensor' object cannot be interpreted as an integer\n"
          ]
        }
      ],
      "source": [
        "# Try calling the loop\n",
        "try:\n",
        "  loop_fn(index, max_iterations)\n",
        "except TypeError as e:\n",
        "  print(e)"
      ]
    },
    {
      "cell_type": "code",
      "execution_count": null,
      "metadata": {
        "id": "OUNG08p4rn4d"
      },
      "outputs": [],
      "source": [
        "# Autograph is enabled by default\n",
        "@tf.function\n",
        "def loop_fn(index, max_iterations):\n",
        "  for index in range(max_iterations):\n",
        "    index += 1\n",
        "    if index == 4:\n",
        "      tf.print('index is equal to 4')\n",
        "  return index"
      ]
    },
    {
      "cell_type": "code",
      "execution_count": null,
      "metadata": {
        "colab": {
          "base_uri": "https://localhost:8080/"
        },
        "executionInfo": {
          "elapsed": 6,
          "status": "ok",
          "timestamp": 1626864564174,
          "user": {
            "displayName": "",
            "photoUrl": "",
            "userId": ""
          },
          "user_tz": -60
        },
        "id": "uFhfMQWlrsvF",
        "outputId": "ef5bcbad-66bb-4670-f260-eefd3cda8ff7"
      },
      "outputs": [
        {
          "name": "stdout",
          "output_type": "stream",
          "text": [
            "index is equal to 4\n",
            "tf.Tensor(5, shape=(), dtype=int32)\n"
          ]
        }
      ],
      "source": [
        "# Note that Autograph sucessfully converted Python code to TF graph\n",
        "print(loop_fn(index, max_iterations))"
      ]
    },
    {
      "cell_type": "markdown",
      "metadata": {
        "id": "QZvhWzjGhVEi"
      },
      "source": [
        "## Exercise: Mandlebrot set\n",
        "\n",
        "Recall that the Mandelbrot set is defined as the set of values of $c$ in the complex plane such that the recursion:  \n",
        "$z_{n+1} = z_{n}^2 + c$ does not diverge.\n",
        "\n",
        "It is known that all such values of $c$ lie inside the circle of radius $2$ around the origin.\n",
        "\n",
        "So what we'll do is\n",
        "\n",
        "\n",
        "*   Create a 2-d tensor ```c_values``` ranging from -1-1i to 1+1i\n",
        "*   Create a matching 2-d tensor ```Z_values``` with initial values of 0\n",
        "*   Create a third 2-d tensor ```diverged_after``` which contains the iteration number that the matching Z_value's absolute value was \u003e 2 (or MAX_ITERATIONS, if it always stayed below 2)\n",
        "*   Update the above using a while_loop\n",
        "*   display the final values of ```diverged_after``` as an image to see the famous shape\n",
        "\n",
        "\n",
        "\n"
      ]
    },
    {
      "cell_type": "code",
      "execution_count": null,
      "metadata": {
        "id": "DZZxF2l0it9-"
      },
      "outputs": [],
      "source": [
        "MAX_ITERATIONS = 64\n",
        "NUM_PIXELS = 512\n",
        "\n",
        "def GenerateGrid(nX, nY, bottom_left=(-1.0, -1.0), top_right=(1.0, 1.0)):\n",
        "  \"\"\"Generates a complex matrix of shape [nX, nY].\n",
        "  \n",
        "  Generates an evenly spaced grid of complex numbers spanning the rectangle \n",
        "  between the supplied diagonal points. \n",
        "  \n",
        "  Args:\n",
        "    nX: A positive integer. The number of points in the horizontal direction.\n",
        "    nY: A positive integer. The number of points in the vertical direction.\n",
        "    bottom_left: The coordinates of the bottom left corner of the rectangle to\n",
        "      cover.\n",
        "    top_right: The coordinates of the top right corner of the rectangle to\n",
        "      cover.\n",
        "\n",
        "  Returns:\n",
        "    A constant tensor of type complex64 and shape [nX, nY].\n",
        "  \"\"\"\n",
        "  x = tf.linspace(bottom_left[0], top_right[0], nX)\n",
        "  y = tf.linspace(bottom_left[1], top_right[1], nY)\n",
        "  real, imag = tf.meshgrid(x, y)\n",
        "  return tf.cast(tf.complex(real, imag), tf.complex128)\n",
        "\n",
        "c_values = GenerateGrid(NUM_PIXELS, NUM_PIXELS)\n",
        "initial_Z_values = tf.zeros_like(c_values, dtype=tf.complex128)\n",
        "initial_diverged_after = tf.ones_like(c_values, dtype=tf.int32) * MAX_ITERATIONS\n",
        "\n",
        "# You need to put the various values you want to change inside the loop here\n",
        "loop_vars = ()\n",
        "\n",
        "# this needs to take the same number of arguments as loop_vars contains and\n",
        "# return a tuple of equal size with the next iteration's values\n",
        "def body():\n",
        "  # hint: tf.abs will give the magnitude of a complex value\n",
        "  return ()\n",
        "\n",
        "# this just needs to take the same number of arguments as loop_vars contains and\n",
        "# return true (we'll use maximum_iterations to exit the loop)\n",
        "def cond():\n",
        "  return True\n",
        "\n",
        "results = tf.while_loop(\n",
        "    loop_vars=loop_vars, \n",
        "    body = body, \n",
        "    cond = cond, \n",
        "    maximum_iterations=MAX_ITERATIONS)\n",
        "\n",
        "\n",
        "## extract the final value of diverged_after from the tuple\n",
        "final_diverged_after = results[-1]\n",
        "plt.matshow(final_diverged_after)\n",
        "pass\n",
        "\n"
      ]
    },
    {
      "cell_type": "code",
      "execution_count": null,
      "metadata": {
        "colab": {
          "base_uri": "https://localhost:8080/",
          "height": 275
        },
        "executionInfo": {
          "elapsed": 1249,
          "status": "ok",
          "timestamp": 1626864821348,
          "user": {
            "displayName": "",
            "photoUrl": "",
            "userId": ""
          },
          "user_tz": -60
        },
        "id": "JSitXn3PyIIe",
        "outputId": "46ccf432-d08d-4079-9207-a8a763766399"
      },
      "outputs": [
        {
          "data": {
            "image/png": "[encoded data removed]",
            "text/plain": [
              "\u003cFigure size 288x288 with 1 Axes\u003e"
            ]
          },
          "metadata": {
            "needs_background": "light",
            "tags": []
          },
          "output_type": "display_data"
        }
      ],
      "source": [
        "#@title Solution: Mandlebrot set (Double-click to reveal)\n",
        "\n",
        "MAX_ITERATIONS = 64\n",
        "NUM_PIXELS = 512\n",
        "\n",
        "def GenerateGrid(nX, nY, bottom_left=(-1.0, -1.0), top_right=(1.0, 1.0)):\n",
        "  \"\"\"Generates a complex matrix of shape [nX, nY].\n",
        "  \n",
        "  Generates an evenly spaced grid of complex numbers spanning the rectangle \n",
        "  between the supplied diagonal points. \n",
        "  \n",
        "  Args:\n",
        "    nX: A positive integer. The number of points in the horizontal direction.\n",
        "    nY: A positive integer. The number of points in the vertical direction.\n",
        "    bottom_left: The coordinates of the bottom left corner of the rectangle to\n",
        "      cover.\n",
        "    top_right: The coordinates of the top right corner of the rectangle to\n",
        "      cover.\n",
        "\n",
        "  Returns:\n",
        "    A constant tensor of type complex64 and shape [nX, nY].\n",
        "  \"\"\"\n",
        "  x = tf.linspace(bottom_left[0], top_right[0], nX)\n",
        "  y = tf.linspace(bottom_left[1], top_right[1], nY)\n",
        "  real, imag = tf.meshgrid(x, y)\n",
        "  return tf.cast(tf.complex(real, imag), tf.complex128)\n",
        "\n",
        "c_values = GenerateGrid(NUM_PIXELS, NUM_PIXELS)\n",
        "initial_Z_values = tf.zeros_like(c_values, dtype=tf.complex128)\n",
        "initial_diverged_after = tf.ones_like(c_values, dtype=tf.int32) * MAX_ITERATIONS\n",
        "\n",
        "# You need to put the various values you want to change inside the loop here\n",
        "loop_vars = (0, initial_Z_values, initial_diverged_after)\n",
        "\n",
        "# this needs to take the same number of arguments as loop_vars contains and\n",
        "# return a tuple of equal size with the next iteration's values\n",
        "def body(iteration_count, Z_values, diverged_after):\n",
        "  new_Z_values = Z_values * Z_values + c_values\n",
        "  has_diverged = tf.abs(new_Z_values) \u003e 2.0\n",
        "  new_diverged_after = tf.minimum(diverged_after, tf.where(\n",
        "      has_diverged, iteration_count, MAX_ITERATIONS))\n",
        "  return (iteration_count+1, new_Z_values, new_diverged_after)\n",
        "\n",
        "# this just needs to take the same number of arguments as loop_vars contains and\n",
        "# return true (we'll use maximum_iterations to exit the loop)\n",
        "def cond(iteration_count, Z_values, diverged_after):\n",
        "  return True\n",
        "\n",
        "results = tf.while_loop(\n",
        "    loop_vars=loop_vars, \n",
        "    body = body, \n",
        "    cond = cond, \n",
        "    maximum_iterations=MAX_ITERATIONS)\n",
        "\n",
        "\n",
        "## extract the final value of diverged_after from the tuple\n",
        "final_diverged_after = results[-1]\n",
        "plt.matshow(final_diverged_after)\n",
        "plt.show()"
      ]
    }
  ],
  "metadata": {
    "colab": {
      "collapsed_sections": [],
      "last_runtime": {
        "build_target": "",
        "kind": "local"
      },
      "name": "Introduction to TensorFlow Part 2 - Debugging and Control Flow.ipynb",
      "provenance": [],
      "toc_visible": true
    },
    "kernelspec": {
      "display_name": "Python 3",
      "name": "python3"
    }
  },
  "nbformat": 4,
  "nbformat_minor": 0
}
