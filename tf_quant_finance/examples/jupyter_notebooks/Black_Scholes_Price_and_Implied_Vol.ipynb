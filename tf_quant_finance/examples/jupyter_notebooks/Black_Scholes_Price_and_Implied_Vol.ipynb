{
  "cells": [
    {
      "cell_type": "markdown",
      "metadata": {
        "colab_type": "text",
        "id": "4A0vWvLr10Ei"
      },
      "source": [
        "##### Copyright 2019 Google LLC.\n",
        "\n",
        "Licensed under the Apache License, Version 2.0 (the \"License\");"
      ]
    },
    {
      "cell_type": "code",
      "execution_count": 0,
      "metadata": {
        "colab": {},
        "colab_type": "code",
        "id": "I7wgP0Ec1_Q5"
      },
      "outputs": [],
      "source": [
        "#@title Licensed under the Apache License, Version 2.0 (the \"License\"); { display-mode: \"form\" }\n",
        "# you may not use this file except in compliance with the License.\n",
        "# You may obtain a copy of the License at\n",
        "#\n",
        "# https://www.apache.org/licenses/LICENSE-2.0\n",
        "#\n",
        "# Unless required by applicable law or agreed to in writing, software\n",
        "# distributed under the License is distributed on an \"AS IS\" BASIS,\n",
        "# WITHOUT WARRANTIES OR CONDITIONS OF ANY KIND, either express or implied.\n",
        "# See the License for the specific language governing permissions and\n",
        "# limitations under the License."
      ]
    },
    {
      "cell_type": "markdown",
      "metadata": {
        "colab_type": "text",
        "id": "VZ_HMUrW2F72"
      },
      "source": [
        "# Black Scholes: Price and Implied Vol in TFF\n",
        "\n",
        "\u003ctable class=\"tfo-notebook-buttons\" align=\"left\"\u003e\n",
        "  \u003ctd\u003e\n",
        "    \u003ca target=\"_blank\" href=\"https://www.google.com/url?q=https://github.com/paolodelia99/tf-quant-finance/blob/main/tf_quant_finance/examples/jupyter_notebooks/Black_Scholes_Price_and_Implied_Vol.ipynb\"\u003e\u003cimg src=\"https://www.tensorflow.org/images/colab_logo_32px.png\" /\u003eRun in Google Colab\u003c/a\u003e\n",
        "  \u003c/td\u003e\n",
        "  \u003ctd\u003e\n",
        "    \u003ca target=\"_blank\" href=\"https://github.com/paolodelia99/tf-quant-finance/blob/main/tf_quant_finance/examples/jupyter_notebooks/Black_Scholes_Price_and_Implied_Vol.ipynb\"\u003e\u003cimg src=\"https://www.tensorflow.org/images/GitHub-Mark-32px.png\" /\u003eView source on GitHub\u003c/a\u003e\n",
        "  \u003c/td\u003e\n",
        "\u003c/table\u003e"
      ]
    },
    {
      "cell_type": "code",
      "execution_count": 0,
      "metadata": {
        "cellView": "form",
        "colab": {},
        "colab_type": "code",
        "id": "uG8UAZXjeUhf"
      },
      "outputs": [],
      "source": [
        "#@title Upgrade to TensorFlow 2.1+\n",
        "!pip install --upgrade tensorflow"
      ]
    },
    {
      "cell_type": "code",
      "execution_count": 0,
      "metadata": {
        "cellView": "form",
        "colab": {},
        "colab_type": "code",
        "id": "Btl9FLH02Lul"
      },
      "outputs": [],
      "source": [
        "#@title Install TF Quant Finance\n",
        "!pip install tf-quant-finance"
      ]
    },
    {
      "cell_type": "code",
      "execution_count": 0,
      "metadata": {
        "cellView": "form",
        "colab": {},
        "colab_type": "code",
        "id": "pf3l6s8g9zBb"
      },
      "outputs": [],
      "source": [
        "#@title Imports\n",
        "\n",
        "import matplotlib.pyplot as plt\n",
        "import numpy as np\n",
        "\n",
        "import tensorflow as tf\n",
        "tf.compat.v1.enable_eager_execution()\n",
        "import tf_quant_finance as tff \n",
        "\n",
        "option_price = tff.black_scholes.option_price\n",
        "implied_vol = tff.black_scholes.implied_vol\n",
        "\n",
        "from IPython.core.pylabtools import figsize\n",
        "figsize(21, 14) # better graph size for Colab  "
      ]
    },
    {
      "cell_type": "markdown",
      "metadata": {
        "colab_type": "text",
        "id": "VHJ_OL8EhKZx"
      },
      "source": [
        "# Black Scholes pricing and implied volatility usage\n",
        "\n",
        "Here we see how to price vanilla options in the Black Scholes framework using the library. \n",
        "\n",
        "## Semantics of the interface\n",
        "\n",
        "If $S$ is the spot price of an asset, $r$ the risk free rate, $T$ the time to expiry, $\\sigma$ the volatility. The price of a call $C$ under [Black Scholes](https://en.wikipedia.org/wiki/Black%E2%80%93Scholes_model#Black%E2%80%93Scholes_formula) model exhibits the following relationship (suppressing unusued notation):\n",
        "\n",
        "$C(S, r) = e^{-rT} C(e^{rT}S, 0)$\n",
        "\n",
        "Where $e^{-rT}$ is the discount factor, and $e^{rT}S_t$ the forward price of the asset to expiry. The `tff`'s interface is framed in terms of forward prices and discount factors (rather than spot prices and risk free rates). This corresponds to the right hand side of the above relationship.\n",
        "\n",
        "## Parallelism\n",
        "\n",
        "Note that the library allows pricing of options in parallel: each argument (such as the `strikes`) is an array and each index corresponds to an independent option to price. For example, this allows the simultaneous pricing of the same option with different expiry dates, or strike prices or both.\n"
      ]
    },
    {
      "cell_type": "code",
      "execution_count": 0,
      "metadata": {
        "colab": {
          "height": 34
        },
        "colab_type": "code",
        "executionInfo": {
          "elapsed": 265,
          "status": "ok",
          "timestamp": 1568121773001,
          "user": {
            "displayName": "",
            "photoUrl": "",
            "userId": ""
          },
          "user_tz": -60
        },
        "id": "rbVLsywSWGoL",
        "outputId": "0858f20d-3a5f-4d41-f303-d07841c30b0f"
      },
      "outputs": [
        {
          "data": {
            "text/plain": [
              "\u003ctf.Tensor: id=22630, shape=(4,), dtype=float64, numpy=array([0.14798729, 0.24216815, 0.74814549, 0.02260333])\u003e"
            ]
          },
          "execution_count": 23,
          "metadata": {
            "tags": []
          },
          "output_type": "execute_result"
        }
      ],
      "source": [
        "# Calculate discount factors (e^-rT)\n",
        "rate = 0.05\n",
        "expiries = np.array([0.5, 1.0, 2.0, 1.3])\n",
        "discount_factors = np.exp(-rate * expiries)\n",
        "# Current value of assets.\n",
        "spots = np.array([0.9, 1.0, 1.1, 0.9])\n",
        "# Forward value of assets at expiry.\n",
        "forwards = spots / discount_factors\n",
        "# Strike prices given by:\n",
        "strikes = np.array([1.0, 2.0, 1.0, 0.5])\n",
        "# Indicate whether options are call (True) or put (False)\n",
        "is_call_options = np.array([True, True, False, False])\n",
        "# The volatilites at which the options are to be priced.\n",
        "volatilities = np.array([0.7, 1.1, 2.0, 0.5])\n",
        "# Calculate the prices given the volatilities and term structure.\n",
        "prices = option_price(\n",
        "      volatilities=volatilities,\n",
        "      strikes=strikes,\n",
        "      expiries=expiries,\n",
        "      forwards=forwards,\n",
        "      discount_factors=discount_factors,\n",
        "      is_call_options=is_call_options)\n",
        "prices"
      ]
    },
    {
      "cell_type": "markdown",
      "metadata": {
        "colab_type": "text",
        "id": "yoUBFQaNst-D"
      },
      "source": [
        "We now show how to invert the Black Scholes pricing model in order to recover the volatility which generated a given market price under a particular term structure. Again, the implied volatility interface operates on batches of options, with each index of the arrays corresponding to an independent problem to solve. "
      ]
    },
    {
      "cell_type": "code",
      "execution_count": 0,
      "metadata": {
        "colab": {
          "height": 34
        },
        "colab_type": "code",
        "executionInfo": {
          "elapsed": 233,
          "status": "ok",
          "timestamp": 1568121774787,
          "user": {
            "displayName": "",
            "photoUrl": "",
            "userId": ""
          },
          "user_tz": -60
        },
        "id": "QrxQV8BgXqIS",
        "outputId": "916621b2-b53b-4447-93a5-f7bf6183a786"
      },
      "outputs": [
        {
          "data": {
            "text/plain": [
              "\u003ctf.Tensor: id=24393, shape=(4,), dtype=float64, numpy=array([0.7, 1.1, 2. , 0.5])\u003e"
            ]
          },
          "execution_count": 24,
          "metadata": {
            "tags": []
          },
          "output_type": "execute_result"
        }
      ],
      "source": [
        "# Initial positions for finding implied vol.\n",
        "initial_volatilities = np.array([2.0, 0.5, 2.0, 0.5])\n",
        "# Identifier whether the option is call (True) or put (False)\n",
        "is_call_options = np.array([True, True, False, False])\n",
        "# Find the implied vols beginning at initial_volatilities.\n",
        "implied_vols = implied_vol(\n",
        "    prices=prices,\n",
        "    strikes=strikes,\n",
        "    expiries=expiries,\n",
        "    forwards=forwards,\n",
        "    discount_factors=discount_factors,\n",
        "    is_call_options=is_call_options,\n",
        "    initial_volatilities=initial_volatilities,\n",
        "    validate_args=True,\n",
        "    tolerance=1e-9,\n",
        "    max_iterations=200,\n",
        "    name=None,\n",
        "    dtype=None)\n",
        "implied_vols"
      ]
    },
    {
      "cell_type": "markdown",
      "metadata": {
        "colab_type": "text",
        "id": "JH1b0hV_V-v7"
      },
      "source": [
        "Which should show that `implied_vols` is very close to the `volatilities` used to generate the market prices. Here we provided initial starting positions, however, by default `tff` will chose an adaptive initialisation position as discussed below."
      ]
    },
    {
      "cell_type": "markdown",
      "metadata": {
        "colab_type": "text",
        "id": "snuGZWMvhS-4"
      },
      "source": [
        "# Black Scholes implied volatility convergence region\n",
        "\n",
        "We now look at some charts which provide a basic illustration of the convergence region of the implemented root finding method.\n",
        "\n",
        "The library provides an implied volatility root finding method. If not provided\n",
        "with an initial starting point, a starting point will be found using the Radiocic-Polya approximation [1] to the implied volatility. This section illustrates both call styles and the comparitive advantage of using targeted initialisation.\n",
        "\n",
        "In this example:\n",
        "\n",
        "* Forward prices are fixed at 1.\n",
        "* Strike prices are from uniform grid on (0, 5).\n",
        "* Expiries are fixed at 1.\n",
        "* Volatilities are from a uniform grid on (0, 5).\n",
        "* Fixed initial volatilities (where used) are 1.\n",
        "* Option prices were computed by tff.black_scholes.option_price on the other data.\n",
        "* Discount factors are 1.\n",
        "\n",
        "\n",
        "[1] Dan Stefanica and Rados Radoicic. [*An explicit implied volatility formula.*](https://papers.ssrn.com/sol3/papers.cfm?abstract_id=2908494) International Journal of Theoretical and Applied Finance. Vol. 20, no. 7, 2017.\n",
        "    "
      ]
    },
    {
      "cell_type": "code",
      "execution_count": 0,
      "metadata": {
        "cellView": "form",
        "colab": {},
        "colab_type": "code",
        "id": "HCbHFn-mha1O"
      },
      "outputs": [],
      "source": [
        "#@title Example data on a grid.\n",
        "def grid_data(strike_vec, vol_vec, dtype=np.float64):\n",
        "  \"\"\"Construct dummy data with known ground truth.\n",
        "  \n",
        "  For a grid of known strikes by volatilities, return the price.\n",
        "  Assumes the forward prices and expiries are fixed at unity.\n",
        "  \n",
        "  Args:\n",
        "    strikes: a vector of strike prices from which to form the grid.\n",
        "    volatilities: a vector of volatilities from which to form the grid.\n",
        "    dtype: a numpy datatype for the element values of returned arrays.\n",
        "  \n",
        "  Returns:\n",
        "    (forwards, strikes, expiries, true_volatilities, prices) all of\n",
        "    which are identically shaped numpy arrays.\n",
        "  \"\"\"\n",
        "  nstrikes = len(strike_vec)\n",
        "  nvolatilities = len(vol_vec)\n",
        "  vol_ones = np.matrix(np.ones((1, nvolatilities)))\n",
        "  strike_ones = np.matrix(np.ones((nstrikes, 1)))\n",
        "  strikes = np.array(np.matrix(strike_vec).T * vol_ones, dtype=dtype)\n",
        "  volatilities = np.array(strike_ones * np.matrix(vol_vec), dtype=dtype)\n",
        "  expiries = np.ones_like(strikes, dtype=dtype)\n",
        "  forwards = np.ones_like(strikes, dtype=dtype)\n",
        "  initials = np.ones_like(strikes, dtype=dtype)\n",
        "  prices = option_price(volatilities=volatilities,\n",
        "                        strikes=strikes,\n",
        "                        expiries=expiries,\n",
        "                        forwards=forwards,\n",
        "                        dtype=tf.float64)\n",
        "  return (forwards, strikes, expiries, volatilities, initials, prices)"
      ]
    },
    {
      "cell_type": "code",
      "execution_count": 0,
      "metadata": {
        "colab": {},
        "colab_type": "code",
        "id": "tmjDwTUAg5Ov"
      },
      "outputs": [],
      "source": [
        "# Build a 1000 x 1000 grid of options find the implied volatilities of.\n",
        "nstrikes = 1000\n",
        "nvolatilities = 1000\n",
        "strike_vec = np.linspace(0.0001, 5.0, nstrikes)\n",
        "vol_vec = np.linspace(0.0001, 5.0, nvolatilities)\n",
        "max_iterations = 50\n",
        "grid = grid_data(strike_vec, vol_vec)\n",
        "forwards0, strikes0, expiries0, volatilities0, initials0, prices0 = grid\n",
        "initials0 = discounts0 = signs0 = np.ones_like(prices0)"
      ]
    },
    {
      "cell_type": "code",
      "execution_count": 0,
      "metadata": {
        "colab": {},
        "colab_type": "code",
        "id": "WtwioKKUAHZm"
      },
      "outputs": [],
      "source": [
        "# Implied volitilities, starting the root finder at 1.\n",
        "implied_vols_fix = implied_vol(\n",
        "    prices=prices0,\n",
        "    strikes=strikes0,\n",
        "    expiries=expiries0,\n",
        "    forwards=forwards0,\n",
        "    initial_volatilities=initials0,\n",
        "    validate_args=False,\n",
        "    tolerance=1e-8,\n",
        "    max_iterations=max_iterations)"
      ]
    },
    {
      "cell_type": "code",
      "execution_count": 0,
      "metadata": {
        "colab": {},
        "colab_type": "code",
        "id": "qgzM3DCxCHaJ"
      },
      "outputs": [],
      "source": [
        "# Implied vols starting the root finder at the Radiocic-Polya approximation.\n",
        "implied_vols_polya = implied_vol(\n",
        "    prices=prices0,\n",
        "    strikes=strikes0,\n",
        "    expiries=expiries0,\n",
        "    forwards=forwards0,\n",
        "    validate_args=False,\n",
        "    tolerance=1e-8,\n",
        "    max_iterations=max_iterations)"
      ]
    },
    {
      "cell_type": "code",
      "execution_count": 0,
      "metadata": {
        "cellView": "form",
        "colab": {
          "height": 624
        },
        "colab_type": "code",
        "executionInfo": {
          "elapsed": 2333,
          "status": "ok",
          "timestamp": 1568121679589,
          "user": {
            "displayName": "",
            "photoUrl": "",
            "userId": ""
          },
          "user_tz": -60
        },
        "id": "ZDb05xZFDF9x",
        "outputId": "72f841e4-e844-4b87-9b8f-cb472fd7b6e6"
      },
      "outputs": [
        {
          "data": {
            "text/plain": [
              "\u003cmatplotlib.figure.Figure at 0x2e21eb7ec6d0\u003e"
            ]
          },
          "metadata": {
            "tags": []
          },
          "output_type": "display_data"
        },
        {
          "data": {
            "image/png": "[encoded data removed]",
            "text/plain": [
              "\u003cmatplotlib.figure.Figure at 0x2e21eb7ec990\u003e"
            ]
          },
          "metadata": {
            "tags": []
          },
          "output_type": "display_data"
        }
      ],
      "source": [
        "#@title Visualisation of accuracy\n",
        "plt.clf()\n",
        "\n",
        "thinner = 100\n",
        "fig, _axs = plt.subplots(nrows=1, ncols=2)\n",
        "fig.subplots_adjust(hspace=0.3)\n",
        "axs = _axs.flatten()\n",
        "\n",
        "implied_vols = [implied_vols_fix, implied_vols_polya]\n",
        "titles = [\"Fixed initialisation implied vol minus true vol\", \"Radiocic-Polya initialised implied vol minus true vol\"]\n",
        "vmin = np.min(map(np.min, implied_vols))\n",
        "vmax = np.max(map(np.max, implied_vols))\n",
        "images = []\n",
        "\n",
        "for i in range(2):\n",
        "  _title = axs[i].set_title(titles[i])\n",
        "  _title.set_position([.5, 1.03])\n",
        "  im = axs[i].imshow(implied_vols[i] - volatilities0, origin=\"lower\", interpolation=\"none\", cmap=\"seismic\", vmin=-1.0, vmax=1.0)\n",
        "  images.append(im)\n",
        "  axs[i].set_xticks(np.arange(0, len(vol_vec), thinner))\n",
        "  axs[i].set_yticks(np.arange(0, len(strike_vec), thinner))\n",
        "  axs[i].set_xticklabels(np.round(vol_vec[0:len(vol_vec):thinner], 3))\n",
        "  axs[i].set_yticklabels(np.round(strike_vec[0:len(strike_vec):thinner], 3))\n",
        "  plt.colorbar(im, ax=axs[i], fraction=0.046, pad=0.00)\n",
        "  axs[i].set_ylabel('Strike')\n",
        "  axs[i].set_xlabel('True vol')\n",
        "\n",
        "plt.show()\n",
        "pass"
      ]
    },
    {
      "cell_type": "markdown",
      "metadata": {
        "colab_type": "text",
        "id": "riQUYitRzcND"
      },
      "source": [
        "Where the grey values represent `nan`s in the grid. Note that the bottom left corner of each image lies outside the bounds where inversion should be possible. The pattern of `nan` values for different values of a fixed initialisation strategy will be different (rerun the colab to see)."
      ]
    },
    {
      "cell_type": "markdown",
      "metadata": {
        "colab_type": "text",
        "id": "QjWPYQDeXuPP"
      },
      "source": [
        "# Black Scholes implied volatility initialisation strategy accuracy comparison\n",
        "\n",
        "We can also consider the median absolute error for fixed versus Radiocic-Polya initialisation of the root finder. We consider a clipped grid looking at performance away from the boundaries where extreme values or nans might occur."
      ]
    },
    {
      "cell_type": "code",
      "execution_count": 0,
      "metadata": {
        "colab": {},
        "colab_type": "code",
        "id": "rYN3kRIBUYnG"
      },
      "outputs": [],
      "source": [
        "# Indices for selecting the middle of the grid.\n",
        "vol_slice = np.arange(int(0.25*len(vol_vec)), int(0.75*len(vol_vec)))\n",
        "strike_slice = np.arange(int(0.25*len(strike_vec)), int(0.75*len(strike_vec)))"
      ]
    },
    {
      "cell_type": "code",
      "execution_count": 0,
      "metadata": {
        "colab": {
          "height": 34
        },
        "colab_type": "code",
        "executionInfo": {
          "elapsed": 155,
          "status": "ok",
          "timestamp": 1568121682225,
          "user": {
            "displayName": "",
            "photoUrl": "",
            "userId": ""
          },
          "user_tz": -60
        },
        "id": "PUndrAsGWtJP",
        "outputId": "7a940e11-85b9-4b81-f5ec-bd3de5d696a2"
      },
      "outputs": [
        {
          "data": {
            "text/plain": [
              "5.660064306134416e-09"
            ]
          },
          "execution_count": 20,
          "metadata": {
            "tags": []
          },
          "output_type": "execute_result"
        }
      ],
      "source": [
        "error_fix = implied_vols_fix.numpy() - volatilities0\n",
        "error_fix_sub = [error_fix[i, j] for i, j in zip(strike_slice, vol_slice)]\n",
        "# Calculate the median absolute error in the central portion of the the grid\n",
        "# for the fixed initialisation.\n",
        "median_error_fix = np.median( np.abs(error_fix_sub) )\n",
        "median_error_fix"
      ]
    },
    {
      "cell_type": "code",
      "execution_count": 0,
      "metadata": {
        "colab": {
          "height": 34
        },
        "colab_type": "code",
        "executionInfo": {
          "elapsed": 37,
          "status": "ok",
          "timestamp": 1568121682711,
          "user": {
            "displayName": "",
            "photoUrl": "",
            "userId": ""
          },
          "user_tz": -60
        },
        "id": "bsOVztzKW9zu",
        "outputId": "1967b67d-8309-45b5-fdd6-51db124ab56e"
      },
      "outputs": [
        {
          "data": {
            "text/plain": [
              "3.181876984115206e-11"
            ]
          },
          "execution_count": 21,
          "metadata": {
            "tags": []
          },
          "output_type": "execute_result"
        }
      ],
      "source": [
        "error_polya = implied_vols_polya.numpy() - volatilities0\n",
        "error_polya_sub = [error_polya[i, j] for i, j in zip(strike_slice, vol_slice)]\n",
        "# Calculate the median absolute error in the central portion of the the grid\n",
        "# for the Radiocic-Polya approximation.\n",
        "median_error_polya = np.median( np.abs(error_polya_sub) )\n",
        "median_error_polya"
      ]
    },
    {
      "cell_type": "code",
      "execution_count": 0,
      "metadata": {
        "colab": {
          "height": 34
        },
        "colab_type": "code",
        "executionInfo": {
          "elapsed": 225,
          "status": "ok",
          "timestamp": 1568121683597,
          "user": {
            "displayName": "",
            "photoUrl": "",
            "userId": ""
          },
          "user_tz": -60
        },
        "id": "dHlG7GrMX_iQ",
        "outputId": "053d7ee1-c90f-4c15-fead-81c4aa1dc739"
      },
      "outputs": [
        {
          "data": {
            "text/plain": [
              "177.88444790263713"
            ]
          },
          "execution_count": 22,
          "metadata": {
            "tags": []
          },
          "output_type": "execute_result"
        }
      ],
      "source": [
        "median_error_fix / median_error_polya"
      ]
    },
    {
      "cell_type": "markdown",
      "metadata": {
        "colab_type": "text",
        "id": "iVrJXz-EYgRc"
      },
      "source": [
        "So we see that both sets of implied volatilities have median absolute errors under the 1e-8 tolerance that we prescribed. However, adaptive initialisation of the root finder has improved the median accuracy of the final results by around two orders of magnitude."
      ]
    }
  ],
  "metadata": {
    "colab": {
      "collapsed_sections": [],
      "last_runtime": {
        "build_target": "",
        "kind": "local"
      },
      "name": "Black_Scholes_Price_and_Implied_Vol.ipynb",
      "provenance": [
        {
          "file_id": "1FrUFfehvzlVHKVuKwTqhxEXyFOL1A_DI",
          "timestamp": 1561016497834
        },
        {
          "file_id": "1tUYCGayyOH52L8cwioLuQZmC7vmW2RsR",
          "timestamp": 1560943932479
        }
      ]
    },
    "kernelspec": {
      "display_name": "Python 3",
      "name": "python3"
    }
  },
  "nbformat": 4,
  "nbformat_minor": 0
}
