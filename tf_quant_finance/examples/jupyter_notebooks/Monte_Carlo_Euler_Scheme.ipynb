{
  "cells": [
    {
      "cell_type": "markdown",
      "metadata": {
        "id": "EheA5_j_cEwc"
      },
      "source": [
        "##### Copyright 2019 Google LLC.\n",
        "\n",
        "Licensed under the Apache License, Version 2.0 (the \"License\");"
      ]
    },
    {
      "cell_type": "code",
      "execution_count": null,
      "metadata": {
        "id": "YCriMWd-pRTP"
      },
      "outputs": [],
      "source": [
        "#@title Licensed under the Apache License, Version 2.0 (the \"License\"); { display-mode: \"form\" }\n",
        "# you may not use this file except in compliance with the License.\n",
        "# You may obtain a copy of the License at\n",
        "#\n",
        "# https://www.apache.org/licenses/LICENSE-2.0\n",
        "#\n",
        "# Unless required by applicable law or agreed to in writing, software\n",
        "# distributed under the License is distributed on an \"AS IS\" BASIS,\n",
        "# WITHOUT WARRANTIES OR CONDITIONS OF ANY KIND, either express or implied.\n",
        "# See the License for the specific language governing permissions and\n",
        "# limitations under the License."
      ]
    },
    {
      "cell_type": "markdown",
      "metadata": {
        "id": "OvRwFTkqcp1e"
      },
      "source": [
        "# Monte Carlo Pricing in Tensorflow Quant Finance (TFF) using Euler Scheme\n",
        "\n",
        "\u003ctable class=\"tfo-notebook-buttons\" align=\"left\"\u003e\n",
        "  \u003ctd\u003e\n",
        "    \u003ca target=\"_blank\" href=\"https://colab.research.google.com/github/google/tf-quant-finance/blob/master/tf_quant_finance/examples/jupyter_notebooks/Monte_Carlo_Euler_Scheme.ipynb\"\u003e\u003cimg src=\"https://www.tensorflow.org/images/colab_logo_32px.png\" /\u003eRun in Google Colab\u003c/a\u003e\n",
        "  \u003c/td\u003e\n",
        "  \u003ctd\u003e\n",
        "    \u003ca target=\"_blank\" href=\"https://github.com/paolodelia99/tf-quant-finance/blob/master/tf_quant_finance/examples/jupyter_notebooks/Monte_Carlo_Euler_Scheme.ipynb\"\u003e\u003cimg src=\"https://www.tensorflow.org/images/GitHub-Mark-32px.png\" /\u003eView source on GitHub\u003c/a\u003e\n",
        "  \u003c/td\u003e\n",
        "\u003c/table\u003e"
      ]
    },
    {
      "cell_type": "code",
      "execution_count": null,
      "metadata": {
        "cellView": "form",
        "id": "uG8UAZXjeUhf",
        "jupyter": {
          "outputs_hidden": true
        }
      },
      "outputs": [],
      "source": [
        "#@title Upgrade to TensorFlow 2.5+\n",
        "!pip install --upgrade tensorflow"
      ]
    },
    {
      "cell_type": "code",
      "execution_count": null,
      "metadata": {
        "cellView": "form",
        "id": "QxMuce0vVKaL",
        "jupyter": {
          "outputs_hidden": true
        }
      },
      "outputs": [],
      "source": [
        "#@title Install TF Quant Finance\n",
        "!pip install tf-quant-finance"
      ]
    },
    {
      "cell_type": "code",
      "execution_count": null,
      "metadata": {
        "cellView": "form",
        "id": "roUegEh5eh04",
        "jupyter": {
          "outputs_hidden": true
        }
      },
      "outputs": [],
      "source": [
        "#@title Install QuantLib\n",
        "!pip install QuantLib-Python"
      ]
    },
    {
      "cell_type": "code",
      "execution_count": null,
      "metadata": {
        "colab": {
          "base_uri": "https://localhost:8080/"
        },
        "executionInfo": {
          "elapsed": 16,
          "status": "ok",
          "timestamp": 1629281741923,
          "user": {
            "displayName": "",
            "photoUrl": "",
            "userId": ""
          },
          "user_tz": -60
        },
        "id": "w3d7fZbDwivN",
        "outputId": "4218a7ea-0d0f-483b-c297-09a6c3f69b3b"
      },
      "outputs": [
        {
          "name": "stdout",
          "output_type": "stream",
          "text": [
            "Wed Aug 18 10:15:41 2021       \n",
            "+-----------------------------------------------------------------------------+\n",
            "| NVIDIA-SMI 470.57.02    Driver Version: 460.32.03    CUDA Version: 11.2     |\n",
            "|-------------------------------+----------------------+----------------------+\n",
            "| GPU  Name        Persistence-M| Bus-Id        Disp.A | Volatile Uncorr. ECC |\n",
            "| Fan  Temp  Perf  Pwr:Usage/Cap|         Memory-Usage | GPU-Util  Compute M. |\n",
            "|                               |                      |               MIG M. |\n",
            "|===============================+======================+======================|\n",
            "|   0  Tesla T4            Off  | 00000000:00:04.0 Off |                    0 |\n",
            "| N/A   47C    P8    10W /  70W |      0MiB / 15109MiB |      0%      Default |\n",
            "|                               |                      |                  N/A |\n",
            "+-------------------------------+----------------------+----------------------+\n",
            "                                                                               \n",
            "+-----------------------------------------------------------------------------+\n",
            "| Processes:                                                                  |\n",
            "|  GPU   GI   CI        PID   Type   Process name                  GPU Memory |\n",
            "|        ID   ID                                                   Usage      |\n",
            "|=============================================================================|\n",
            "|  No running processes found                                                 |\n",
            "+-----------------------------------------------------------------------------+\n"
          ]
        }
      ],
      "source": [
        "!nvidia-smi"
      ]
    },
    {
      "cell_type": "markdown",
      "metadata": {
        "id": "ku46LPe6Jswv"
      },
      "source": [
        "   Diffusion process $X(t) = (X_1(t), .. X_n(t))$ is a solution to a [Stochastic Differential Equation](https://en.wikipedia.org/wiki/Stochastic_differential_equation) (SDE)\n",
        "   $$dS_i = a_i(t, S) dt + \\sum_{j=1}^n S_{ij} (t, S) dW_j,\\ i \\in \\{1,.., n\\},$$\n",
        "\n",
        "where $n$ is the dimensionality of the diffusion, $\\{W_j\\}_{j=1}^n$ is $n$-dimensitonal Brownian motion, $a_i(t, S)$ is the instantaneous drift rate and the $S_{ij}(t)$ is the\n",
        "volatility matrix.\n",
        "\n",
        "In this colab we demonstrate how to draw samples from the difusion solution in TFF using the [Euler scheme](https://en.wikipedia.org/wiki/Euler%E2%80%93Maruyama_method). We also demonstrate how to use automatic differentiation framework for vega and delta computation and provide performance benchmarks.\n"
      ]
    },
    {
      "cell_type": "code",
      "execution_count": null,
      "metadata": {
        "id": "2nA2FSdTgcEM"
      },
      "outputs": [],
      "source": [
        "#@title Imports { display-mode: \"form\" }\n",
        "\n",
        "import matplotlib.pyplot as plt\n",
        "import numpy as np\n",
        "import time\n",
        "\n",
        "import tensorflow as tf\n",
        "\n",
        "import QuantLib as ql\n",
        "\n",
        " # tff for Tensorflow Finance\n",
        "import tf_quant_finance as tff\n",
        "\n",
        "from IPython.core.pylabtools import figsize\n",
        "figsize(21, 14) # better graph size for Colab  \n"
      ]
    },
    {
      "cell_type": "markdown",
      "metadata": {
        "id": "DaCP0d8mV_Yp"
      },
      "source": [
        "## Setting up the Euler sampling for European call option pricing under Black-Scholes\n",
        "\n",
        "The pricing function outputs prices on the grid `expiries x strikes`.\n",
        "\n",
        "Sampling is performed using `sample_paths` method of `GenericItoProcess` class. The user is free to provide their own drift and volatility function in order to sample from the desired process.\n",
        "\n",
        "For many processes there exist efficient specialized samplers and the user should feel free to explore the TFF [models module](https://github.com/paolodelia99/tf-quant-finance/tree/master/tf_quant_finance/models).\n",
        "\n",
        "In this example, however, we consider only `GenericItoProcess`.\n",
        "\n"
      ]
    },
    {
      "cell_type": "code",
      "execution_count": null,
      "metadata": {
        "id": "WRYk-nfL_QQj"
      },
      "outputs": [],
      "source": [
        "#@title Set up parameters\n",
        "\n",
        "dtype = np.float64 #@param\n",
        "num_samples = 200000 #@param\n",
        "\n",
        "num_timesteps = 100 #@param\n",
        "\n",
        "expiries = [1.0] # This can be a rank 1 Tensor\n",
        "dt = 1. / num_timesteps\n",
        "rate = tf.constant(0.03, dtype=dtype)\n",
        "sigma = tf.constant(0.1, dtype=dtype)\n",
        "spot = tf.constant(700, dtype=dtype)\n",
        "\n",
        "strikes = tf.constant([600, 650, 680], dtype=dtype)\n",
        "\n",
        "def set_up_pricer(expiries, watch_params=False):\n",
        "    \"\"\"Set up European option pricing function under Black-Scholes model.\n",
        "    \n",
        "    Args:\n",
        "        expiries: List of expiries at which to to sample the trajectories.\n",
        "        watch_params: A Python bool. When `True`, gradients of the price function wrt the inputs\n",
        "          are computed more efficiently. \n",
        "    Returns:\n",
        "     A callable that accepts a rank 1 tensor of strikes, and scalar values for \n",
        "     the spots and  volatility values. The callable outputs prices of\n",
        "     the European call options on the grid `expiries x strikes`.\n",
        "    \"\"\"\n",
        "    def price_eu_options(strikes, spot, sigma):\n",
        "        # Define drift and volatility functions. \n",
        "        def drift_fn(t, x):\n",
        "          del t, x\n",
        "          return rate - 0.5 * sigma**2\n",
        "        def vol_fn(t, x):\n",
        "          del t, x\n",
        "          return tf.reshape(sigma, [1, 1])\n",
        "        # Use GenericItoProcess class to set up the Ito process\n",
        "        process = tff.models.GenericItoProcess(\n",
        "            dim=1,\n",
        "            drift_fn=drift_fn,\n",
        "            volatility_fn=vol_fn,\n",
        "            dtype=dtype)\n",
        "        log_spot = tf.math.log(tf.reduce_mean(spot))\n",
        "        if watch_params:\n",
        "            watch_params_list = [sigma]\n",
        "        else:\n",
        "            watch_params_list = None\n",
        "        paths = process.sample_paths(\n",
        "            expiries, num_samples=num_samples,\n",
        "            initial_state=log_spot, \n",
        "            watch_params=watch_params_list,\n",
        "            # Select a random number generator\n",
        "            random_type=tff.math.random.RandomType.PSEUDO_ANTITHETIC,\n",
        "            time_step=dt)\n",
        "        prices = (tf.exp(-tf.expand_dims(rate * expiries, axis=-1))\n",
        "                  * tf.reduce_mean(tf.nn.relu(tf.math.exp(paths) - strikes), 0))\n",
        "        return prices\n",
        "    return price_eu_options\n",
        "\n",
        "price_eu_options = tf.function(set_up_pricer(expiries))\n"
      ]
    },
    {
      "cell_type": "code",
      "execution_count": null,
      "metadata": {
        "colab": {
          "base_uri": "https://localhost:8080/"
        },
        "executionInfo": {
          "elapsed": 8436,
          "status": "ok",
          "timestamp": 1629281826682,
          "user": {
            "displayName": "",
            "photoUrl": "",
            "userId": ""
          },
          "user_tz": -60
        },
        "id": "LAzzV5Da_QQm",
        "outputId": "eb01ab9d-ca9f-430a-a79d-0b1061e232be"
      },
      "outputs": [
        {
          "name": "stdout",
          "output_type": "stream",
          "text": [
            "Time (seconds) to price a European Call Option on a CPU:  2.1619842052459717\n"
          ]
        }
      ],
      "source": [
        "#@title Pricing time a CPU. Note TensorFlow does automatic multithreading.\n",
        "\n",
        "# First run (includes graph optimization time)\n",
        "with tf.device(\"/cpu:0\"):\n",
        "    price_eu_options(strikes, spot, sigma)\n",
        "\n",
        "# Second run (excludes graph optimization time)\n",
        "time_start = time.time()\n",
        "with tf.device(\"/cpu:0\"):\n",
        "    prices = price_eu_options(strikes, spot, sigma)\n",
        "time_end = time.time()\n",
        "\n",
        "time_price_cpu = time_end - time_start\n",
        "print(\"Time (seconds) to price a European Call Option on a CPU: \", time_price_cpu)"
      ]
    },
    {
      "cell_type": "markdown",
      "metadata": {
        "id": "1AXfFFtYPdkK"
      },
      "source": [
        "### Better performance with XLA\n",
        "\n",
        "A quick guide on XLA is available on [TensorFlow website](https://www.tensorflow.org/xla).\n",
        "Roughly, XLA compiler generates a binary for the desired architecture (CPU/GPU/TPU). When underlying TF graph consists of\n",
        "many nodes, XLA might provide a significant speed up.\n",
        "\n",
        "Below we use `tf.function` with `jit_compile=True` to indicate that the whole Monte Carlo graph should be XLA-compiled."
      ]
    },
    {
      "cell_type": "code",
      "execution_count": null,
      "metadata": {
        "id": "y65_Lj6jPdkK"
      },
      "outputs": [],
      "source": [
        "price_eu_options_xla = tf.function(set_up_pricer(expiries), jit_compile=True)"
      ]
    },
    {
      "cell_type": "code",
      "execution_count": null,
      "metadata": {
        "colab": {
          "base_uri": "https://localhost:8080/"
        },
        "executionInfo": {
          "elapsed": 2971,
          "status": "ok",
          "timestamp": 1629281898490,
          "user": {
            "displayName": "",
            "photoUrl": "",
            "userId": ""
          },
          "user_tz": -60
        },
        "id": "EwrwdkWhPdkN",
        "outputId": "6c25bd91-48b1-49ad-eed6-745896da63ab"
      },
      "outputs": [
        {
          "name": "stdout",
          "output_type": "stream",
          "text": [
            "Time (seconds) to price a European Call Option on a CPU with XLA:  0.7147080898284912\n"
          ]
        }
      ],
      "source": [
        "#@title Pricing times on a CPU with XLA compilation\n",
        "\n",
        "# First run (includes graph optimization time)\n",
        "with tf.device(\"/cpu:0\"):\n",
        "    price_eu_options_xla(strikes, spot, sigma)\n",
        "\n",
        "# Second run (excludes graph optimization time)\n",
        "time_start = time.time()\n",
        "with tf.device(\"/cpu:0\"):\n",
        "    prices = price_eu_options_xla(strikes, spot, sigma)\n",
        "time_end = time.time()\n",
        "\n",
        "time_price_cpu_xla = time_end - time_start\n",
        "print(\"Time (seconds) to price a European Call Option on a CPU with XLA: \", time_price_cpu_xla)"
      ]
    },
    {
      "cell_type": "markdown",
      "metadata": {
        "id": "IXZnDEV-PdkR"
      },
      "source": [
        "### For the reference we provide performance of the Monte Carlo pricer in QuantLib"
      ]
    },
    {
      "cell_type": "code",
      "execution_count": null,
      "metadata": {
        "colab": {
          "base_uri": "https://localhost:8080/"
        },
        "executionInfo": {
          "elapsed": 291,
          "status": "ok",
          "timestamp": 1629281918258,
          "user": {
            "displayName": "",
            "photoUrl": "",
            "userId": ""
          },
          "user_tz": -60
        },
        "id": "C1Rjiwe9_QQp",
        "outputId": "f0640bf9-1f1e-4fb9-c716-ca8467430bc6"
      },
      "outputs": [
        {
          "name": "stdout",
          "output_type": "stream",
          "text": [
            "Time (seconds) to price a European Call Option using QuantLib:  11.273834705352783\n"
          ]
        }
      ],
      "source": [
        "#@title Monte Carlo sampling in QuantLib\n",
        "\n",
        "num_samples = 200000 #@param\n",
        "\n",
        "num_timesteps = 100 #@param\n",
        "\n",
        "expiry = 1.0\n",
        "\n",
        "calculation_date = ql.Date(1, 1, 2010)\n",
        "maturity_date = ql.Date(1, 1, 2011)\n",
        "day_count = ql.Thirty360(ql.Thirty360.BondBasis)\n",
        "calendar = ql.NullCalendar()\n",
        "\n",
        "ql_strike_price = 550\n",
        "sigma_ql = 0.1\n",
        "ql_volatility = ql.SimpleQuote(sigma_ql)\n",
        "ql_risk_free_rate = 0.03\n",
        "option_type = ql.Option.Call\n",
        "\n",
        "ql.Settings.instance().evaluationDate = calculation_date\n",
        "payoff = ql.PlainVanillaPayoff(option_type, ql_strike_price)\n",
        "\n",
        "eu_exercise = ql.EuropeanExercise(maturity_date)\n",
        "european_option_ql = ql.VanillaOption(payoff, eu_exercise)\n",
        "\n",
        "flat_ts = ql.YieldTermStructureHandle(\n",
        "    ql.FlatForward(calculation_date, ql_risk_free_rate, day_count)\n",
        ")\n",
        "flat_vol_ts = ql.BlackVolTermStructureHandle(\n",
        "    ql.BlackConstantVol(calculation_date, calendar,\n",
        "                        ql.QuoteHandle(ql_volatility), day_count)\n",
        ")\n",
        "\n",
        "spot_ql = 700\n",
        "spot_price = ql.SimpleQuote(spot_ql)\n",
        "spot_handle = ql.QuoteHandle(\n",
        "    spot_price\n",
        ")\n",
        "bsm_process = ql.BlackScholesProcess(spot_handle,\n",
        "                                      flat_ts,\n",
        "                                      flat_vol_ts)\n",
        "\n",
        "# Compute the same price number_of_options times\n",
        "\n",
        "engine = ql.MCEuropeanEngine(bsm_process, \"PseudoRandom\",\n",
        "                             timeSteps=num_timesteps,\n",
        "                             requiredSamples=num_samples,\n",
        "                             seed=42)\n",
        "\n",
        "european_option_ql.setPricingEngine(engine)\n",
        "# Price\n",
        "t = time.time()\n",
        "price_ql = european_option_ql.NPV()\n",
        "time_price_ql = time.time() - t\n",
        "print(\"Time (seconds) to price a European Call Option using QuantLib: \", time_price_ql)\n"
      ]
    },
    {
      "cell_type": "code",
      "execution_count": null,
      "metadata": {
        "colab": {
          "base_uri": "https://localhost:8080/",
          "height": 553
        },
        "executionInfo": {
          "elapsed": 306,
          "status": "ok",
          "timestamp": 1629281929998,
          "user": {
            "displayName": "",
            "photoUrl": "",
            "userId": ""
          },
          "user_tz": -60
        },
        "id": "V2ms9TA7_QQr",
        "outputId": "21c55ab9-2a4d-43b9-b1ec-3cc1de24227c"
      },
      "outputs": [
        {
          "data": {
            "image/png": "[encoded data removed]",
            "text/plain": [
              "\u003cFigure size 864x648 with 1 Axes\u003e"
            ]
          },
          "metadata": {
            "needs_background": "light",
            "tags": []
          },
          "output_type": "display_data"
        }
      ],
      "source": [
        "#@title Plot the results\n",
        "\n",
        "ind = np.arange(1)  # the x locations for the groups\n",
        "width = 0.35  # the width of the bars\n",
        "\n",
        "fig, ax = plt.subplots()\n",
        "\n",
        "fig.set_figheight(9)\n",
        "fig.set_figwidth(12)\n",
        "\n",
        "ax.bar(ind - width/2, [time_price_cpu], width,\n",
        "       label='TensorFlow (CPU)', color='darkorange')\n",
        "ax.bar(ind + width/2, [time_price_ql], width,\n",
        "       label='QuantLib')\n",
        "\n",
        "# Add some text for labels, title and custom x-axis tick labels, etc.\n",
        "ax.set_ylabel('Time (sec) to sample {}'.format(num_samples))\n",
        "ax.set_title('Monte Carlo sampling comparison')\n",
        "ax.set_xticks(ind)\n",
        "ax.legend()\n",
        "\n",
        "\n",
        "plt.show()"
      ]
    },
    {
      "cell_type": "markdown",
      "metadata": {
        "id": "o6E1tQK5PdkX"
      },
      "source": [
        "# GPU vs CPU performace\n",
        "\n",
        "Above one can see that TF effectively applies multithreading to achieve the best possible CPU performance. If the user has access to a good GPU, additional boost can be achieved as demonstrated below.\n",
        "\n",
        "For this specific model XLA provides significant speedup for both CPU and GPU\n",
        "platforms.\n",
        "\n",
        "Tesla V100 provides 100x speed up compared to a cloud CPU with 8 logical cores\n",
        "(`n1-standard-8` machine type on Google Cloud Platform)."
      ]
    },
    {
      "cell_type": "code",
      "execution_count": null,
      "metadata": {
        "id": "9z78R5OtPdkX"
      },
      "outputs": [],
      "source": [
        "#@title Pricing times on CPU and GPU platforms\n",
        "\n",
        "# CPU without XLA\n",
        "with tf.device(\"/cpu:0\"):\n",
        "    price_eu_options(strikes, spot, sigma)\n",
        "time_start = time.time()\n",
        "with tf.device(\"/cpu:0\"):\n",
        "    prices = price_eu_options(strikes, spot, sigma)\n",
        "time_end = time.time()\n",
        "time_price_cpu = time_end - time_start\n",
        "\n",
        "# CPU with XLA\n",
        "with tf.device(\"/cpu:0\"):\n",
        "    price_eu_options_xla(strikes, spot, sigma)\n",
        "time_start = time.time()\n",
        "with tf.device(\"/cpu:0\"):\n",
        "    prices = price_eu_options_xla(strikes, spot, sigma)\n",
        "time_end = time.time()\n",
        "time_price_cpu_xla = time_end - time_start\n",
        "\n",
        "# GPU without XLA\n",
        "with tf.device(\"/gpu:0\"):\n",
        "    price_eu_options(strikes, spot, sigma)\n",
        "# Second run (excludes graph optimization time)\n",
        "time_start = time.time()\n",
        "with tf.device(\"/gpu:0\"):\n",
        "    prices = price_eu_options(strikes, spot, sigma)\n",
        "time_end = time.time()\n",
        "time_price_gpu = time_end - time_start\n",
        "\n",
        "# GPU with XLA\n",
        "with tf.device(\"/gpu:0\"):\n",
        "    price_eu_options_xla(strikes, spot, sigma)\n",
        "# Second run (excludes graph optimization time)\n",
        "time_start = time.time()\n",
        "with tf.device(\"/gpu:0\"):\n",
        "    prices = price_eu_options_xla(strikes, spot, sigma)\n",
        "time_end = time.time()\n",
        "time_price_gpu_xla = time_end - time_start\n"
      ]
    },
    {
      "cell_type": "code",
      "execution_count": null,
      "metadata": {
        "colab": {
          "base_uri": "https://localhost:8080/",
          "height": 553
        },
        "executionInfo": {
          "elapsed": 299,
          "status": "ok",
          "timestamp": 1629281949567,
          "user": {
            "displayName": "",
            "photoUrl": "",
            "userId": ""
          },
          "user_tz": -60
        },
        "id": "1tzvzqRMPdka",
        "outputId": "c5435022-749c-489e-8747-848bd10e1ff7"
      },
      "outputs": [
        {
          "data": {
            "image/png": "[encoded data removed]",
            "text/plain": [
              "\u003cFigure size 864x648 with 1 Axes\u003e"
            ]
          },
          "metadata": {
            "needs_background": "light",
            "tags": []
          },
          "output_type": "display_data"
        }
      ],
      "source": [
        "#@title Plot the results\n",
        "\n",
        "ind = np.arange(1)  # the x locations for the groups\n",
        "width = 0.35  # the width of the bars\n",
        "\n",
        "fig, ax = plt.subplots()\n",
        "\n",
        "fig.set_figheight(9)\n",
        "fig.set_figwidth(12)\n",
        "\n",
        "ax.bar(ind - width/8, [time_price_cpu], width / 8,\n",
        "       label='TensorFlow (CPU)')\n",
        "ax.bar(ind, [time_price_cpu_xla], width / 8,\n",
        "       label='TensorFlow (CPU XLA)')\n",
        "ax.bar(ind + width/8, [time_price_gpu], width / 8,\n",
        "       label='TensorFlow (GPU)')\n",
        "ax.bar(ind + width/4, [time_price_gpu_xla], width / 8,\n",
        "       label='TensorFlow (GPU XLA)')\n",
        "\n",
        "# Add some text for labels, title and custom x-axis tick labels, etc.\n",
        "ax.set_ylabel('Time (sec) to sample {}'.format(num_samples))\n",
        "ax.set_title('Monte Carlo sampling comparison')\n",
        "ax.set_xticks(ind)\n",
        "ax.legend()\n",
        "\n",
        "\n",
        "plt.show()"
      ]
    },
    {
      "cell_type": "markdown",
      "metadata": {
        "id": "NpdgpaosPdkc"
      },
      "source": [
        "# Greek computation \n",
        "\n",
        "TF provides framework for automatic differentiation. Below we demostrate how to compute vega and delta for the European call options and compare the estimated results ti the true values."
      ]
    },
    {
      "cell_type": "code",
      "execution_count": null,
      "metadata": {
        "id": "YDmea-ACPdkd"
      },
      "outputs": [],
      "source": [
        "# Set up the pricer\n",
        "expiries = [0.5, 1.0]\n",
        "strikes = tf.constant([600, 650, 680], dtype=dtype)\n",
        "sigma = tf.constant(0.1, dtype=dtype)\n",
        "price_eu_options = set_up_pricer(expiries, watch_params=True)"
      ]
    },
    {
      "cell_type": "code",
      "execution_count": null,
      "metadata": {
        "id": "r1WQJM-KPdkf"
      },
      "outputs": [],
      "source": [
        "price_eu_options_no_watched_params = set_up_pricer(expiries)\n",
        "@tf.function(jit_compile=True)\n",
        "def price_eu_options_xla(strikes, spot, sigma):\n",
        "    return price_eu_options_no_watched_params(strikes, spot, sigma)\n",
        "\n",
        "@tf.function\n",
        "def vega_fn(sigma):\n",
        "    fn = lambda sigma: price_eu_options(strikes, spot, sigma)\n",
        "    return tff.math.fwd_gradient(fn, sigma,\n",
        "                                 use_gradient_tape=True)\n",
        "\n",
        "@tf.function(jit_compile=True)\n",
        "def vega_fn_xla(sigma):\n",
        "    return vega_fn(sigma)\n",
        "\n",
        "@tf.function\n",
        "def delta_fn(spot):\n",
        "    fn = lambda spot: price_eu_options(strikes, spot, sigma)\n",
        "    return tff.math.fwd_gradient(fn, spot,\n",
        "                                 use_gradient_tape=True)\n",
        "\n",
        "@tf.function(jit_compile=True)\n",
        "def delta_fn_xla(spot):\n",
        "    return delta_fn(spot)"
      ]
    },
    {
      "cell_type": "code",
      "execution_count": null,
      "metadata": {
        "colab": {
          "base_uri": "https://localhost:8080/"
        },
        "executionInfo": {
          "elapsed": 1305,
          "status": "ok",
          "timestamp": 1629282288180,
          "user": {
            "displayName": "",
            "photoUrl": "",
            "userId": ""
          },
          "user_tz": -60
        },
        "id": "JfUgriuUPdkh",
        "outputId": "1f4954de-d9bc-4ef4-cae6-fcc07cb0a1f3"
      },
      "outputs": [
        {
          "name": "stdout",
          "output_type": "stream",
          "text": [
            "Estimated deltas on grid expiries x strikes: \n",
            " [[0.99248277 0.90309587 0.74544609]\n",
            " [0.97055601 0.86385565 0.73988398]]\n"
          ]
        }
      ],
      "source": [
        "estimated_deltas = delta_fn_xla(spot)\n",
        "print(\"Estimated deltas on grid expiries x strikes: \\n\", estimated_deltas.numpy())"
      ]
    },
    {
      "cell_type": "code",
      "execution_count": null,
      "metadata": {
        "colab": {
          "base_uri": "https://localhost:8080/"
        },
        "executionInfo": {
          "elapsed": 1479,
          "status": "ok",
          "timestamp": 1629282291509,
          "user": {
            "displayName": "",
            "photoUrl": "",
            "userId": ""
          },
          "user_tz": -60
        },
        "id": "2TnariSOPdkk",
        "outputId": "48d871bc-7466-4206-c635-c3f2710f3ca4"
      },
      "outputs": [
        {
          "name": "stdout",
          "output_type": "stream",
          "text": [
            "Estimated vegas on grid expiries x strikes: \n",
            " [[  9.56612853  83.84885948 158.35179387]\n",
            " [ 46.27546525 153.31475986 226.91236681]]\n"
          ]
        }
      ],
      "source": [
        "estimated_vegas = vega_fn_xla(sigma)\n",
        "print(\"Estimated vegas on grid expiries x strikes: \\n\", estimated_vegas.numpy())"
      ]
    },
    {
      "cell_type": "code",
      "execution_count": null,
      "metadata": {
        "id": "8Ke8hsu7Pdkm"
      },
      "outputs": [],
      "source": [
        "expiries_tensor = tf.expand_dims(tf.convert_to_tensor(expiries, dtype=dtype), axis=1)\n",
        "true_delta_fn = lambda spot : tff.black_scholes.option_price(volatilities=sigma,\n",
        "                                                             strikes=strikes,\n",
        "                                                             spots=spot,\n",
        "                                                             expiries=expiries_tensor,\n",
        "                                                             discount_rates=rate)\n",
        "true_vega_fn = lambda sigma : tff.black_scholes.option_price(volatilities=sigma,\n",
        "                               strikes=strikes,\n",
        "                               spots=spot,\n",
        "                               expiries=expiries_tensor,\n",
        "                               discount_rates=rate)"
      ]
    },
    {
      "cell_type": "code",
      "execution_count": null,
      "metadata": {
        "colab": {
          "base_uri": "https://localhost:8080/"
        },
        "executionInfo": {
          "elapsed": 9,
          "status": "ok",
          "timestamp": 1629282296017,
          "user": {
            "displayName": "",
            "photoUrl": "",
            "userId": ""
          },
          "user_tz": -60
        },
        "id": "2TNBEHxZPdko",
        "outputId": "527bfa80-c0b0-4d8f-827a-e15508d620bd"
      },
      "outputs": [
        {
          "name": "stdout",
          "output_type": "stream",
          "text": [
            "True deltas on grid expiries x strikes: \n",
            " [[0.99239851 0.90243168 0.74454875]\n",
            " [0.97072164 0.8623811  0.73887319]]\n",
            "True vegas on grid expiries x strikes: \n",
            " [[ 10.37265092  85.31635365 159.08825372]\n",
            " [ 46.67659297 153.994105   227.5617336 ]]\n"
          ]
        }
      ],
      "source": [
        "true_delta = tff.math.fwd_gradient(true_delta_fn, spot)\n",
        "true_vega = tff.math.fwd_gradient(true_vega_fn, sigma)\n",
        "print(\"True deltas on grid expiries x strikes: \\n\", true_delta.numpy())\n",
        "print(\"True vegas on grid expiries x strikes: \\n\", true_vega.numpy())"
      ]
    },
    {
      "cell_type": "code",
      "execution_count": null,
      "metadata": {
        "colab": {
          "base_uri": "https://localhost:8080/"
        },
        "executionInfo": {
          "elapsed": 245,
          "status": "ok",
          "timestamp": 1629282298480,
          "user": {
            "displayName": "",
            "photoUrl": "",
            "userId": ""
          },
          "user_tz": -60
        },
        "id": "qKTyD12zPdkq",
        "outputId": "96e300ce-7d7f-485d-8ff1-0df07fe84e34"
      },
      "outputs": [
        {
          "name": "stdout",
          "output_type": "stream",
          "text": [
            "Relative error in delta estimation: \n",
            " 0.0017098568942449592\n",
            "Relative error in vega estimation: \n",
            " 0.0777547026302402\n"
          ]
        }
      ],
      "source": [
        "print(\"Relative error in delta estimation: \\n\", np.max(abs(estimated_deltas - true_delta) / true_delta))\n",
        "print(\"Relative error in vega estimation: \\n\", np.max(abs(estimated_vegas - true_vega) / true_vega))\n"
      ]
    },
    {
      "cell_type": "code",
      "execution_count": null,
      "metadata": {
        "id": "VAq-N-F-Pdks"
      },
      "outputs": [],
      "source": [
        "#@title Greek computation speed\n",
        "\n",
        "# Price CPU with XLA\n",
        "## warmup\n",
        "with tf.device(\"/cpu:0\"):\n",
        "    price_eu_options_xla(strikes, spot, sigma)\n",
        "## measure time\n",
        "time_start = time.time()\n",
        "with tf.device(\"/cpu:0\"):\n",
        "    prices = price_eu_options_xla(strikes, spot, sigma)\n",
        "time_end = time.time()\n",
        "time_price_cpu = time_end - time_start\n",
        "\n",
        "# Delta CPU with XLA\n",
        "## warmup\n",
        "with tf.device(\"/cpu:0\"):\n",
        "    delta_fn_xla(spot)\n",
        "## measure time\n",
        "time_start = time.time()\n",
        "with tf.device(\"/cpu:0\"):\n",
        "    delta_fn_xla(spot)\n",
        "time_end = time.time()\n",
        "time_delta_cpu = time_end - time_start\n",
        "\n",
        "# Vega CPU with XLA\n",
        "## warmup\n",
        "with tf.device(\"/cpu:0\"):\n",
        "    vega_fn_xla(spot)\n",
        "## measure time\n",
        "time_start = time.time()\n",
        "with tf.device(\"/cpu:0\"):\n",
        "    vega_fn_xla(spot)\n",
        "time_end = time.time()\n",
        "time_vega_cpu = time_end - time_start\n",
        "\n",
        "# Price GPU with XLA\n",
        "## warmup\n",
        "with tf.device(\"/gpu:0\"):\n",
        "    price_eu_options_xla(strikes, spot, sigma)\n",
        "## measure time\n",
        "time_start = time.time()\n",
        "with tf.device(\"/gpu:0\"):\n",
        "    prices = price_eu_options_xla(strikes, spot, sigma)\n",
        "time_end = time.time()\n",
        "time_price_gpu = time_end - time_start\n",
        "\n",
        "# Delta GPU with XLA\n",
        "## warmup\n",
        "with tf.device(\"/gpu:0\"):\n",
        "    delta_fn_xla(spot)\n",
        "## measure time\n",
        "time_start = time.time()\n",
        "with tf.device(\"/gpu:0\"):\n",
        "    delta_fn_xla(spot)\n",
        "time_end = time.time()\n",
        "time_delta_gpu = time_end - time_start\n",
        "\n",
        "# Vega GPU with XLA\n",
        "## warmup\n",
        "with tf.device(\"/gpu:0\"):\n",
        "    vega_fn_xla(spot)\n",
        "## measure time\n",
        "time_start = time.time()\n",
        "with tf.device(\"/gpu:0\"):\n",
        "    vega_fn_xla(spot)\n",
        "time_end = time.time()\n",
        "time_vega_gpu = time_end - time_start"
      ]
    },
    {
      "cell_type": "code",
      "execution_count": null,
      "metadata": {
        "cellView": "form",
        "colab": {
          "base_uri": "https://localhost:8080/",
          "height": 553
        },
        "executionInfo": {
          "elapsed": 261,
          "status": "ok",
          "timestamp": 1629282337416,
          "user": {
            "displayName": "",
            "photoUrl": "",
            "userId": ""
          },
          "user_tz": -60
        },
        "id": "VPAWot3lPdku",
        "outputId": "6058d5fd-2857-4a7f-d1bd-f0fdbac052eb"
      },
      "outputs": [
        {
          "data": {
            "image/png": "[encoded data removed]",
            "text/plain": [
              "\u003cFigure size 864x648 with 1 Axes\u003e"
            ]
          },
          "metadata": {
            "needs_background": "light",
            "tags": []
          },
          "output_type": "display_data"
        }
      ],
      "source": [
        "#@title CPU greeks computation speed\n",
        "\n",
        "ind = np.arange(1)  # the x locations for the groups\n",
        "width = 0.35  # the width of the bars\n",
        "\n",
        "fig, ax = plt.subplots()\n",
        "\n",
        "fig.set_figheight(9)\n",
        "fig.set_figwidth(12)\n",
        "\n",
        "ax.bar(ind - width/8, [time_price_cpu], width / 8,\n",
        "       label='Price time (CPU)')\n",
        "ax.bar(ind, [time_delta_cpu], width / 8,\n",
        "       label='Delta time (CPU)')\n",
        "ax.bar(ind + width/8, [time_vega_cpu], width / 8,\n",
        "       label='Vega time (CPU)')\n",
        "\n",
        "# Add some text for labels, title and custom x-axis tick labels, etc.\n",
        "ax.set_ylabel('Time (sec)')\n",
        "ax.set_title('Monte Carlo. Greeks computation on CPU')\n",
        "ax.set_xticks(ind)\n",
        "ax.legend()\n",
        "\n",
        "\n",
        "plt.show()"
      ]
    },
    {
      "cell_type": "code",
      "execution_count": null,
      "metadata": {
        "cellView": "form",
        "colab": {
          "base_uri": "https://localhost:8080/",
          "height": 553
        },
        "executionInfo": {
          "elapsed": 380,
          "status": "ok",
          "timestamp": 1629282354860,
          "user": {
            "displayName": "",
            "photoUrl": "",
            "userId": ""
          },
          "user_tz": -60
        },
        "id": "Kjw6GvTmPdkx",
        "outputId": "8b62f6b5-57c5-4d65-d95f-fbd6c9968383"
      },
      "outputs": [
        {
          "data": {
            "image/png": "[encoded data removed]",
            "text/plain": [
              "\u003cFigure size 864x648 with 1 Axes\u003e"
            ]
          },
          "metadata": {
            "needs_background": "light",
            "tags": []
          },
          "output_type": "display_data"
        }
      ],
      "source": [
        "#@title GPU greeks computation speed\n",
        "\n",
        "ind = np.arange(1)  # the x locations for the groups\n",
        "width = 0.35  # the width of the bars\n",
        "\n",
        "fig, ax = plt.subplots()\n",
        "\n",
        "fig.set_figheight(9)\n",
        "fig.set_figwidth(12)\n",
        "\n",
        "ax.bar(ind - width/8, [time_price_gpu], width / 8,\n",
        "       label='Price time (GPU)')\n",
        "ax.bar(ind, [time_delta_gpu], width / 8,\n",
        "       label='Delta time (GPU)')\n",
        "ax.bar(ind + width/8, [time_vega_gpu], width / 8,\n",
        "       label='Vega time (GPU)')\n",
        "\n",
        "# Add some text for labels, title and custom x-axis tick labels, etc.\n",
        "ax.set_ylabel('Time (sec)')\n",
        "ax.set_title('Monte Carlo. Greeks computation on GPU')\n",
        "ax.set_xticks(ind)\n",
        "ax.legend()\n",
        "\n",
        "\n",
        "plt.show()"
      ]
    }
  ],
  "metadata": {
    "colab": {
      "collapsed_sections": [],
      "last_runtime": {
        "build_target": "",
        "kind": "local"
      },
      "name": "Monte_Carlo_Euler_Scheme.ipynb",
      "provenance": [
        {
          "file_id": "1rT50234_4wb5VFNWyheBfyVlV-iuRA0t",
          "timestamp": 1553699488325
        },
        {
          "file_id": "1G2Wm6NzpdH3gPFsFTaLslgonTTkI0U0h",
          "timestamp": 1552493606270
        }
      ],
      "toc_visible": true
    },
    "environment": {
      "name": "tf2-gpu.2-1.m47",
      "type": "gcloud",
      "uri": "gcr.io/deeplearning-platform-release/tf2-gpu.2-1:m47"
    },
    "kernelspec": {
      "display_name": "Python 3",
      "language": "python",
      "name": "python3"
    },
    "language_info": {
      "codemirror_mode": {
        "name": "ipython",
        "version": 3
      },
      "file_extension": ".py",
      "mimetype": "text/x-python",
      "name": "python",
      "nbconvert_exporter": "python",
      "pygments_lexer": "ipython3",
      "version": "3.7.6"
    }
  },
  "nbformat": 4,
  "nbformat_minor": 0
}
