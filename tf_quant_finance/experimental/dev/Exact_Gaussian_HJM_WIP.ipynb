{
  "cells": [
    {
      "cell_type": "markdown",
      "metadata": {
        "id": "EheA5_j_cEwc"
      },
      "source": [
        "##### Copyright 2021 Google LLC.\n",
        "\n",
        "Licensed under the Apache License, Version 2.0 (the \"License\");"
      ]
    },
    {
      "cell_type": "code",
      "execution_count": null,
      "metadata": {
        "id": "YCriMWd-pRTP"
      },
      "outputs": [],
      "source": [
        "#@title Licensed under the Apache License, Version 2.0 (the \"License\"); { display-mode: \"form\" }\n",
        "# you may not use this file except in compliance with the License.\n",
        "# You may obtain a copy of the License at\n",
        "#\n",
        "# https://www.apache.org/licenses/LICENSE-2.0\n",
        "#\n",
        "# Unless required by applicable law or agreed to in writing, software\n",
        "# distributed under the License is distributed on an \"AS IS\" BASIS,\n",
        "# WITHOUT WARRANTIES OR CONDITIONS OF ANY KIND, either express or implied.\n",
        "# See the License for the specific language governing permissions and\n",
        "# limitations under the License."
      ]
    },
    {
      "cell_type": "code",
      "execution_count": null,
      "metadata": {
        "id": "LDA0UwzhdJMo"
      },
      "outputs": [],
      "source": [
        "!pip install tf-quant-finance"
      ]
    },
    {
      "cell_type": "code",
      "execution_count": null,
      "metadata": {
        "colab": {
          "base_uri": "https://localhost:8080/"
        },
        "executionInfo": {
          "elapsed": 8029,
          "status": "ok",
          "timestamp": 1627045868367,
          "user": {
            "displayName": "Cyril Chimisov",
            "photoUrl": "https://lh3.googleusercontent.com/a/default-user=s64",
            "userId": "02803093032097482871"
          },
          "user_tz": -60
        },
        "id": "4Lc3St-vfXHu",
        "outputId": "139bc321-5ecf-4a35-bc92-c956a4f9662a"
      },
      "outputs": [
        {
          "name": "stdout",
          "output_type": "stream",
          "text": [
            "Collecting QuantLib-Python\n",
            "  Downloading QuantLib_Python-1.18-py2.py3-none-any.whl (1.4 kB)\n",
            "Collecting QuantLib\n",
            "  Downloading QuantLib-1.23-cp37-cp37m-manylinux_2_12_x86_64.manylinux2010_x86_64.whl (20.1 MB)\n",
            "\u001b[K     |████████████████████████████████| 20.1 MB 62.7 MB/s \n",
            "\u001b[?25hInstalling collected packages: QuantLib, QuantLib-Python\n",
            "Successfully installed QuantLib-1.23 QuantLib-Python-1.18\n"
          ]
        }
      ],
      "source": [
        "!pip install QuantLib-Python"
      ]
    },
    {
      "cell_type": "code",
      "execution_count": null,
      "metadata": {
        "id": "WB1flXxowzyN"
      },
      "outputs": [],
      "source": [
        "import tensorflow as tf\n",
        "import numpy as np\n",
        "# tf.compat.v1.disable_eager_execution()\n",
        "from typing import Any, Dict, List, Tuple, Union, Optional\n",
        "import dataclasses\n",
        "from tf_quant_finance import datetime as dates\n",
        "from tf_quant_finance.models import generic_ito_process\n",
        "from tf_quant_finance.math import piecewise\n",
        "from tf_quant_finance.math import random\n",
        "\n",
        "from tf_quant_finance.math import gradient\n",
        "from tf_quant_finance.models import euler_sampling\n",
        "from tf_quant_finance.models import utils\n",
        "from tf_quant_finance.models.hjm import quasi_gaussian_hjm\n",
        "from tf_quant_finance.math.interpolation.linear import interpolate\n",
        "from tf_quant_finance.math.pde import fd_solvers\n",
        "\n",
        "import matplotlib.pyplot as plt"
      ]
    },
    {
      "cell_type": "markdown",
      "metadata": {
        "id": "3d32xJoMx9lp"
      },
      "source": [
        "# HJM Model"
      ]
    },
    {
      "cell_type": "code",
      "execution_count": null,
      "metadata": {
        "id": "F-Bp6OBxx6aA"
      },
      "outputs": [],
      "source": [
        "class GaussianHJM(quasi_gaussian_hjm.QuasiGaussianHJM):\n",
        "  r\"\"\"Gaussian HJM model for term-structure modeling.\n",
        "\n",
        "  Heath-Jarrow-Morton (HJM) model for the interest rate term-structre\n",
        "  modelling specifies the dynamics of the instantaneus forward rate `f(t,T)`\n",
        "  with maturity `T` at time `t` as follows:\n",
        "\n",
        "  ```None\n",
        "    df(t,T) = mu(t,T) dt + sum_i sigma_i(t,  T) * dW_i(t),\n",
        "    1 \u003c= i \u003c= n,\n",
        "  ```\n",
        "  where `mu(t,T)` and `sigma_i(t,T)` denote the drift and volatility\n",
        "  for the forward rate and `W_i` are Brownian motions with instantaneous\n",
        "  correlation `Rho`. The model above represents an `n-factor` HJM model.\n",
        "  The Gaussian HJM model assumes that the volatility `sigma_i(t,T)` is a\n",
        "  deterministic function of time (t). Under the risk-neutral measure, the\n",
        "  drift `mu(t,T)` is computed as\n",
        "\n",
        "  ```\n",
        "    mu(t,T) = sum_i sigma_i(t,T)  int_t^T sigma_(t,u) du\n",
        "  ```\n",
        "  Using the separability condition, the HJM model above can be formulated as\n",
        "  the following Markovian model:\n",
        "\n",
        "  ```None\n",
        "    sigma(t,T) = sigma(t) * h(T)    (Separability condition)\n",
        "  ```\n",
        "  A common choice for the function h(t) is `h(t) = exp(-kt)`. Using the above\n",
        "  parameterization of sigma(t,T), we obtain the following Markovian\n",
        "  formulation of the HJM model [1]:\n",
        "\n",
        "  ```None\n",
        "    HJM Model\n",
        "    dx_i(t) = (sum_j [y_ij(t)] - k_i * x_i(t)) dt + sigma_i(t) dW_i\n",
        "    dy_ij(t) = (rho_ij * sigma_i(t)*sigma_j(t) - (k_i + k_j) * y_ij(t)) dt\n",
        "    r(t) = sum_i x_i(t) + f(0, t)\n",
        "  ```\n",
        "  where `x` is an `n`-dimensional vector and `y` is an `nxn` dimensional\n",
        "  matrix. For Gaussian HJM model, the quantity `y_ij(t)` can be computed\n",
        "  analytically as follows:\n",
        "\n",
        "  ```None\n",
        "    y_ij(t) = rho_ij * exp(-k_i * t) * exp(-k_j * t) *\n",
        "              int_0^t exp((k_i+k_j) * s) * sigma_i(s) * sigma_j(s) ds\n",
        "  ```\n",
        "\n",
        "  The Gaussian HJM class implements the model outlined above by simulating the\n",
        "  state `x(t)` while analytically computing `y(t)`.\n",
        "\n",
        "  The price at time `t` of a zero-coupon bond maturing at `T` is given by\n",
        "  (Ref. [1]):\n",
        "\n",
        "  ```None\n",
        "  P(t,T) = P(0,T) / P(0,t) *\n",
        "           exp(-x(t) * G(t,T) - 0.5 * y(t) * G(t,T)^2)\n",
        "  ```\n",
        "\n",
        "  The HJM model implementation supports constant mean-reversion rate `k` and\n",
        "  `sigma(t)` can be an arbitrary function of `t`. We use Euler discretization\n",
        "  to simulate the HJM model.\n",
        "\n",
        "  #### Example. Simulate a 4-factor HJM process.\n",
        "\n",
        "  ```python\n",
        "  import numpy as np\n",
        "  import tensorflow as tf\n",
        "  import tf_quant_finance as tff\n",
        "\n",
        "  dtype = tf.float64\n",
        "  def discount_fn(x):\n",
        "    return 0.01 * tf.ones_like(x, dtype=dtype)\n",
        "\n",
        "  process = tff.models.hjm.GaussianHJM(\n",
        "      dim=4,\n",
        "      mean_reversion=[0.03, 0.01, 0.02, 0.005],  # constant mean-reversion\n",
        "      volatility=[0.01, 0.011, 0.015, 0.008],  # constant volatility\n",
        "      initial_discount_rate_fn=discount_fn,\n",
        "      dtype=dtype)\n",
        "  times = np.array([0.1, 1.0, 2.0, 3.0])\n",
        "  short_rate_paths, discount_paths, _, _ = process.sample_paths(\n",
        "      times,\n",
        "      num_samples=100000,\n",
        "      time_step=0.1,\n",
        "      random_type=tff.math.random.RandomType.STATELESS_ANTITHETIC,\n",
        "      seed=[1, 2],\n",
        "      skip=1000000)\n",
        "  ```\n",
        "\n",
        "  #### References:\n",
        "    [1]: Leif B. G. Andersen and Vladimir V. Piterbarg. Interest Rate Modeling.\n",
        "    Volume II: Term Structure Models.\n",
        "  \"\"\"\n",
        "\n",
        "  def __init__(self,\n",
        "               dim,\n",
        "               mean_reversion,\n",
        "               volatility,\n",
        "               initial_discount_rate_fn,\n",
        "               corr_matrix=None,\n",
        "               dtype=None,\n",
        "               name=None):\n",
        "    \"\"\"Initializes the HJM model.\n",
        "\n",
        "    Args:\n",
        "      dim: A Python scalar which corresponds to the number of factors comprising\n",
        "        the model.\n",
        "      mean_reversion: A real positive `Tensor` of shape `[dim]`. Corresponds to\n",
        "        the mean reversion rate of each factor.\n",
        "      volatility: A real positive `Tensor` of the same `dtype` and shape as\n",
        "        `mean_reversion` or a callable with the following properties: (a)  The\n",
        "          callable should accept a scalar `Tensor` `t` and returns a 1-D\n",
        "          `Tensor` of shape `[dim]`. The function returns instantaneous\n",
        "          volatility `sigma(t)`. When `volatility` is specified is a real\n",
        "          `Tensor`, each factor is assumed to have a constant instantaneous\n",
        "          volatility. Corresponds to the instantaneous volatility of each\n",
        "          factor.\n",
        "      initial_discount_rate_fn: A Python callable that accepts expiry time as a\n",
        "        real `Tensor` of the same `dtype` as `mean_reversion` and returns a\n",
        "        `Tensor` of shape `input_shape`. Corresponds to the zero coupon bond\n",
        "        yield at the present time for the input expiry time.\n",
        "      corr_matrix: A `Tensor` of shape `[dim, dim]` and the same `dtype` as\n",
        "        `mean_reversion`. Corresponds to the correlation matrix `Rho`.\n",
        "      dtype: The default dtype to use when converting values to `Tensor`s.\n",
        "        Default value: `None` which means that default dtypes inferred by\n",
        "          TensorFlow are used.\n",
        "      name: Python string. The name to give to the ops created by this class.\n",
        "        Default value: `None` which maps to the default name\n",
        "          `gaussian_hjm_model`.\n",
        "    \"\"\"\n",
        "    self._name = name or 'gaussian_hjm_model'\n",
        "    with tf.name_scope(self._name):\n",
        "      self._dtype = dtype or None\n",
        "      self._dim = dim\n",
        "      self._factors = dim\n",
        "\n",
        "      def _instant_forward_rate_fn(t):\n",
        "        t = tf.convert_to_tensor(t, dtype=self._dtype)\n",
        "\n",
        "        def _log_zero_coupon_bond(x):\n",
        "          r = tf.convert_to_tensor(\n",
        "              initial_discount_rate_fn(x), dtype=self._dtype)\n",
        "          return -r * x\n",
        "\n",
        "        rate = -gradient.fwd_gradient(\n",
        "            _log_zero_coupon_bond,\n",
        "            t,\n",
        "            use_gradient_tape=True,\n",
        "            unconnected_gradients=tf.UnconnectedGradients.ZERO)\n",
        "        return rate\n",
        "\n",
        "      def _initial_discount_rate_fn(t):\n",
        "        return tf.convert_to_tensor(\n",
        "            initial_discount_rate_fn(t), dtype=self._dtype)\n",
        "\n",
        "      self._instant_forward_rate_fn = _instant_forward_rate_fn\n",
        "      self._initial_discount_rate_fn = _initial_discount_rate_fn\n",
        "      self._mean_reversion = tf.convert_to_tensor(\n",
        "          mean_reversion, dtype=dtype, name='mean_reversion')\n",
        "\n",
        "      self._batch_shape = []\n",
        "      self._batch_rank = 0\n",
        "\n",
        "      # Setup volatility\n",
        "      if callable(volatility):\n",
        "        self._volatility = volatility\n",
        "      else:\n",
        "        volatility = tf.convert_to_tensor(volatility, dtype=dtype)\n",
        "        jump_locations = [[]] * dim\n",
        "        volatility = tf.expand_dims(volatility, axis=-1)\n",
        "        self._volatility = piecewise.PiecewiseConstantFunc(\n",
        "            jump_locations=jump_locations, values=volatility, dtype=dtype)\n",
        "\n",
        "      if corr_matrix is None:\n",
        "        corr_matrix = tf.eye(dim, dim, dtype=self._dtype)\n",
        "      self._rho = tf.convert_to_tensor(corr_matrix, dtype=dtype, name='rho')\n",
        "      self._sqrt_rho = tf.linalg.cholesky(self._rho)\n",
        "\n",
        "      # Volatility function\n",
        "      def _vol_fn(t, state):\n",
        "        \"\"\"Volatility function of Gaussian-HJM.\"\"\"\n",
        "        del state\n",
        "        volatility = self._volatility(tf.expand_dims(t, -1))  # shape=(dim, 1)\n",
        "        print(t, volatility)\n",
        "\n",
        "        return self._sqrt_rho * volatility\n",
        "\n",
        "      # Drift function\n",
        "      def _drift_fn(t, state):\n",
        "        \"\"\"Drift function of Gaussian-HJM.\"\"\"\n",
        "        x = state\n",
        "        # shape = [self._factors, self._factors]\n",
        "        y = self.state_y(tf.expand_dims(t, axis=-1))[..., 0]\n",
        "        drift = tf.math.reduce_sum(y, axis=-1) - self._mean_reversion * x\n",
        "        return drift\n",
        "\n",
        "      self._exact_discretization_setup(dim)\n",
        "      super(quasi_gaussian_hjm.QuasiGaussianHJM,\n",
        "            self).__init__(dim, _drift_fn, _vol_fn, dtype, self._name)\n",
        "\n",
        "  def sample_paths(self,\n",
        "                   times,\n",
        "                   num_samples,\n",
        "                   time_step=None,\n",
        "                   num_time_steps=None,\n",
        "                   random_type=None,\n",
        "                   seed=None,\n",
        "                   skip=0,\n",
        "                   use_euler_sampling=False,\n",
        "                   name=None):\n",
        "    \"\"\"Returns a sample of short rate paths from the HJM process.\n",
        "\n",
        "    For the Gaussian HJM model, the distribution of short rate and spot discount\n",
        "    curve can be computed analytically. By default the method uses the\n",
        "    analytical distribution to generate sample paths for short rate. Euler\n",
        "    sampling can be enabled through an input flag.\n",
        "\n",
        "    Args:\n",
        "      times: A real positive `Tensor` of shape `(num_times,)`. The times at\n",
        "        which the path points are to be evaluated.\n",
        "      num_samples: Positive scalar `int32` `Tensor`. The number of paths to\n",
        "        draw.\n",
        "      time_step: Scalar real `Tensor`. Maximal distance between time grid points\n",
        "        in Euler scheme. Used only when Euler scheme is applied.\n",
        "        Default value: `None`.\n",
        "      num_time_steps: An optional Scalar integer `Tensor` - a total number of\n",
        "        time steps performed by the algorithm. The maximal distance betwen\n",
        "        points in grid is bounded by\n",
        "        `times[-1] / (num_time_steps - times.shape[0])`.\n",
        "        Either this or `time_step` should be supplied.\n",
        "        Default value: `None`.\n",
        "      random_type: Enum value of `RandomType`. The type of (quasi)-random\n",
        "        number generator to use to generate the paths.\n",
        "        Default value: `None` which maps to the standard pseudo-random numbers.\n",
        "      seed: Seed for the random number generator. The seed is\n",
        "        only relevant if `random_type` is one of\n",
        "        `[STATELESS, PSEUDO, HALTON_RANDOMIZED, PSEUDO_ANTITHETIC,\n",
        "          STATELESS_ANTITHETIC]`. For `PSEUDO`, `PSEUDO_ANTITHETIC` and\n",
        "        `HALTON_RANDOMIZED` the seed should be an Python integer. For\n",
        "        `STATELESS` and  `STATELESS_ANTITHETIC `must be supplied as an integer\n",
        "        `Tensor` of shape `[2]`.\n",
        "        Default value: `None` which means no seed is set.\n",
        "      skip: `int32` 0-d `Tensor`. The number of initial points of the Sobol or\n",
        "        Halton sequence to skip. Used only when `random_type` is 'SOBOL',\n",
        "        'HALTON', or 'HALTON_RANDOMIZED', otherwise ignored.\n",
        "        Default value: `0`.\n",
        "      use_euler_sampling: An optional Python boolean to indicate if simulations\n",
        "        are performed using Euler sampling.\n",
        "        Default value: `False` indicating exact sampling to be used.\n",
        "      name: Python string. The name to give this op.\n",
        "        Default value: `sample_paths`.\n",
        "\n",
        "    Returns:\n",
        "      A tuple containing four elements.\n",
        "\n",
        "      * The first element is a `Tensor` of\n",
        "      shape `[num_samples, num_times]` containing the simulated short rate\n",
        "      paths.\n",
        "      * The second element is a `Tensor` of shape\n",
        "      `[num_samples, num_times]` containing the simulated discount factor\n",
        "      paths.\n",
        "      * The third element is a `Tensor` of shape\n",
        "      `[num_samples, num_times, dim]` conating the simulated values of the\n",
        "      state variable `x`\n",
        "      * The fourth element is a `Tensor` of shape\n",
        "      `[num_samples, num_times, dim^2]` conating the simulated values of the\n",
        "      state variable `y`.\n",
        "\n",
        "    Raises:\n",
        "      ValueError:\n",
        "        (a) If `times` has rank different from `1`.\n",
        "        (b) If Euler scheme is used by times is not supplied.\n",
        "    \"\"\"\n",
        "    name = name or self._name + '_sample_path'\n",
        "    with tf.name_scope(name):\n",
        "      times = tf.convert_to_tensor(times, self._dtype)\n",
        "      if times.shape.rank != 1:\n",
        "        raise ValueError('`times` should be a rank 1 Tensor. '\n",
        "                         'Rank is {} instead.'.format(times.shape.rank))\n",
        "      return self._sample_paths(\n",
        "          times, time_step, num_time_steps, num_samples, random_type, skip,\n",
        "          seed, use_euler_sampling)\n",
        "\n",
        "  def state_y(self, t):\n",
        "    \"\"\"Computes the state variable `y(t)` for tha Gaussian HJM Model.\n",
        "\n",
        "    For Gaussian HJM model, the state parameter y(t), can be analytically\n",
        "    computed as follows:\n",
        "\n",
        "    y_ij(t) = exp(-k_i * t) * exp(-k_j * t) * (\n",
        "              int_0^t [exp(k_i * u) * exp(k_j * u) * rho_ij *\n",
        "                      sigma_i(u) * sigma_j(u)] * du)\n",
        "\n",
        "    Args:\n",
        "      t: A rank 1 real `Tensor` of shape `[num_times]` specifying the time `t`.\n",
        "\n",
        "    Returns:\n",
        "      A real `Tensor` of shape [self._factors, self._factors, num_times]\n",
        "      containing the computed y_ij(t).\n",
        "    \"\"\"\n",
        "    t = tf.convert_to_tensor(t, dtype=self._dtype)\n",
        "    # t_shape = tf.shape(t)\n",
        "    # t = tf.broadcast_to(t, tf.concat([[self._dim], t_shape], axis=0))\n",
        "    time_index = tf.searchsorted(self._jump_locations, t)\n",
        "    # create a matrix k2(i,j) = k(i) + k(j)\n",
        "    mr2 = tf.expand_dims(self._mean_reversion, axis=-1)\n",
        "    # Add a dimension corresponding to `num_times`\n",
        "    mr2 = tf.expand_dims(mr2 + tf.transpose(mr2), axis=-1)\n",
        "\n",
        "    def _integrate_volatility_squared(vol, l_limit, u_limit):\n",
        "      # create sigma2_ij = sigma_i * sigma_j\n",
        "      vol = tf.expand_dims(vol, axis=-2)\n",
        "      vol_squared = tf.expand_dims(self._rho, axis=-1) * (\n",
        "          vol * tf.transpose(vol, perm=[1, 0, 2]))\n",
        "      return vol_squared / mr2 * (tf.math.exp(mr2 * u_limit) - tf.math.exp(\n",
        "          mr2 * l_limit))\n",
        "\n",
        "    is_constant_vol = tf.math.equal(tf.shape(self._jump_values_vol)[-1], 0)\n",
        "    v_squared_between_vol_knots = tf.cond(\n",
        "        is_constant_vol,\n",
        "        lambda: tf.zeros(shape=(self._dim, self._dim, 0), dtype=self._dtype),\n",
        "        lambda: _integrate_volatility_squared(  # pylint: disable=g-long-lambda\n",
        "            self._jump_values_vol, self._padded_knots, self._jump_locations))\n",
        "    v_squared_at_vol_knots = tf.concat([\n",
        "        tf.zeros((self._dim, self._dim, 1), dtype=self._dtype),\n",
        "        utils.cumsum_using_matvec(v_squared_between_vol_knots)\n",
        "    ], axis=-1)\n",
        "\n",
        "    vn = tf.concat([self._zero_padding, self._jump_locations], axis=0)\n",
        "\n",
        "    v_squared_t = _integrate_volatility_squared(\n",
        "        self._volatility(t), tf.gather(vn, time_index), t)\n",
        "    v_squared_t += tf.gather(v_squared_at_vol_knots, time_index, batch_dims=-1)\n",
        "\n",
        "    return tf.math.exp(-mr2 * t) * v_squared_t\n",
        "\n",
        "  def discount_bond_price(self, state, times, maturities, name=None):\n",
        "    \"\"\"Returns zero-coupon bond prices `P(t,T)` conditional on `x(t)`.\n",
        "\n",
        "    Args:\n",
        "      state: A `Tensor` of real dtype and shape compatible with\n",
        "        `(num_times, dim)` specifying the state `x(t)`.\n",
        "      times: A `Tensor` of real dtype and shape `(num_times,)`. The time `t`\n",
        "        at which discount bond prices are computed.\n",
        "      maturities: A `Tensor` of real dtype and shape `(num_times,)`. The time\n",
        "        to maturity of the discount bonds.\n",
        "      name: Str. The name to give this op.\n",
        "        Default value: `discount_bond_prices`.\n",
        "\n",
        "    Returns:\n",
        "      A `Tensor` of real dtype and the same shape as `(num_times,)`\n",
        "      containing the price of zero-coupon bonds.\n",
        "    \"\"\"\n",
        "    name = name or self._name + '_discount_bond_prices'\n",
        "    with tf.name_scope(name):\n",
        "      x_t = tf.convert_to_tensor(state, self._dtype)\n",
        "      times = tf.convert_to_tensor(times, self._dtype)\n",
        "      maturities = tf.convert_to_tensor(maturities, self._dtype)\n",
        "      # Flatten it because `PiecewiseConstantFunction` expects the first\n",
        "      # dimension to be broadcastable to [dim]\n",
        "      input_shape_times = tf.shape(times)\n",
        "      # The shape of `mean_reversion` will is `[dim]`\n",
        "      mean_reversion = self._mean_reversion\n",
        "      y_t = self.state_y(times)\n",
        "\n",
        "      y_t = tf.reshape(tf.transpose(y_t), tf.concat(\n",
        "          [input_shape_times, [self._dim, self._dim]], axis=0))\n",
        "      # Shape=(1, 1, num_times)\n",
        "      values = self._bond_reconstitution(\n",
        "          times, maturities, mean_reversion, x_t, y_t, 1,\n",
        "          tf.shape(times)[0])\n",
        "      return values[0][0]\n",
        "\n",
        "  def _sample_paths(self, times, time_step, num_time_steps, num_samples,\n",
        "                    random_type, skip, seed, use_euler_sampling=False):\n",
        "    \"\"\"Returns a sample of paths from the process.\"\"\"\n",
        "    initial_state = tf.zeros((self._dim,), dtype=self._dtype)\n",
        "    if use_euler_sampling:\n",
        "      rate_paths, discount_factor_paths, paths = self._sample_paths_from_euler(\n",
        "          times, time_step, num_time_steps, num_samples, random_type, skip,\n",
        "          seed, initial_state)\n",
        "    else:\n",
        "      rate_paths, discount_factor_paths, paths = self._sample_paths_from_exact(\n",
        "          times, time_step, num_time_steps, num_samples, random_type,\n",
        "          skip, seed, initial_state)\n",
        "\n",
        "    y_paths = self.state_y(times)  # shape=(dim, dim, num_times)\n",
        "    y_paths = tf.reshape(\n",
        "        y_paths, tf.concat([[self._dim**2], tf.shape(times)], axis=0))\n",
        "\n",
        "    # shape=(num_samples, num_times, dim**2)\n",
        "    y_paths = tf.repeat(tf.expand_dims(tf.transpose(\n",
        "        y_paths), axis=0), num_samples, axis=0)\n",
        "    return (rate_paths, discount_factor_paths, paths, y_paths)\n",
        "\n",
        "  def _sample_paths_from_euler(\n",
        "      self, times, time_step, num_time_steps, num_samples, random_type, skip,\n",
        "      seed, initial_state):\n",
        "    \"\"\"Returns a sample of paths from the process using Euler sampling.\"\"\"\n",
        "    # Note that we need a finer simulation grid (determnied by `dt`) to compute\n",
        "    # discount factors accurately. The `times` input might not be granular\n",
        "    # enough for accurate calculations.\n",
        "    time_step_internal = time_step\n",
        "    if num_time_steps is not None:\n",
        "      num_time_steps = tf.convert_to_tensor(num_time_steps, dtype=tf.int32,\n",
        "                                            name='num_time_steps')\n",
        "      time_step_internal = times[-1] / tf.cast(\n",
        "          num_time_steps, dtype=self._dtype)\n",
        "\n",
        "    times, _, time_indices = utils.prepare_grid(\n",
        "        times=times, time_step=time_step_internal, dtype=self._dtype,\n",
        "        num_time_steps=num_time_steps)\n",
        "    # Add zeros as a starting location\n",
        "    dt = times[1:] - times[:-1]\n",
        "\n",
        "    # Shape = (num_samples, num_times, nfactors)\n",
        "    paths = euler_sampling.sample(\n",
        "        self._dim,\n",
        "        self._drift_fn,\n",
        "        self._volatility_fn,\n",
        "        times,\n",
        "        num_time_steps=num_time_steps,\n",
        "        num_samples=num_samples,\n",
        "        initial_state=initial_state,\n",
        "        random_type=random_type,\n",
        "        seed=seed,\n",
        "        time_step=time_step,\n",
        "        skip=skip)\n",
        "    \n",
        "    f_0_t = self._instant_forward_rate_fn(times)  # shape=(num_times,)\n",
        "    rate_paths = tf.math.reduce_sum(\n",
        "        paths, axis=-1) + f_0_t  # shape=(num_samples, num_times)\n",
        "\n",
        "    discount_factor_paths = tf.math.exp(-rate_paths[:, :-1] * dt)\n",
        "    discount_factor_paths = tf.concat(\n",
        "        [tf.ones((num_samples, 1), dtype=self._dtype), discount_factor_paths],\n",
        "        axis=1)  # shape=(num_samples, num_times)\n",
        "    discount_factor_paths = utils.cumprod_using_matvec(discount_factor_paths)\n",
        "    return (tf.gather(rate_paths, time_indices, axis=1),\n",
        "            tf.gather(discount_factor_paths, time_indices, axis=1),\n",
        "            tf.gather(paths, time_indices, axis=1))\n",
        "    \n",
        "  def _sample_paths_from_exact(\n",
        "      self, times, time_step, num_time_steps, num_samples, random_type, skip,\n",
        "      seed, initial_state):\n",
        "    \"\"\"Returns a sample of paths from the process using exact sampling.\"\"\"\n",
        "    num_requested_times = tf.shape(times)[0]\n",
        "    # Add zeros as a starting location\n",
        "    times = tf.concat([[0.], times], axis=0)\n",
        "    keep_mask = tf.cast(tf.concat([[0], tf.ones((num_requested_times), dtype=tf.int32)], axis=0), tf.bool)\n",
        "    \n",
        "    dt = times[1:] - times[:-1]\n",
        "    if dt.shape.is_fully_defined():\n",
        "      steps_num = dt.shape.as_list()[-1]\n",
        "    else:\n",
        "      steps_num = tf.shape(dt)[-1]\n",
        "      # TODO(b/148133811): Re-enable Sobol test when TF 2.2 is released.\n",
        "      if random_type == random.RandomType.SOBOL:\n",
        "        raise ValueError('Sobol sequence for sample paths is temporarily '\n",
        "                         'unsupported when `time_step` or `times` have a '\n",
        "                         'non-constant value')\n",
        "    # We generate `dim + 1` draws with an additonal draw for discount factor\n",
        "    normal_draws = utils.generate_mc_normal_draws(\n",
        "        num_normal_draws=self._dim + 1, num_time_steps=steps_num,\n",
        "        num_sample_paths=num_samples, random_type=random_type,\n",
        "        seed=seed,\n",
        "        dtype=self._dtype, skip=skip)\n",
        "    \n",
        "    exp_x_t = self._conditional_mean_x(times)\n",
        "    var_x_t = self._conditional_variance_x(times)\n",
        "    log_df_double_integral = self._discount_factor_double_integral(times)\n",
        "    \n",
        "    y = self.state_y(times)\n",
        "    cov_x_log_df2 = self._cov_between_x_and_log_df(times)\n",
        "    cov_x_log_df = -cov_x_log_df2# tf.zeros_like(cov_x_log_df2)\n",
        "\n",
        "    cond_fn = lambda i, *args: i \u003c steps_num\n",
        "    def body_fn(i, written_count, current_x, current_log_df, x_paths, log_df_paths):\n",
        "      \"\"\"Simulate HJM process to the next time point.\"\"\"\n",
        "      normals = normal_draws[i]\n",
        "\n",
        "      # Update log discount factor I(t) = -int_0^t sum(x_i(t))\n",
        "      # G(t_i, t_i+1)\n",
        "      capital_g = (1. - tf.math.exp(\n",
        "        -self._mean_reversion * (times[i+1] - times[i]))) / self._mean_reversion\n",
        "      y_times_g_squared = tf.math.reduce_sum(tf.linalg.matvec(y[..., i], capital_g) * capital_g)\n",
        "\n",
        "      cov_matrix = tf.concat(\n",
        "          [var_x_t[..., i], tf.expand_dims(cov_x_log_df[..., i], axis=0)],\n",
        "          axis=0)\n",
        "      vv = 2 * log_df_double_integral[i:i+1] - y_times_g_squared\n",
        "      cov_matrix = tf.concat([cov_matrix, tf.expand_dims(tf.concat([cov_x_log_df[..., i], vv], axis=0),axis=-1)], axis=1)\n",
        "      sigma = tf.math.sqrt(tf.linalg.diag_part(cov_matrix))\n",
        "      sigma_ij = tf.expand_dims(sigma, axis=0) * tf.expand_dims(sigma, axis=1)\n",
        "      corr_matrix = tf.math.divide_no_nan(cov_matrix, sigma_ij)\n",
        "      try:\n",
        "        sqrt_corr = _get_valid_sqrt_matrix(corr_matrix)\n",
        "      except:\n",
        "        sqrt_corr = tf.zeros_like(corr_matrix)\n",
        "      sqrt_cov = tf.math.sqrt(sigma_ij) * sqrt_corr\n",
        "      try:\n",
        "        sqrt_cov = _get_valid_sqrt_matrix(cov_matrix)\n",
        "      except:\n",
        "        sqrt_cov = tf.zeros_like(corr_matrix)\n",
        "      print(times[i], times[i+1], sqrt_cov)\n",
        "      normals = tf.linalg.matvec(sqrt_cov, normals)\n",
        "      normals_x = normals[..., :-1]\n",
        "      normals_df = normals[..., -1]\n",
        "      \n",
        "      vol_x_t = tf.math.sqrt(tf.nn.relu(tf.transpose(var_x_t)[i]))\n",
        "      # If numerically `vol_x_t == 0`, the gradient of `vol_x_t` becomes `NaN`.\n",
        "      # To prevent this, we explicitly set `vol_x_t` to zero tensor at zero\n",
        "      # values so that the gradient is set to zero at this values.\n",
        "      vol_x_t = tf.where(vol_x_t \u003e 0.0, vol_x_t, 0.0)\n",
        "      next_x = (tf.math.exp(-self._mean_reversion * dt[i])\n",
        "                * current_x\n",
        "                + tf.transpose(exp_x_t)[i]\n",
        "                + normals_x)\n",
        "      \n",
        "      # Update `rate_paths`\n",
        "      x_paths = utils.maybe_update_along_axis(\n",
        "          tensor=x_paths,\n",
        "          do_update=keep_mask[i + 1],\n",
        "          ind=written_count,\n",
        "          axis=1,\n",
        "          new_tensor=tf.expand_dims(next_x, axis=1))\n",
        "      \n",
        "      next_log_df = (current_log_df -\n",
        "                     tf.math.reduce_sum(current_x * capital_g, axis=-1) -\n",
        "                     log_df_double_integral[i] + normals_df)\n",
        "      # print(2 * log_df_double_integral[i] - y_times_g_squared, times[i])\n",
        "      log_df_paths = utils.maybe_update_along_axis(\n",
        "          tensor=log_df_paths,\n",
        "          do_update=keep_mask[i + 1],\n",
        "          ind=written_count,\n",
        "          axis=1,\n",
        "          new_tensor=tf.expand_dims(next_log_df, axis=1))\n",
        "\n",
        "      written_count += tf.cast(keep_mask[i + 1], dtype=tf.int32)\n",
        "      return (i + 1, written_count, next_x, next_log_df, x_paths, log_df_paths)\n",
        "\n",
        "    x_paths = tf.zeros(\n",
        "        (num_samples, num_requested_times, self._factors), dtype=self._dtype)\n",
        "    log_df_paths = tf.zeros(\n",
        "        (num_samples, num_requested_times), dtype=self._dtype)\n",
        "    written_count = tf.cast(keep_mask[0], dtype=tf.int32)\n",
        "    initial_x = tf.zeros((num_samples, self._factors), dtype=self._dtype)\n",
        "    initial_log_df = tf.zeros((num_samples,), dtype=self._dtype)\n",
        "    _, _, _, _, x_paths, log_df_paths = tf.while_loop(\n",
        "        cond_fn, body_fn, (0, written_count, initial_x, initial_log_df, x_paths, log_df_paths),\n",
        "        maximum_iterations=steps_num,\n",
        "        swap_memory=True)\n",
        "    \n",
        "    f_0_t = self._instant_forward_rate_fn(times[1:])  # shape=(num_times,)\n",
        "    rate_paths = tf.math.reduce_sum(\n",
        "        x_paths, axis=-1) + f_0_t  # shape=(num_samples, num_times)\n",
        "    \n",
        "    p_0_t = self._initial_discount_rate_fn(times[1:])\n",
        "    discount_factor_paths = tf.math.exp(log_df_paths - p_0_t * times[1:])\n",
        "\n",
        "    return (rate_paths, discount_factor_paths, x_paths)\n",
        "    \n",
        "  def _conditional_mean_x(self, t):\n",
        "    \"\"\"Computes the drift term in [1], Eq. 10.39.\"\"\"\n",
        "    time_index = tf.searchsorted(self._jump_locations, t)\n",
        "    \n",
        "    vn = tf.concat([self._zero_padding, self._jump_locations], axis=0)\n",
        "    zero_padding_2d = tf.zeros((self._factors, self._factors, 1), dtype=self._dtype)\n",
        "    \n",
        "    y_at_vol_knots = tf.concat([zero_padding_2d, self.state_y(self._jump_locations)], axis=-1)\n",
        "    \n",
        "    # Add a training dimension so that we broadcast along `t`\n",
        "    mr = tf.expand_dims(self._mean_reversion, axis=-1)\n",
        "    # create a matrix k2(i,j) = k(i) + k(j)\n",
        "    mr2 = tf.expand_dims(self._mean_reversion, axis=-1)\n",
        "    # Add a dimension corresponding to `num_times`\n",
        "    mr2 = tf.expand_dims(mr2 + tf.transpose(mr2), axis=-1)\n",
        "    ex_between_vol_knots = self._ex_integral(self._padded_knots,\n",
        "                                             self._jump_locations,\n",
        "                                             self._jump_values_vol,\n",
        "                                             mr, mr2,\n",
        "                                             y_at_vol_knots[:, :, :-1])\n",
        "    \n",
        "    ex_at_vol_knots = tf.concat(\n",
        "        [zero_padding_2d,\n",
        "         utils.cumsum_using_matvec(ex_between_vol_knots)], axis=-1)\n",
        "    \n",
        "    c = tf.gather(y_at_vol_knots, time_index, axis=-1)\n",
        "    sigma_t = self._volatility(t)\n",
        "    exp_x_t = self._ex_integral(\n",
        "        tf.gather(vn, time_index, axis=-1), t, sigma_t, mr, mr2, c)\n",
        "    exp_x_t = exp_x_t + tf.gather(ex_at_vol_knots, time_index, axis=-1)\n",
        "    \n",
        "    exp_x_t = tf.math.reduce_sum(exp_x_t, axis=1)\n",
        "    exp_x_t = (exp_x_t[:, 1:] - exp_x_t[:, :-1]) * tf.math.exp(-mr * t[1:])\n",
        "    return exp_x_t\n",
        "\n",
        "  def _ex_integral(self, t0, t, vol, k, k2, y_t0):\n",
        "    \"\"\"Function computes the integral for the drift calculation.\"\"\"\n",
        "    # Computes int_t0^t (exp(k*s)*y(s)) ds,\n",
        "    # where y(s)=y(t0) + int_t0^s exp(-k2*(s-u)) vol(u)^2 du.\"\"\"\n",
        "    vol = tf.expand_dims(vol, axis=-2)\n",
        "    vol_squared = tf.expand_dims(self._rho, axis=-1) * (\n",
        "        vol * tf.transpose(vol, perm=[1, 0, 2]))\n",
        "    value = (\n",
        "        tf.math.exp(k * t) - tf.math.exp(k * t0) + tf.math.exp(k2 * t0) *\n",
        "        (tf.math.exp(-k * t) - tf.math.exp(-k * t0)))\n",
        "    print(t0.shape, t.shape, vol.shape, k.shape, y_t0.shape)\n",
        "    value = value * vol_squared / (k2 * k) + y_t0 * (tf.math.exp(-k * t0) -\n",
        "                                                   tf.math.exp(-k * t)) / k\n",
        "    return value\n",
        "\n",
        "  def _conditional_variance_x(self, t):\n",
        "    \"\"\"Computes the variance of x(t), see [1], Eq. 10.41.\"\"\"\n",
        "    # Add a trailing dimension so that we broadcast along `t`\n",
        "    mr = tf.expand_dims(self._mean_reversion, axis=-1)\n",
        "    # create a matrix k2(i,j) = k(i) + k(j)\n",
        "    mr2 = tf.expand_dims(self._mean_reversion, axis=-1)\n",
        "    # Add a dimension corresponding to `num_times`\n",
        "    mr2 = tf.expand_dims(mr2 + tf.transpose(mr2), axis=-1)\n",
        "\n",
        "    def _integrate_volatility_squared(vol, l_limit, u_limit):\n",
        "      # create sigma2_ij = sigma_i * sigma_j\n",
        "      vol = tf.expand_dims(vol, axis=-2)\n",
        "      vol_squared = tf.expand_dims(self._rho, axis=-1) * (\n",
        "          vol * tf.transpose(vol, perm=[1, 0, 2]))\n",
        "      return vol_squared / mr2 * (tf.math.exp(mr2 * u_limit) - tf.math.exp(\n",
        "          mr2 * l_limit))\n",
        "\n",
        "    var_x_between_vol_knots = _integrate_volatility_squared(\n",
        "        self._jump_values_vol, self._padded_knots, self._jump_locations)\n",
        "    \n",
        "    zero_padding_2d = tf.zeros((self._factors, self._factors, 1), dtype=self._dtype)\n",
        "    varx_at_vol_knots = tf.concat(\n",
        "        [zero_padding_2d,\n",
        "         utils.cumsum_using_matvec(var_x_between_vol_knots)], axis=-1)\n",
        "\n",
        "    time_index = tf.searchsorted(self._jump_locations, t)\n",
        "    vn = tf.concat([self._zero_padding, self._jump_locations], axis=0)\n",
        "\n",
        "    var_x_t = _integrate_volatility_squared(\n",
        "        self._volatility(t),tf.gather(vn, time_index), t)\n",
        "    var_x_t = var_x_t + tf.gather(varx_at_vol_knots, time_index, axis=-1)\n",
        "\n",
        "    var_x_t = (var_x_t[:, :, 1:] - var_x_t[:, :, :-1]) * tf.math.exp(\n",
        "        -mr2 * t[1:])\n",
        "    # return tf.math.reduce_sum(var_x_t, axis=-2)\n",
        "    return var_x_t\n",
        "\n",
        "  def _i_double_integral(self, t0, t, vol, ki, kj, k2, y_t0):\n",
        "    \"\"\"Double integral for discount factor calculations.\"\"\"\n",
        "    # Computes int_t0^t (exp(k*s)*y(s)) ds,\n",
        "    # where y(s)=y(t0) + int_t0^s exp(-k2*(s-u)) vol(u)^2 du.\"\"\"\n",
        "    vol = tf.expand_dims(vol, axis=-2)\n",
        "    vol_squared = tf.expand_dims(self._rho, axis=-1) * (\n",
        "        vol * tf.transpose(vol, perm=[1, 0, 2]))\n",
        "    value = -(1.0 - tf.math.exp(-ki * (t - t0))) / (kj * ki)\n",
        "    value += (1.0 - tf.math.exp(-k2 * (t - t0))) / (kj * k2)\n",
        "    value += (t - t0) / ki\n",
        "    value -= (1.0 - tf.math.exp(-ki * (t - t0))) / (ki * ki)\n",
        "    value = value * vol_squared / k2\n",
        "    #value += y_t0 * ((t - t0) - (1.0 - tf.math.exp(-ki * (t - t0))) / ki) / ki\n",
        "    value2 = tf.math.exp(-kj*t0) * (tf.math.exp(-ki*t0) - tf.math.exp(-ki*t)) / ki\n",
        "    value2 -= (tf.math.exp(-k2*t0) - tf.math.exp(-k2*t)) / k2\n",
        "    value2 = value2 * tf.math.exp(k2*t0) * y_t0 / kj\n",
        "    return value + value2\n",
        "\n",
        "  def _discount_factor_double_integral(self, t):\n",
        "    \"\"\"Computes the double integral in Eq 10.42 and 10.43 in Ref. [1].\"\"\"\n",
        "    knots = tf.sort(tf.concat([t, self._jump_locations], axis=0))\n",
        "    time_index = tf.searchsorted(knots, t)\n",
        "    vn = tf.concat([self._zero_padding, knots], axis=0)\n",
        "    zero_padding_2d = tf.zeros((self._factors, self._factors, 1), dtype=self._dtype)\n",
        "    y_at_knots = tf.concat([zero_padding_2d, self.state_y(knots)], axis=-1)\n",
        "    \n",
        "    mr = tf.expand_dims(self._mean_reversion, axis=-1)\n",
        "    # Add a dimension corresponding to `num_times`\n",
        "    mri = tf.expand_dims(mr, axis=-1)\n",
        "    mrj = tf.expand_dims(tf.transpose(mr), axis=-1)\n",
        "    # create a matrix k2(i,j) = k(i) + k(j)\n",
        "    mr2 = mri + mrj\n",
        "    int_between_knots = self._i_double_integral(\n",
        "        vn[:-1], knots, self._volatility(vn)[:, :-1], mri, mrj, mr2,\n",
        "        y_at_knots[:, :, :-1])\n",
        "    \n",
        "    int_at_knots = utils.cumsum_using_matvec(int_between_knots)\n",
        "    \n",
        "    int_t = tf.gather(int_at_knots, time_index, axis=-1)\n",
        "    int_t = tf.math.reduce_sum(int_t, axis=[0, 1])\n",
        "    print(tf.reduce_sum(int_between_knots, axis=[0, 1]))\n",
        "    return (int_t[1:] - int_t[:-1])\n",
        "\n",
        "  def _cov_between_x_and_log_df(self, t):\n",
        "    \"\"\"Computes covariance between state `x` and log(df) (Eq. )\"\"\"\n",
        "    knots = tf.sort(tf.concat([t, self._jump_locations], axis=0))\n",
        "    time_index = tf.searchsorted(knots, t)\n",
        "    vn = tf.concat([self._zero_padding, knots], axis=0)\n",
        "    zero_padding_2d = tf.zeros((self._factors, self._factors, 1), dtype=self._dtype)\n",
        "\n",
        "    mr = tf.expand_dims(self._mean_reversion, axis=-1)\n",
        "    # Add a dimension corresponding to `num_times`\n",
        "    mri = tf.expand_dims(mr, axis=-1)\n",
        "    mrj = tf.expand_dims(tf.transpose(mr), axis=-1)\n",
        "    # create a matrix k2(i,j) = k(i) + k(j)\n",
        "    mr2 = mri + mrj\n",
        "\n",
        "    def _integrate(vol, t0, t1):\n",
        "      # create sigma2_ij = sigma_i * sigma_j\n",
        "      vol = tf.expand_dims(vol, axis=-2)\n",
        "      vol_squared = tf.expand_dims(self._rho, axis=-1) * (\n",
        "          vol * tf.transpose(vol, perm=[1, 0, 2]))\n",
        "      value = -tf.math.exp(mr2 * t0) * (tf.math.exp(-mrj * t0) - tf.math.exp(-mrj * t1)) / mrj\n",
        "      value += (tf.math.exp(mri * t1) - tf.math.exp(mri * t0)) / mri\n",
        "      value = value * vol_squared * tf.math.exp(-mri * t1) / mr2\n",
        "      return value\n",
        "    \n",
        "    cov_between_knots = _integrate(\n",
        "        self._volatility(vn)[:, :-1], vn[:-1], knots)\n",
        "    \n",
        "    cov_at_knots = utils.cumsum_using_matvec(cov_between_knots)\n",
        "    cov_t = tf.gather(cov_at_knots, time_index, axis=-1)\n",
        "    cov_t = (cov_t[:, :, 1:] - cov_t[:, :, :-1])\n",
        "    return tf.math.reduce_sum(cov_t, axis=-2)\n",
        "\n",
        "  def _exact_discretization_setup(self, dim):\n",
        "    \"\"\"Initial setup for efficient computations.\"\"\"\n",
        "    self._zero_padding = tf.constant([0.0], dtype=self._dtype)\n",
        "    self._jump_locations = tf.sort(tf.reshape(\n",
        "        self._volatility.jump_locations(), [-1]))\n",
        "    self._jump_values_vol = self._volatility(self._jump_locations)\n",
        "    self._padded_knots = tf.concat(\n",
        "        [self._zero_padding, self._jump_locations[:-1]], axis=0)\n",
        "    \n",
        "def _get_valid_sqrt_matrix(rho):\n",
        "  \"\"\"Returns a matrix L such that rho = LL^T.\"\"\"\n",
        "  e, v = tf.linalg.eigh(rho)\n",
        "\n",
        "  def _psd_true():\n",
        "    return tf.linalg.cholesky(rho)\n",
        "\n",
        "  def _psd_false():\n",
        "    print(tf.math.real(e))\n",
        "    realv = tf.math.real(v)\n",
        "    adjusted_e = tf.linalg.diag(tf.maximum(tf.math.real(e), 1e-14))\n",
        "    return tf.matmul(realv, tf.math.sqrt(adjusted_e))\n",
        "\n",
        "  return tf.cond(\n",
        "      tf.math.reduce_any(tf.less(tf.math.real(e), 1e-14)), _psd_false, _psd_true)"
      ]
    },
    {
      "cell_type": "markdown",
      "metadata": {
        "id": "XwpkemFuA-J5"
      },
      "source": [
        "# model definition"
      ]
    },
    {
      "cell_type": "code",
      "execution_count": null,
      "metadata": {
        "id": "gv9Gh1CSy3LQ"
      },
      "outputs": [],
      "source": [
        "dtype = np.float64\n",
        "rate_fn = lambda x: 0.01 * tf.ones_like(x, dtype=dtype)\n",
        "fn = piecewise.PiecewiseConstantFunc([[0.5, 1.0]], [[0.01, 0.02, 0.01]], dtype=dtype)\n",
        "fn2 = piecewise.PiecewiseConstantFunc(\n",
        "    [[0.5, 2.0], [0.5, 2.0]], [[0.005, 0.01, 0.015], [0.005, 0.01, 0.015]], dtype=dtype)\n",
        "fn3 = piecewise.PiecewiseConstantFunc(\n",
        "    [[0.5, 1.0], [0.5, 1.0]], [[0.01, 0.008, 0.005], [0.005, 0.008, 0.005]], dtype=dtype)\n",
        "\n",
        "def vol_fn(t, r):\n",
        "  return fn([t]) * tf.math.abs(r)**0.5\n",
        "\n",
        "model = GaussianHJM(dim=2,\n",
        "                    mean_reversion=[0.5, 0.5],\n",
        "                    volatility=[0.01, 0.01],\n",
        "                    initial_discount_rate_fn=rate_fn,\n",
        "                    corr_matrix=[[1.0, 0.5], [0.5, 1.0]],\n",
        "                    dtype=dtype\n",
        "                    )\n",
        "\n",
        "model2 = GaussianHJM(dim=2,\n",
        "                    mean_reversion=[0.15, 0.03],\n",
        "                    volatility=[0.015, 0.01],\n",
        "                    initial_discount_rate_fn=rate_fn,\n",
        "                    # corr_matrix=[[1.0, 0.5], [0.5, 1.0]],\n",
        "                    dtype=dtype\n",
        "                    )\n",
        "\n",
        "model1 = GaussianHJM(dim=1,\n",
        "                    mean_reversion=[0.03],\n",
        "                    volatility=fn,\n",
        "                    initial_discount_rate_fn=rate_fn,\n",
        "                    corr_matrix=None,\n",
        "                    dtype=dtype\n",
        "                    )"
      ]
    },
    {
      "cell_type": "markdown",
      "metadata": {
        "id": "Xa3Z-pQ3obPa"
      },
      "source": [
        "### Test E(x)"
      ]
    },
    {
      "cell_type": "markdown",
      "metadata": {
        "id": "xHdGHvbF406P"
      },
      "source": [
        "### Test double integral"
      ]
    },
    {
      "cell_type": "code",
      "execution_count": null,
      "metadata": {
        "colab": {
          "base_uri": "https://localhost:8080/"
        },
        "executionInfo": {
          "elapsed": 21384,
          "status": "ok",
          "timestamp": 1627045804638,
          "user": {
            "displayName": "Cyril Chimisov",
            "photoUrl": "https://lh3.googleusercontent.com/a/default-user=s64",
            "userId": "02803093032097482871"
          },
          "user_tz": -60
        },
        "id": "U84TQ_YwIZV4",
        "outputId": "533c0c2a-01ea-4c77-cd53-6ffbaa1b22a9"
      },
      "outputs": [
        {
          "name": "stdout",
          "output_type": "stream",
          "text": [
            "0 1 (3.948118957575222e-05, 4.383292570659083e-19)\n",
            "1 2 (0.0001088700838819335, 1.208700738185947e-18)\n",
            "2 3 (0.00013439683154279575, 1.4921045681548035e-18)\n",
            "3 4 (0.00014378759720719817, 1.5963630107495926e-18)\n",
            "4 5 (0.00014724226683199051, 1.6347175483487687e-18)\n",
            "5 6 (0.00014851316876299107, 1.6488273942071425e-18)\n",
            "6 7 (0.00014898070745515126, 1.6540181164165364e-18)\n",
            "7 8 (0.00014915270532794917, 1.6559276764022043e-18)\n",
            "8 9 (0.00014921597980927675, 1.6566301642626151e-18)\n",
            "9 10 (0.00014923925719010795, 1.6568885951041329e-18)\n"
          ]
        }
      ],
      "source": [
        "from scipy.integrate import quad\n",
        "\n",
        "k = 0.015\n",
        "v = 0.01\n",
        "def _intfun1(x, t0):\n",
        "  xt = tf.convert_to_tensor([x], dtype=dtype)\n",
        "  return np.exp(k*x) * tf.reduce_sum(model.state_y(xt)).numpy()\n",
        "  yt0 = tf.math.reduce_sum(model.state_y([t0])).numpy()\n",
        "  ff = lambda u: 2*np.exp(-2*k*(x - u))*v**2\n",
        "  aa, _ = quad(ff, t0, x)\n",
        "  return np.exp(k*x) *(yt0 + aa)\n",
        "\n",
        "def _intfun2(x, t0):\n",
        "  val = quad(_intfun1, t0, x, args=(t0))\n",
        "  return np.exp(-k*x) * val[0]\n",
        "\n",
        "for l in range(0, 10):\n",
        "  u = l + 1\n",
        "  print(l,u, quad(_intfun2, l, u, args=(l)))"
      ]
    },
    {
      "cell_type": "code",
      "execution_count": null,
      "metadata": {
        "colab": {
          "base_uri": "https://localhost:8080/"
        },
        "executionInfo": {
          "elapsed": 725,
          "status": "ok",
          "timestamp": 1627045805342,
          "user": {
            "displayName": "Cyril Chimisov",
            "photoUrl": "https://lh3.googleusercontent.com/a/default-user=s64",
            "userId": "02803093032097482871"
          },
          "user_tz": -60
        },
        "id": "xEO6IaKiofEP",
        "outputId": "9484d0b5-e68a-4872-e509-3bc6af6f2283"
      },
      "outputs": [
        {
          "name": "stdout",
          "output_type": "stream",
          "text": [
            "0 1 (5.48858072538982e-05, 6.093548693841622e-19)\n",
            "1 2 (0.00011430185068066105, 1.2690054638293652e-18)\n",
            "2 3 (0.00013615979153311673, 1.5116773558822763e-18)\n",
            "3 4 (0.00014420087859907658, 1.6009513559187182e-18)\n",
            "4 5 (0.0001471590292153128, 1.6337934251632635e-18)\n",
            "5 6 (0.0001482472720109147, 1.6458753472438602e-18)\n",
            "6 7 (0.00014864761416241959, 1.6503200379871472e-18)\n",
            "7 8 (0.0001487948918093926, 1.651955148333968e-18)\n",
            "8 9 (0.00014884907222785805, 1.6525566718146095e-18)\n",
            "9 10 (0.00014886900408992554, 1.6527779599365194e-18)\n",
            "(1,) (0,) (2, 1, 0) (2, 1) (2, 2, 0)\n",
            "(11,) (11,) (2, 1, 11) (2, 1) (2, 2, 11)\n"
          ]
        },
        {
          "data": {
            "text/plain": [
              "\u003ctf.Tensor: shape=(2, 10), dtype=float64, numpy=\n",
              "array([[4.64454365e-05, 9.17023390e-05, 1.08351423e-04, 1.14476279e-04,\n",
              "        1.16729487e-04, 1.17558396e-04, 1.17863335e-04, 1.17975516e-04,\n",
              "        1.18016785e-04, 1.18031967e-04],\n",
              "       [4.64454365e-05, 9.17023390e-05, 1.08351423e-04, 1.14476279e-04,\n",
              "        1.16729487e-04, 1.17558396e-04, 1.17863335e-04, 1.17975516e-04,\n",
              "        1.18016785e-04, 1.18031967e-04]])\u003e"
            ]
          },
          "execution_count": 6,
          "metadata": {
            "tags": []
          },
          "output_type": "execute_result"
        }
      ],
      "source": [
        "from scipy.integrate import quad\n",
        "\n",
        "k = 0.015\n",
        "v = 0.01\n",
        "def _intfun1(x, t0, t):\n",
        "  xt = tf.convert_to_tensor([x], dtype=dtype)\n",
        "  return np.exp(-k*t) * np.exp(k*x) * tf.reduce_sum(model.state_y(xt), axis=[1, 2]).numpy()[0]\n",
        "\n",
        "for l in range(0, 10):\n",
        "  u = l + 1\n",
        "  print(l,u, quad(_intfun1, l, u, args=(l, u)))\n",
        "\n",
        "tt = tf.convert_to_tensor(np.arange(0, 11), dtype=dtype)\n",
        "model._conditional_mean_x(tt)"
      ]
    },
    {
      "cell_type": "markdown",
      "metadata": {
        "id": "vWSTtAG449BB"
      },
      "source": [
        "### Test covariance"
      ]
    },
    {
      "cell_type": "code",
      "execution_count": null,
      "metadata": {
        "id": "7MBD5QJR5BO3"
      },
      "outputs": [],
      "source": [
        "from scipy.integrate import quad\n",
        "\n",
        "k = 0.015\n",
        "v = 0.01\n",
        "def _intfun1(x, t0):\n",
        "  return np.exp(2*k*x)\n",
        "\n",
        "def _intfun2(x, t0, t):\n",
        "  val = quad(_intfun1, t0, x, args=(t0))\n",
        "  return np.exp(-k*x) * val[0] * v**2 * np.exp(-k*t)\n",
        "\n",
        "for l in range(0, 10):\n",
        "  u = l + 1\n",
        "  print(l, u, quad(_intfun2, l, u, args=(l, u)))"
      ]
    },
    {
      "cell_type": "markdown",
      "metadata": {
        "id": "S0VSh6scPngq"
      },
      "source": [
        "## Test rate sims"
      ]
    },
    {
      "cell_type": "code",
      "execution_count": null,
      "metadata": {
        "id": "TXJUsKTy5W_O"
      },
      "outputs": [],
      "source": [
        "dt_0 = 0.05\n",
        "times_0 = np.arange(dt_0, 10 + dt_0, dt_0, dtype=np.float64)# np.array([0., 0.5, 1.0, 10])\n",
        "curve_times = np.array([0., 0.5, 1.0, 5.0, 10.0])\n",
        "num_samples = 100000\n",
        "rpaths_0, paths_0, xn_0, _ = model.sample_paths(times=times_0,\n",
        "                           num_samples=num_samples,\n",
        "                           random_type=random.RandomType.STATELESS_ANTITHETIC,\n",
        "                           seed=[0,0],\n",
        "                           time_step=dt_0,\n",
        "                           use_euler_sampling=True)"
      ]
    },
    {
      "cell_type": "code",
      "execution_count": null,
      "metadata": {
        "id": "jpnv5weKO3KS"
      },
      "outputs": [],
      "source": [
        "dt = 1.0\n",
        "times = np.arange(dt, 10 + dt, dt, dtype=np.float64)# np.array([0., 0.5, 1.0, 10])\n",
        "curve_times = np.array([0., 0.5, 1.0, 5.0, 10.0])\n",
        "num_samples = 100000\n",
        "rpaths, paths, xn, _ = model.sample_paths(times=times,\n",
        "                           num_samples=num_samples,\n",
        "                           random_type=random.RandomType.STATELESS_ANTITHETIC,\n",
        "                           seed=[0,0],\n",
        "                           time_step=0.1,\n",
        "                           use_euler_sampling=False)"
      ]
    },
    {
      "cell_type": "code",
      "execution_count": null,
      "metadata": {
        "colab": {
          "base_uri": "https://localhost:8080/"
        },
        "executionInfo": {
          "elapsed": 6,
          "status": "ok",
          "timestamp": 1627045817209,
          "user": {
            "displayName": "Cyril Chimisov",
            "photoUrl": "https://lh3.googleusercontent.com/a/default-user=s64",
            "userId": "02803093032097482871"
          },
          "user_tz": -60
        },
        "id": "HqWgEQ-GCG2c",
        "outputId": "ae6f341e-a566-43cb-e5f2-268f74dafe4e"
      },
      "outputs": [
        {
          "data": {
            "text/plain": [
              "\u003ctf.Tensor: shape=(2, 9), dtype=float64, numpy=\n",
              "array([[4.64454365e-05, 4.64454365e-05, 4.64454365e-05, 4.64454365e-05,\n",
              "        4.64454365e-05, 4.64454365e-05, 4.64454365e-05, 4.64454365e-05,\n",
              "        4.64454365e-05],\n",
              "       [4.64454365e-05, 4.64454365e-05, 4.64454365e-05, 4.64454365e-05,\n",
              "        4.64454365e-05, 4.64454365e-05, 4.64454365e-05, 4.64454365e-05,\n",
              "        4.64454365e-05]])\u003e"
            ]
          },
          "execution_count": 11,
          "metadata": {
            "tags": []
          },
          "output_type": "execute_result"
        }
      ],
      "source": [
        "t = tf.convert_to_tensor([0, 5, 10], dtype=dtype)\n",
        "# model._conditional_variance_x(t)\n",
        "# model._discount_factor_double_integral(times)\n",
        "model._cov_between_x_and_log_df(times)"
      ]
    },
    {
      "cell_type": "code",
      "execution_count": null,
      "metadata": {
        "colab": {
          "base_uri": "https://localhost:8080/"
        },
        "executionInfo": {
          "elapsed": 400,
          "status": "ok",
          "timestamp": 1627045818183,
          "user": {
            "displayName": "Cyril Chimisov",
            "photoUrl": "https://lh3.googleusercontent.com/a/default-user=s64",
            "userId": "02803093032097482871"
          },
          "user_tz": -60
        },
        "id": "5gDl_96JBqVL",
        "outputId": "6e703486-c59f-4e61-ddc4-c40972dfbb9a"
      },
      "outputs": [
        {
          "data": {
            "text/plain": [
              "(TensorShape([100000, 10]),\n",
              " TensorShape([100000, 200]),\n",
              " TensorShape([100000, 10]))"
            ]
          },
          "execution_count": 12,
          "metadata": {
            "tags": []
          },
          "output_type": "execute_result"
        }
      ],
      "source": [
        "paths.shape, rpaths_0.shape, rpaths.shape"
      ]
    },
    {
      "cell_type": "code",
      "execution_count": null,
      "metadata": {
        "colab": {
          "base_uri": "https://localhost:8080/",
          "height": 265
        },
        "executionInfo": {
          "elapsed": 390,
          "status": "ok",
          "timestamp": 1627045818895,
          "user": {
            "displayName": "Cyril Chimisov",
            "photoUrl": "https://lh3.googleusercontent.com/a/default-user=s64",
            "userId": "02803093032097482871"
          },
          "user_tz": -60
        },
        "id": "dN0GPjQX0qOc",
        "outputId": "6e572b0c-8d58-4ca0-af8e-e6f1979c035b"
      },
      "outputs": [
        {
          "data": {
            "image/png": "[encoded data removed]",
            "text/plain": [
              "\u003cFigure size 432x288 with 1 Axes\u003e"
            ]
          },
          "metadata": {
            "needs_background": "light",
            "tags": []
          },
          "output_type": "display_data"
        }
      ],
      "source": [
        "import matplotlib.pyplot as plt\n",
        "dt = np.concatenate([[0], times_0[1:] - times_0[:-1]], axis=0)\n",
        "p_sim = np.mean(np.exp(-np.cumsum(rpaths_0 * dt, axis=1)), axis=0)\n",
        "p_sim_df = tf.math.reduce_mean(paths, axis=0)\n",
        "p_true = np.exp(-times * rate_fn(times))\n",
        "plt.plot(times_0, p_sim, label='E(e(-rdt))')\n",
        "plt.plot(times, p_sim_df, label='E(df)')\n",
        "plt.plot(times, p_true, label='P(0,t)')\n",
        "plt.legend()\n",
        "plt.show()"
      ]
    },
    {
      "cell_type": "code",
      "execution_count": null,
      "metadata": {
        "colab": {
          "base_uri": "https://localhost:8080/"
        },
        "executionInfo": {
          "elapsed": 4,
          "status": "ok",
          "timestamp": 1627045819363,
          "user": {
            "displayName": "Cyril Chimisov",
            "photoUrl": "https://lh3.googleusercontent.com/a/default-user=s64",
            "userId": "02803093032097482871"
          },
          "user_tz": -60
        },
        "id": "preJq3TkBOwK",
        "outputId": "2f2beed0-b710-4d5d-9efd-e03107123fbd"
      },
      "outputs": [
        {
          "data": {
            "text/plain": [
              "(array([0.99004983, 0.98019867, 0.97044553, 0.96078944, 0.95122942,\n",
              "        0.94176453, 0.93239382, 0.92311635, 0.91393119, 0.90483742]),\n",
              " \u003ctf.Tensor: shape=(10,), dtype=float64, numpy=\n",
              " array([0.99004954, 0.98019566, 0.97043916, 0.96078092, 0.95122197,\n",
              "        0.94176246, 0.93239731, 0.92312755, 0.91395011, 0.9048613 ])\u003e)"
            ]
          },
          "execution_count": 14,
          "metadata": {
            "tags": []
          },
          "output_type": "execute_result"
        }
      ],
      "source": [
        "p_true, p_sim_df"
      ]
    },
    {
      "cell_type": "code",
      "execution_count": null,
      "metadata": {
        "colab": {
          "base_uri": "https://localhost:8080/",
          "height": 265
        },
        "executionInfo": {
          "elapsed": 747,
          "status": "ok",
          "timestamp": 1627045821215,
          "user": {
            "displayName": "Cyril Chimisov",
            "photoUrl": "https://lh3.googleusercontent.com/a/default-user=s64",
            "userId": "02803093032097482871"
          },
          "user_tz": -60
        },
        "id": "o7CZgbE1u6fD",
        "outputId": "feb0af98-79e8-4397-bef2-bbe192a3b809"
      },
      "outputs": [
        {
          "data": {
            "image/png": "[encoded data removed]",
            "text/plain": [
              "\u003cFigure size 432x288 with 1 Axes\u003e"
            ]
          },
          "metadata": {
            "needs_background": "light",
            "tags": []
          },
          "output_type": "display_data"
        }
      ],
      "source": [
        "dt = np.concatenate([[0], times_0[1:] - times_0[:-1]], axis=0)\n",
        "p_sim = np.std(np.exp(-np.cumsum(rpaths_0*dt, axis=1)), axis=0)\n",
        "p_sim_df = tf.math.reduce_std(paths, axis=0)\n",
        "plt.plot(times_0, p_sim, label='std(e(-rdt))')\n",
        "plt.plot(times, p_sim_df, label='std(df)')\n",
        "plt.legend()\n",
        "plt.show()"
      ]
    },
    {
      "cell_type": "code",
      "execution_count": null,
      "metadata": {
        "colab": {
          "base_uri": "https://localhost:8080/",
          "height": 335
        },
        "executionInfo": {
          "elapsed": 422,
          "status": "ok",
          "timestamp": 1627045821634,
          "user": {
            "displayName": "Cyril Chimisov",
            "photoUrl": "https://lh3.googleusercontent.com/a/default-user=s64",
            "userId": "02803093032097482871"
          },
          "user_tz": -60
        },
        "id": "naLofes0BaEk",
        "outputId": "133b6925-9bf6-43d4-8d08-7d955ba366e0"
      },
      "outputs": [
        {
          "name": "stderr",
          "output_type": "stream",
          "text": [
            "/usr/local/lib/python3.7/dist-packages/numpy/lib/function_base.py:2559: RuntimeWarning: invalid value encountered in true_divide\n",
            "  c /= stddev[:, None]\n",
            "/usr/local/lib/python3.7/dist-packages/numpy/lib/function_base.py:2560: RuntimeWarning: invalid value encountered in true_divide\n",
            "  c /= stddev[None, :]\n"
          ]
        },
        {
          "data": {
            "image/png": "[encoded data removed]",
            "text/plain": [
              "\u003cFigure size 432x288 with 1 Axes\u003e"
            ]
          },
          "metadata": {
            "needs_background": "light",
            "tags": []
          },
          "output_type": "display_data"
        }
      ],
      "source": [
        "dt = np.concatenate([[0], times[1:] - times[:-1]], axis=0)\n",
        "rdf = -np.cumsum(rpaths*dt, axis=1)\n",
        "df = np.log(paths)\n",
        "p_sim, p_sim_df = (np.zeros((df.shape[1])), np.zeros((df.shape[1])))\n",
        "for i, _ in enumerate(p_sim):\n",
        "  p_sim[i] = np.corrcoef(rdf[:, i], xn[:, i, 1])[0][1]\n",
        "  p_sim_df[i] = np.corrcoef(df[:, i], xn[:, i, 1])[0][1]\n",
        "plt.plot(times, p_sim, label='std(e(-rdt))')\n",
        "plt.plot(times, p_sim_df, label='std(df)')\n",
        "plt.legend()\n",
        "plt.show()"
      ]
    },
    {
      "cell_type": "code",
      "execution_count": null,
      "metadata": {
        "colab": {
          "base_uri": "https://localhost:8080/",
          "height": 335
        },
        "executionInfo": {
          "elapsed": 338,
          "status": "ok",
          "timestamp": 1627045823409,
          "user": {
            "displayName": "Cyril Chimisov",
            "photoUrl": "https://lh3.googleusercontent.com/a/default-user=s64",
            "userId": "02803093032097482871"
          },
          "user_tz": -60
        },
        "id": "3LTSM8-n9B0D",
        "outputId": "c24b2c6f-a40c-4865-f452-53d8edf331f3"
      },
      "outputs": [
        {
          "name": "stderr",
          "output_type": "stream",
          "text": [
            "/usr/local/lib/python3.7/dist-packages/numpy/lib/function_base.py:2559: RuntimeWarning: invalid value encountered in true_divide\n",
            "  c /= stddev[:, None]\n",
            "/usr/local/lib/python3.7/dist-packages/numpy/lib/function_base.py:2560: RuntimeWarning: invalid value encountered in true_divide\n",
            "  c /= stddev[None, :]\n"
          ]
        },
        {
          "data": {
            "image/png": "[encoded data removed]",
            "text/plain": [
              "\u003cFigure size 432x288 with 1 Axes\u003e"
            ]
          },
          "metadata": {
            "needs_background": "light",
            "tags": []
          },
          "output_type": "display_data"
        }
      ],
      "source": [
        "dt = np.concatenate([[0], times[1:] - times[:-1]], axis=0)\n",
        "rdf = -np.cumsum(rpaths*dt, axis=1)\n",
        "df = np.log(paths)\n",
        "p_sim, p_sim_df = (np.zeros((df.shape[1])), np.zeros((df.shape[1])))\n",
        "for i, _ in enumerate(p_sim):\n",
        "  p_sim[i] = np.corrcoef(rdf[:, i], xn[:, i, 1])[0][1]\n",
        "  p_sim_df[i] = np.corrcoef(df[:, i], xn[:, i, 1])[0][1]\n",
        "plt.plot(times, p_sim, label='std(e(-rdt))')\n",
        "plt.plot(times, p_sim_df, label='std(df)')\n",
        "plt.legend()\n",
        "plt.show()"
      ]
    },
    {
      "cell_type": "code",
      "execution_count": null,
      "metadata": {
        "colab": {
          "base_uri": "https://localhost:8080/",
          "height": 181
        },
        "executionInfo": {
          "elapsed": 492,
          "status": "error",
          "timestamp": 1627045823897,
          "user": {
            "displayName": "Cyril Chimisov",
            "photoUrl": "https://lh3.googleusercontent.com/a/default-user=s64",
            "userId": "02803093032097482871"
          },
          "user_tz": -60
        },
        "id": "Tp8Rbqw5vl5I",
        "outputId": "dc0a1a02-9331-4716-d37e-c73c9e9be648"
      },
      "outputs": [
        {
          "ename": "NameError",
          "evalue": "ignored",
          "output_type": "error",
          "traceback": [
            "\u001b[0;31m---------------------------------------------------------------------------\u001b[0m",
            "\u001b[0;31mNameError\u001b[0m                                 Traceback (most recent call last)",
            "\u001b[0;32m\u003cipython-input-18-1a986adc383e\u003e\u001b[0m in \u001b[0;36m\u003cmodule\u003e\u001b[0;34m()\u001b[0m\n\u001b[1;32m      1\u001b[0m \u001b[0midx\u001b[0m \u001b[0;34m=\u001b[0m \u001b[0;36m50\u001b[0m\u001b[0;34m\u001b[0m\u001b[0;34m\u001b[0m\u001b[0m\n\u001b[0;32m----\u003e 2\u001b[0;31m \u001b[0mnp\u001b[0m\u001b[0;34m.\u001b[0m\u001b[0mcov\u001b[0m\u001b[0;34m(\u001b[0m\u001b[0mpp\u001b[0m\u001b[0;34m[\u001b[0m\u001b[0;34m:\u001b[0m\u001b[0;34m,\u001b[0m \u001b[0midx\u001b[0m\u001b[0;34m]\u001b[0m \u001b[0;34m-\u001b[0m \u001b[0mpp\u001b[0m\u001b[0;34m[\u001b[0m\u001b[0;34m:\u001b[0m\u001b[0;34m,\u001b[0m \u001b[0midx\u001b[0m\u001b[0;34m-\u001b[0m\u001b[0;36m1\u001b[0m\u001b[0;34m]\u001b[0m\u001b[0;34m,\u001b[0m \u001b[0mxn\u001b[0m\u001b[0;34m[\u001b[0m\u001b[0;34m:\u001b[0m\u001b[0;34m,\u001b[0m \u001b[0midx\u001b[0m\u001b[0;34m,\u001b[0m \u001b[0;36m0\u001b[0m\u001b[0;34m]\u001b[0m\u001b[0;34m.\u001b[0m\u001b[0mnumpy\u001b[0m\u001b[0;34m(\u001b[0m\u001b[0;34m)\u001b[0m \u001b[0;34m-\u001b[0m \u001b[0mxn\u001b[0m\u001b[0;34m[\u001b[0m\u001b[0;34m:\u001b[0m\u001b[0;34m,\u001b[0m \u001b[0midx\u001b[0m\u001b[0;34m-\u001b[0m\u001b[0;36m1\u001b[0m\u001b[0;34m,\u001b[0m \u001b[0;36m0\u001b[0m\u001b[0;34m]\u001b[0m\u001b[0;34m.\u001b[0m\u001b[0mnumpy\u001b[0m\u001b[0;34m(\u001b[0m\u001b[0;34m)\u001b[0m\u001b[0;34m)\u001b[0m\u001b[0;34m\u001b[0m\u001b[0;34m\u001b[0m\u001b[0m\n\u001b[0m",
            "\u001b[0;31mNameError\u001b[0m: name 'pp' is not defined"
          ]
        }
      ],
      "source": [
        "idx = 50\n",
        "np.cov(pp[:, idx] - pp[:, idx-1], xn[:, idx, 0].numpy() - xn[:, idx-1, 0].numpy())"
      ]
    },
    {
      "cell_type": "markdown",
      "metadata": {
        "id": "R-RDKXCLPtPA"
      },
      "source": [
        "## Test Bond sims"
      ]
    },
    {
      "cell_type": "code",
      "execution_count": null,
      "metadata": {
        "id": "DKMBUg5yfGuw"
      },
      "outputs": [],
      "source": [
        "p_t_tau, _, _ = model.sample_discount_curve_paths(\n",
        "    times=times,\n",
        "    curve_times=curve_times,\n",
        "    num_samples=num_samples,\n",
        "    time_step=0.1)\n",
        "print(p_t_tau.shape)"
      ]
    },
    {
      "cell_type": "code",
      "execution_count": null,
      "metadata": {
        "colab": {
          "base_uri": "https://localhost:8080/"
        },
        "executionInfo": {
          "elapsed": 349,
          "status": "ok",
          "timestamp": 1627045827831,
          "user": {
            "displayName": "Cyril Chimisov",
            "photoUrl": "https://lh3.googleusercontent.com/a/default-user=s64",
            "userId": "02803093032097482871"
          },
          "user_tz": -60
        },
        "id": "EOO9Ot66SobJ",
        "outputId": "5462345e-eed0-42bd-90ae-ac56c13aa2e1"
      },
      "outputs": [
        {
          "data": {
            "text/plain": [
              "TensorShape([100000, 5, 10])"
            ]
          },
          "execution_count": 20,
          "metadata": {
            "tags": []
          },
          "output_type": "execute_result"
        }
      ],
      "source": [
        "p_t_tau.shape"
      ]
    },
    {
      "cell_type": "code",
      "execution_count": null,
      "metadata": {
        "colab": {
          "base_uri": "https://localhost:8080/",
          "height": 299
        },
        "executionInfo": {
          "elapsed": 709,
          "status": "ok",
          "timestamp": 1627045828941,
          "user": {
            "displayName": "Cyril Chimisov",
            "photoUrl": "https://lh3.googleusercontent.com/a/default-user=s64",
            "userId": "02803093032097482871"
          },
          "user_tz": -60
        },
        "id": "-W7ke1gWD1Wr",
        "outputId": "ef2c9048-2798-45d7-e852-a946e942f72c"
      },
      "outputs": [
        {
          "name": "stdout",
          "output_type": "stream",
          "text": [
            "[0.         0.00935858 0.01857783 0.08755848 0.16292077]\n"
          ]
        },
        {
          "data": {
            "text/plain": [
              "[\u003cmatplotlib.lines.Line2D at 0x7f63d1f5d9d0\u003e]"
            ]
          },
          "execution_count": 21,
          "metadata": {
            "tags": []
          },
          "output_type": "execute_result"
        },
        {
          "data": {
            "image/png": "[encoded data removed]",
            "text/plain": [
              "\u003cFigure size 432x288 with 1 Axes\u003e"
            ]
          },
          "metadata": {
            "needs_background": "light",
            "tags": []
          },
          "output_type": "display_data"
        }
      ],
      "source": [
        "def bond_std(t, T, v, k):\n",
        "  eT = np.exp(-k*T)\n",
        "  et = np.exp(k*t)\n",
        "  #return np.sqrt(v**2/k**2 *(t-eT**2*(et**2-1.)/2/k+2*eT*(et - 1)/k))\n",
        "  val = v/k * (1. - eT*et) * np.sqrt((1.-1./et/et)/k/2)\n",
        "  print (val)\n",
        "  return val\n",
        "d = tf.math.reduce_std(tf.math.log(p_t_tau), axis=0)\n",
        "tidx = 3\n",
        "plt.plot(d[:,tidx])\n",
        "plt.plot(bond_std(times[tidx], curve_times + times[tidx], 0.01, 0.03))"
      ]
    },
    {
      "cell_type": "code",
      "execution_count": null,
      "metadata": {
        "colab": {
          "base_uri": "https://localhost:8080/",
          "height": 299
        },
        "executionInfo": {
          "elapsed": 369,
          "status": "ok",
          "timestamp": 1627045830306,
          "user": {
            "displayName": "Cyril Chimisov",
            "photoUrl": "https://lh3.googleusercontent.com/a/default-user=s64",
            "userId": "02803093032097482871"
          },
          "user_tz": -60
        },
        "id": "nQTiPi1qNYFm",
        "outputId": "e005fa32-747e-4cfb-be12-84af7a8676b7"
      },
      "outputs": [
        {
          "name": "stdout",
          "output_type": "stream",
          "text": [
            "[0.         0.00933947 0.01853989 0.08737965 0.16258801]\n"
          ]
        },
        {
          "data": {
            "text/plain": [
              "[\u003cmatplotlib.lines.Line2D at 0x7f63d1edfd50\u003e]"
            ]
          },
          "execution_count": 22,
          "metadata": {
            "tags": []
          },
          "output_type": "execute_result"
        },
        {
          "data": {
            "image/png": "[encoded data removed]",
            "text/plain": [
              "\u003cFigure size 432x288 with 1 Axes\u003e"
            ]
          },
          "metadata": {
            "needs_background": "light",
            "tags": []
          },
          "output_type": "display_data"
        }
      ],
      "source": [
        "d = tf.math.reduce_std(tf.math.log(p_t_tau), axis=0)\n",
        "tidx = 2\n",
        "plt.plot(d[:,tidx])\n",
        "plt.plot(bond_std(times[tidx], curve_times + times[tidx],\n",
        "                  np.sqrt(0.005**2+0.008**2+2*0.5*0.005*0.008), 0.03))"
      ]
    },
    {
      "cell_type": "code",
      "execution_count": null,
      "metadata": {
        "colab": {
          "base_uri": "https://localhost:8080/"
        },
        "executionInfo": {
          "elapsed": 7,
          "status": "ok",
          "timestamp": 1627045831621,
          "user": {
            "displayName": "Cyril Chimisov",
            "photoUrl": "https://lh3.googleusercontent.com/a/default-user=s64",
            "userId": "02803093032097482871"
          },
          "user_tz": -60
        },
        "id": "-tkhyYgpYH2U",
        "outputId": "0585cee2-e771-408f-cc74-557ada0820b0"
      },
      "outputs": [
        {
          "data": {
            "text/plain": [
              "\u003ctf.Tensor: shape=(3,), dtype=int32, numpy=array([3, 2, 1], dtype=int32)\u003e"
            ]
          },
          "execution_count": 23,
          "metadata": {
            "tags": []
          },
          "output_type": "execute_result"
        }
      ],
      "source": [
        "aa = tf.convert_to_tensor([1,2,3])\n",
        "tf.reverse(tf.expand_dims(aa, axis=0), [1])[0]"
      ]
    },
    {
      "cell_type": "markdown",
      "metadata": {
        "id": "uPpqXD-24UNX"
      },
      "source": [
        "## Discount bond price"
      ]
    },
    {
      "cell_type": "code",
      "execution_count": null,
      "metadata": {
        "colab": {
          "base_uri": "https://localhost:8080/"
        },
        "executionInfo": {
          "elapsed": 6,
          "status": "ok",
          "timestamp": 1627045832990,
          "user": {
            "displayName": "Cyril Chimisov",
            "photoUrl": "https://lh3.googleusercontent.com/a/default-user=s64",
            "userId": "02803093032097482871"
          },
          "user_tz": -60
        },
        "id": "LbERcB4121K7",
        "outputId": "536def26-8dc3-4e3f-d523-db58662af408"
      },
      "outputs": [
        {
          "data": {
            "text/plain": [
              "(\u003ctf.Tensor: shape=(2, 2, 1), dtype=float64, numpy=\n",
              " array([[[9.93262053e-05],\n",
              "         [4.96631027e-05]],\n",
              " \n",
              "        [[4.96631027e-05],\n",
              "         [9.93262053e-05]]])\u003e,\n",
              " \u003ctf.Tensor: shape=(2, 2, 1), dtype=float64, numpy=\n",
              " array([[[0.00058265],\n",
              "         [0.        ]],\n",
              " \n",
              "        [[0.        ],\n",
              "         [0.00043197]]])\u003e)"
            ]
          },
          "execution_count": 24,
          "metadata": {
            "tags": []
          },
          "output_type": "execute_result"
        }
      ],
      "source": [
        "model.state_y([5.0]), model2.state_y([5.0])"
      ]
    },
    {
      "cell_type": "code",
      "execution_count": null,
      "metadata": {
        "colab": {
          "base_uri": "https://localhost:8080/"
        },
        "executionInfo": {
          "elapsed": 5,
          "status": "ok",
          "timestamp": 1627045834226,
          "user": {
            "displayName": "Cyril Chimisov",
            "photoUrl": "https://lh3.googleusercontent.com/a/default-user=s64",
            "userId": "02803093032097482871"
          },
          "user_tz": -60
        },
        "id": "naMhoovz4mpF",
        "outputId": "d5a7fefe-147e-4a23-d32a-66d30eafce41"
      },
      "outputs": [
        {
          "name": "stdout",
          "output_type": "stream",
          "text": [
            "['1.0000000000000000', '2.0000000000000000']\n"
          ]
        }
      ],
      "source": [
        "print(['%0.16f'% x for x in np.array([1, 2])])"
      ]
    },
    {
      "cell_type": "markdown",
      "metadata": {
        "id": "6hip4KtTaLQM"
      },
      "source": [
        "# Swaption pricing"
      ]
    },
    {
      "cell_type": "code",
      "execution_count": null,
      "metadata": {
        "id": "Bp-bbRAyLn1Y"
      },
      "outputs": [],
      "source": [
        "import enum\n",
        "\n",
        "from tf_quant_finance.math import pde\n",
        "from tf_quant_finance.models import utils\n",
        "from tf_quant_finance.models import valuation_method as vm\n",
        "from tf_quant_finance.models.hjm import gaussian_hjm\n",
        "from tf_quant_finance.models.hjm import quasi_gaussian_hjm\n",
        "from tf_quant_finance.models.hjm import swaption_util\n",
        "\n",
        "\n",
        "@enum.unique\n",
        "class ValuationMethod(enum.Enum):\n",
        "  \"\"\"Swaption valuation methods.\n",
        "\n",
        "  * `ANALYTIC`: Analytic valuation.\n",
        "  * `MONTE_CARLO`: Valuation using Monte carlo simulations.\n",
        "  * `FINITE_DIFFERENCE`: Valuation using finite difference.\n",
        "  \"\"\"\n",
        "  ANALYTIC = 1\n",
        "  MONTE_CARLO = 2\n",
        "  FINITE_DIFFERENCE = 3\n",
        "\n",
        "\n",
        "# Points smaller than this are merged together in FD time grid\n",
        "_PDE_TIME_GRID_TOL = 1e-7\n",
        "\n",
        "\n",
        "def price(*,\n",
        "          expiries,\n",
        "          fixed_leg_payment_times,\n",
        "          fixed_leg_daycount_fractions,\n",
        "          fixed_leg_coupon,\n",
        "          reference_rate_fn,\n",
        "          num_hjm_factors,\n",
        "          mean_reversion,\n",
        "          volatility,\n",
        "          times=None,\n",
        "          time_step=None,\n",
        "          num_time_steps=None,\n",
        "          curve_times=None,\n",
        "          corr_matrix=None,\n",
        "          notional=None,\n",
        "          is_payer_swaption=None,\n",
        "          valuation_method=vm.ValuationMethod.MONTE_CARLO,\n",
        "          num_samples=1,\n",
        "          random_type=None,\n",
        "          seed=None,\n",
        "          skip=0,\n",
        "          time_step_finite_difference=None,\n",
        "          num_time_steps_finite_difference=None,\n",
        "          num_grid_points_finite_difference=101,\n",
        "          dtype=None,\n",
        "          name=None):\n",
        "  \"\"\"Calculates the price of European swaptions using the HJM model.\n",
        "\n",
        "  A European Swaption is a contract that gives the holder an option to enter a\n",
        "  swap contract at a future date at a prespecified fixed rate. A swaption that\n",
        "  grants the holder the right to pay fixed rate and receive floating rate is\n",
        "  called a payer swaption while the swaption that grants the holder the right to\n",
        "  receive fixed and pay floating payments is called the receiver swaption.\n",
        "  Typically the start date (or the inception date) of the swap coincides with\n",
        "  the expiry of the swaption. Mid-curve swaptions are currently not supported\n",
        "  (b/160061740).\n",
        "\n",
        "  This implementation uses the HJM model to numerically value the swaption via\n",
        "  Monte-Carlo. For more information on the formulation of the HJM model, see\n",
        "  quasi_gaussian_hjm.py.\n",
        "\n",
        "  #### Example\n",
        "\n",
        "  ````python\n",
        "  import numpy as np\n",
        "  import tensorflow as tf\n",
        "  import tf_quant_finance as tff\n",
        "\n",
        "  dtype = tf.float64\n",
        "\n",
        "  # Price 1y x 1y swaption with quarterly payments using Monte Carlo\n",
        "  # simulations.\n",
        "  expiries = np.array([1.0])\n",
        "  fixed_leg_payment_times = np.array([1.25, 1.5, 1.75, 2.0])\n",
        "  fixed_leg_daycount_fractions = 0.25 * np.ones_like(fixed_leg_payment_times)\n",
        "  fixed_leg_coupon = 0.011 * np.ones_like(fixed_leg_payment_times)\n",
        "  zero_rate_fn = lambda x: 0.01 * tf.ones_like(x, dtype=dtype)\n",
        "  mean_reversion = [0.03]\n",
        "  volatility = [0.02]\n",
        "\n",
        "  price = tff.models.hjm.swaption_price(\n",
        "      expiries=expiries,\n",
        "      fixed_leg_payment_times=fixed_leg_payment_times,\n",
        "      fixed_leg_daycount_fractions=fixed_leg_daycount_fractions,\n",
        "      fixed_leg_coupon=fixed_leg_coupon,\n",
        "      reference_rate_fn=zero_rate_fn,\n",
        "      notional=100.,\n",
        "      num_hjm_factors=1,\n",
        "      mean_reversion=mean_reversion,\n",
        "      volatility=volatility,\n",
        "      valuation_method=tff.model.ValuationMethod.MONTE_CARLO,\n",
        "      num_samples=500000,\n",
        "      time_step=0.1,\n",
        "      random_type=tff.math.random.RandomType.STATELESS_ANTITHETIC,\n",
        "      seed=[1, 2])\n",
        "  # Expected value: [[0.716]]\n",
        "  ````\n",
        "\n",
        "\n",
        "  #### References:\n",
        "    [1]: D. Brigo, F. Mercurio. Interest Rate Models-Theory and Practice.\n",
        "    Second Edition. 2007. Section 6.7, page 237.\n",
        "\n",
        "  Args:\n",
        "    expiries: A real `Tensor` of any shape and dtype. The time to expiration of\n",
        "      the swaptions. The shape of this input determines the number (and shape)\n",
        "      of swaptions to be priced and the shape of the output.\n",
        "    fixed_leg_payment_times: A real `Tensor` of the same dtype as `expiries`.\n",
        "      The payment times for each payment in the fixed leg. The shape of this\n",
        "      input should be `expiries.shape + [n]` where `n` denotes the number of\n",
        "      fixed payments in each leg. The `fixed_leg_payment_times` should be\n",
        "      greater-than or equal-to the corresponding expiries.\n",
        "    fixed_leg_daycount_fractions: A real `Tensor` of the same dtype and\n",
        "      compatible shape as `fixed_leg_payment_times`. The daycount fractions for\n",
        "      each payment in the fixed leg.\n",
        "    fixed_leg_coupon: A real `Tensor` of the same dtype and compatible shape as\n",
        "      `fixed_leg_payment_times`. The fixed rate for each payment in the fixed\n",
        "      leg.\n",
        "    reference_rate_fn: A Python callable that accepts expiry time as a real\n",
        "      `Tensor` and returns a `Tensor` of shape `input_shape +\n",
        "      [num_hjm_factors]`. Returns the continuously compounded zero rate at the\n",
        "      present time for the input expiry time.\n",
        "    num_hjm_factors: A Python scalar which corresponds to the number of factors\n",
        "      in the HJM model to be used for pricing.\n",
        "    mean_reversion: A real positive `Tensor` of shape `[num_hjm_factors]`.\n",
        "      Corresponds to the mean reversion rate of each factor.\n",
        "    volatility: A real positive `Tensor` of the same `dtype` and shape as\n",
        "      `mean_reversion` or a callable with the following properties: (a)  The\n",
        "        callable should accept a scalar `Tensor` `t` and a 1-D `Tensor` `r(t)`\n",
        "        of shape `[num_samples]` and returns a 2-D `Tensor` of shape\n",
        "        `[num_samples, num_hjm_factors]`. The variable `t`  stands for time and\n",
        "        `r(t)` is the short rate at time `t`.  The function returns the\n",
        "        instantaneous volatility `sigma(t) = sigma(t, r(t))`. When `volatility`\n",
        "        is specified as a real `Tensor`, each factor is assumed to have a\n",
        "        constant instantaneous volatility  and the  model is effectively a\n",
        "        Gaussian HJM model. Corresponds to the instantaneous volatility of each\n",
        "        factor.\n",
        "    times: An optional rank 1 `Tensor` of increasing positive real values. The\n",
        "      times at which Monte Carlo simulations are performed. Relevant when\n",
        "      swaption valuation is done using Monte Calro simulations.\n",
        "      Default value: `None` in which case simulation times are computed based\n",
        "      on either `time_step` or `num_time_steps` inputs.\n",
        "    time_step: Optional scalar real `Tensor`. Maximal distance between time\n",
        "      grid points in Euler scheme. Relevant when Euler scheme is used for\n",
        "      simulation. This input or `num_time_steps` are required when valuation\n",
        "      method is Monte Carlo.\n",
        "      Default Value: `None`.\n",
        "    num_time_steps: An optional scalar integer `Tensor` - a total number of\n",
        "      time steps during Monte Carlo simulations. The maximal distance betwen\n",
        "      points in grid is bounded by\n",
        "      `times[-1] / (num_time_steps - times.shape[0])`.\n",
        "      Either this or `time_step` should be supplied when the valuation method\n",
        "      is Monte Carlo.\n",
        "      Default value: `None`.\n",
        "    curve_times: An optional rank 1 `Tensor` of positive real values. The\n",
        "      maturities at which spot discount curve is computed during simulations.\n",
        "      Default value: `None` in which case `curve_times` is computed based on\n",
        "      swaption expities and `fixed_leg_payments_times` inputs.\n",
        "    corr_matrix: A `Tensor` of shape `[num_hjm_factors, num_hjm_factors]` and\n",
        "      the same `dtype` as `mean_reversion`. Specifies the correlation between\n",
        "      HJM factors.\n",
        "      Default value: `None` in which case the factors are assumed to be\n",
        "        uncorrelated.\n",
        "    notional: An optional `Tensor` of same dtype and compatible shape as\n",
        "      `strikes`specifying the notional amount for the underlying swaps.\n",
        "       Default value: None in which case the notional is set to 1.\n",
        "    is_payer_swaption: A boolean `Tensor` of a shape compatible with `expiries`.\n",
        "      Indicates whether the swaption is a payer (if True) or a receiver (if\n",
        "      False) swaption. If not supplied, payer swaptions are assumed.\n",
        "    valuation_method: An enum of type `ValuationMethod` specifying\n",
        "      the method to be used for swaption valuation. Currently the valuation is\n",
        "      supported using `MONTE_CARLO` and `FINITE_DIFFERENCE` methods. Valuation\n",
        "      using finite difference is only supported for Gaussian HJM models, i.e.\n",
        "      for models with constant mean-reversion rate and time-dependent\n",
        "      volatility.\n",
        "      Default value: `ValuationMethod.MONTE_CARLO`, in which case\n",
        "      swaption valuation is done using Monte Carlo simulations.\n",
        "    num_samples: Positive scalar `int32` `Tensor`. The number of simulation\n",
        "      paths during Monte-Carlo valuation. This input is ignored during analytic\n",
        "      valuation.\n",
        "      Default value: The default value is 1.\n",
        "    random_type: Enum value of `RandomType`. The type of (quasi)-random number\n",
        "      generator to use to generate the simulation paths. This input is relevant\n",
        "      only for Monte-Carlo valuation and ignored during analytic valuation.\n",
        "      Default value: `None` which maps to the standard pseudo-random numbers.\n",
        "    seed: Seed for the random number generator. The seed is only relevant if\n",
        "      `random_type` is one of `[STATELESS, PSEUDO, HALTON_RANDOMIZED,\n",
        "      PSEUDO_ANTITHETIC, STATELESS_ANTITHETIC]`. For `PSEUDO`,\n",
        "      `PSEUDO_ANTITHETIC` and `HALTON_RANDOMIZED` the seed should be an Python\n",
        "      integer. For `STATELESS` and  `STATELESS_ANTITHETIC` must be supplied as\n",
        "      an integer `Tensor` of shape `[2]`. This input is relevant only for\n",
        "      Monte-Carlo valuation and ignored during analytic valuation.\n",
        "      Default value: `None` which means no seed is set.\n",
        "    skip: `int32` 0-d `Tensor`. The number of initial points of the Sobol or\n",
        "      Halton sequence to skip. Used only when `random_type` is 'SOBOL',\n",
        "      'HALTON', or 'HALTON_RANDOMIZED', otherwise ignored.\n",
        "      Default value: `0`.\n",
        "    time_step_finite_difference: Optional scalar real `Tensor`. Spacing between\n",
        "      time grid points in finite difference discretization. This input is only\n",
        "      relevant for valuation using finite difference.\n",
        "      Default value: `None`. If `num_time_steps_finite_difference` is also\n",
        "      unspecified then a `time_step` corresponding to 100 discretization steps\n",
        "      is used.\n",
        "    num_time_steps_finite_difference: Optional scalar real `Tensor`. Number of\n",
        "      time grid points in finite difference discretization. This input is only\n",
        "      relevant for valuation using finite difference.\n",
        "      Default value: `None`. If `time_step_finite_difference` is also\n",
        "      unspecified, then 100 time steps are used.\n",
        "    num_grid_points_finite_difference: Optional scalar real `Tensor`. Number of\n",
        "      spatial grid points per dimension. Currently, we construct an uniform grid\n",
        "      for spatial discretization. This input is only relevant for valuation\n",
        "      using finite difference.\n",
        "      Default value: 101.\n",
        "    dtype: The default dtype to use when converting values to `Tensor`s.\n",
        "      Default value: `None` which means that default dtypes inferred by\n",
        "        TensorFlow are used.\n",
        "    name: Python string. The name to give to the ops created by this function.\n",
        "      Default value: `None` which maps to the default name `hjm_swaption_price`.\n",
        "\n",
        "  Returns:\n",
        "    A `Tensor` of real dtype and shape expiries.shape + [1]\n",
        "    containing the computed swaption prices. For swaptions that have reset in\n",
        "    the past (expiries\u003c0), the function sets the corresponding option prices to\n",
        "    0.0.\n",
        "  \"\"\"\n",
        "\n",
        "  # TODO(b/160061740): Extend the functionality to support mid-curve swaptions.\n",
        "  name = name or 'hjm_swaption_price'\n",
        "  with tf.name_scope(name):\n",
        "    expiries = tf.convert_to_tensor(expiries, dtype=dtype, name='expiries')\n",
        "    dtype = dtype or expiries.dtype\n",
        "    fixed_leg_payment_times = tf.convert_to_tensor(\n",
        "        fixed_leg_payment_times, dtype=dtype, name='fixed_leg_payment_times')\n",
        "    fixed_leg_daycount_fractions = tf.convert_to_tensor(\n",
        "        fixed_leg_daycount_fractions,\n",
        "        dtype=dtype,\n",
        "        name='fixed_leg_daycount_fractions')\n",
        "    fixed_leg_coupon = tf.convert_to_tensor(\n",
        "        fixed_leg_coupon, dtype=dtype, name='fixed_leg_coupon')\n",
        "    notional = tf.convert_to_tensor(notional, dtype=dtype, name='notional')\n",
        "    notional = tf.expand_dims(\n",
        "        tf.broadcast_to(notional, expiries.shape), axis=-1)\n",
        "    if is_payer_swaption is None:\n",
        "      is_payer_swaption = True\n",
        "    is_payer_swaption = tf.convert_to_tensor(\n",
        "        is_payer_swaption, dtype=tf.bool, name='is_payer_swaption')\n",
        "\n",
        "    output_shape = expiries.shape.as_list() + [1]\n",
        "    # Add a dimension corresponding to multiple cashflows in a swap\n",
        "    if expiries.shape.rank == fixed_leg_payment_times.shape.rank - 1:\n",
        "      expiries = tf.expand_dims(expiries, axis=-1)\n",
        "    elif expiries.shape.rank \u003c fixed_leg_payment_times.shape.rank - 1:\n",
        "      raise ValueError('Swaption expiries not specified for all swaptions '\n",
        "                       'in the batch. Expected rank {} but received {}.'.format(\n",
        "                           fixed_leg_payment_times.shape.rank - 1,\n",
        "                           expiries.shape.rank))\n",
        "\n",
        "    # Expected shape: batch_shape + [m], where m is the number of fixed leg\n",
        "    # payments per underlying swap. This is the same as\n",
        "    # fixed_leg_payment_times.shape\n",
        "    #\n",
        "    # We need to explicitly use tf.repeat because we need to price\n",
        "    # batch_shape + [m] bond options with different strikes along the last\n",
        "    # dimension.\n",
        "    expiries = tf.repeat(\n",
        "        expiries, tf.shape(fixed_leg_payment_times)[-1], axis=-1)\n",
        "\n",
        "    if valuation_method == vm.ValuationMethod.FINITE_DIFFERENCE:\n",
        "      model = gaussian_hjm.GaussianHJM(\n",
        "          num_hjm_factors,\n",
        "          mean_reversion=mean_reversion,\n",
        "          volatility=volatility,\n",
        "          initial_discount_rate_fn=reference_rate_fn,\n",
        "          corr_matrix=corr_matrix,\n",
        "          dtype=dtype)\n",
        "\n",
        "      batch_shape = expiries.shape.as_list()[:-1] or [1]\n",
        "      return _bermudan_swaption_fd(\n",
        "          batch_shape,\n",
        "          model,\n",
        "          # Add a dimension to denote ONE exercise date\n",
        "          tf.expand_dims(expiries, axis=-2),\n",
        "          fixed_leg_payment_times,\n",
        "          fixed_leg_daycount_fractions,\n",
        "          fixed_leg_coupon,\n",
        "          notional,\n",
        "          is_payer_swaption,\n",
        "          time_step_finite_difference,\n",
        "          num_time_steps_finite_difference,\n",
        "          num_grid_points_finite_difference,\n",
        "          name + '_fd',\n",
        "          dtype)\n",
        "    elif valuation_method == vm.ValuationMethod.MONTE_CARLO:\n",
        "      # Monte-Carlo pricing\n",
        "      model = quasi_gaussian_hjm.QuasiGaussianHJM(\n",
        "          num_hjm_factors,\n",
        "          mean_reversion=mean_reversion,\n",
        "          volatility=volatility,\n",
        "          initial_discount_rate_fn=reference_rate_fn,\n",
        "          corr_matrix=corr_matrix,\n",
        "          dtype=dtype)\n",
        "\n",
        "      return _european_swaption_mc(\n",
        "          output_shape, model, expiries, fixed_leg_payment_times,\n",
        "          fixed_leg_daycount_fractions, fixed_leg_coupon, notional,\n",
        "          is_payer_swaption, times, time_step, num_time_steps, curve_times,\n",
        "          num_samples, random_type, skip, seed, dtype, name + '_mc')\n",
        "    else:\n",
        "      raise ValueError('Swaption Valuation using {} is not supported'.format(\n",
        "          str(valuation_method)))\n",
        "\n",
        "\n",
        "def _european_swaption_mc(output_shape, model, expiries,\n",
        "                          fixed_leg_payment_times, fixed_leg_daycount_fractions,\n",
        "                          fixed_leg_coupon, notional, is_payer_swaption, times,\n",
        "                          time_step, num_time_steps, curve_times, num_samples,\n",
        "                          random_type, skip, seed, dtype, name):\n",
        "  \"\"\"Price European swaptions using Monte-Carlo.\"\"\"\n",
        "  with tf.name_scope(name):\n",
        "    if (times is None) and (time_step is None) and (num_time_steps is None):\n",
        "      raise ValueError(\n",
        "          'One of `times`, `time_step` or `num_time_steps` must be '\n",
        "          'provided for simulation based swaption valuation.')\n",
        "\n",
        "    def _sample_discount_curve_path_fn(times, curve_times, num_samples):\n",
        "      p_t_tau, r_t, df = model.sample_discount_curve_paths(\n",
        "          times=times,\n",
        "          curve_times=curve_times,\n",
        "          num_samples=num_samples,\n",
        "          random_type=random_type,\n",
        "          time_step=time_step,\n",
        "          num_time_steps=num_time_steps,\n",
        "          seed=seed,\n",
        "          skip=skip)\n",
        "      p_t_tau = tf.expand_dims(p_t_tau, axis=-1)\n",
        "      r_t = tf.expand_dims(r_t, axis=-1)\n",
        "      df = tf.expand_dims(df, axis=-1)\n",
        "      return p_t_tau, r_t, df\n",
        "\n",
        "    payoff_discount_factors, payoff_bond_price = (\n",
        "        swaption_util.discount_factors_and_bond_prices_from_samples(\n",
        "            expiries=expiries,\n",
        "            payment_times=fixed_leg_payment_times,\n",
        "            sample_discount_curve_paths_fn=_sample_discount_curve_path_fn,\n",
        "            num_samples=num_samples,\n",
        "            times=times,\n",
        "            curve_times=curve_times,\n",
        "            dtype=dtype))\n",
        "\n",
        "    # Add an axis corresponding to `dim`\n",
        "    fixed_leg_pv = tf.expand_dims(\n",
        "        fixed_leg_coupon * fixed_leg_daycount_fractions,\n",
        "        axis=-1) * payoff_bond_price\n",
        "\n",
        "    # Sum fixed coupon payments within each swap.\n",
        "    # Here, axis=-2 is the payments axis - i.e. summing over all payments; and\n",
        "    # the last axis is the `dim` axis, as explained in comment above\n",
        "    # `fixed_leg_pv` (Note that for HJM the dim of this axis is 1 always).\n",
        "    fixed_leg_pv = tf.math.reduce_sum(fixed_leg_pv, axis=-2)\n",
        "    float_leg_pv = 1.0 - payoff_bond_price[..., -1, :]\n",
        "    payoff_swap = payoff_discount_factors[..., -1, :] * (\n",
        "        float_leg_pv - fixed_leg_pv)\n",
        "    payoff_swap = tf.where(is_payer_swaption, payoff_swap, -1.0 * payoff_swap)\n",
        "    payoff_swaption = tf.math.maximum(payoff_swap, 0.0)\n",
        "    option_value = tf.reshape(\n",
        "        tf.math.reduce_mean(payoff_swaption, axis=0), output_shape)\n",
        "\n",
        "    return notional * option_value\n",
        "\n",
        "\n",
        "def _bermudan_swaption_fd(batch_shape, model, exercise_times,\n",
        "                          fixed_leg_payment_times, fixed_leg_daycount_fractions,\n",
        "                          fixed_leg_coupon, notional, is_payer_swaption,\n",
        "                          time_step_fd, num_time_steps_fd, num_grid_points_fd,\n",
        "                          name, dtype):\n",
        "  \"\"\"Price Bermudan swaptions using finite difference.\"\"\"\n",
        "  with tf.name_scope(name):\n",
        "    dim = model.dim()\n",
        "    x_min = -0.5\n",
        "    x_max = 0.5\n",
        "    # grid.shape = (num_grid_points,2)\n",
        "    grid = pde.grids.uniform_grid(\n",
        "        minimums=[x_min] * dim,\n",
        "        maximums=[x_max] * dim,\n",
        "        sizes=[num_grid_points_fd] * dim,\n",
        "        dtype=dtype)\n",
        "\n",
        "    # TODO(b/186876306): Remove dynamic shapes.\n",
        "    pde_time_grid, pde_time_grid_dt = _create_pde_time_grid(\n",
        "        exercise_times, time_step_fd, num_time_steps_fd, dtype)\n",
        "    maturities, unique_maturities, maturities_shape = (\n",
        "        _create_termstructure_maturities(fixed_leg_payment_times))\n",
        "\n",
        "    num_maturities = tf.shape(unique_maturities)[-1]\n",
        "    x_meshgrid = _coord_grid_to_mesh_grid(grid)\n",
        "    meshgrid_shape = tf.shape(x_meshgrid)\n",
        "    broadcasted_maturities = tf.expand_dims(unique_maturities, axis=0)\n",
        "\n",
        "    num_grid_points = tf.math.reduce_prod(meshgrid_shape[1:])\n",
        "    shape_to_broadcast = tf.concat(\n",
        "        [meshgrid_shape, [num_maturities]], axis=0)\n",
        "\n",
        "    # Reshape `state_x`, `maturities` to (num_grid_points, num_maturities)\n",
        "    state_x = tf.expand_dims(x_meshgrid, axis=-1)\n",
        "    state_x = tf.broadcast_to(state_x, shape_to_broadcast)\n",
        "    broadcasted_maturities = tf.broadcast_to(\n",
        "        broadcasted_maturities, shape_to_broadcast[1:])\n",
        "\n",
        "    def _get_swap_payoff(payoff_time):\n",
        "      broadcasted_exercise_times = tf.broadcast_to(\n",
        "          payoff_time, shape_to_broadcast[1:])\n",
        "\n",
        "      # Zero-coupon bond curve\n",
        "      zcb_curve = model.discount_bond_price(\n",
        "          tf.transpose(\n",
        "              tf.reshape(\n",
        "                  state_x, [dim, num_grid_points * num_maturities])),\n",
        "          tf.reshape(broadcasted_exercise_times, [-1]),\n",
        "          tf.reshape(broadcasted_maturities, [-1]))\n",
        "      zcb_curve = tf.reshape(\n",
        "          zcb_curve, [num_grid_points, num_maturities])\n",
        "\n",
        "      maturities_index = tf.searchsorted(\n",
        "          unique_maturities, tf.reshape(maturities, [-1]))\n",
        "\n",
        "      zcb_curve = tf.gather(zcb_curve, maturities_index, axis=-1)\n",
        "      # zcb_curve.shape = [num_grid_points] + [maturities_shape]\n",
        "      zcb_curve = tf.reshape(\n",
        "          zcb_curve, tf.concat([[num_grid_points], maturities_shape], axis=0))\n",
        "\n",
        "      # Shape after reduce_sum =\n",
        "      # (num_grid_points, batch_shape)\n",
        "      fixed_leg = tf.math.reduce_sum(\n",
        "          fixed_leg_coupon * fixed_leg_daycount_fractions * zcb_curve, axis=-1)\n",
        "      float_leg = 1.0 - zcb_curve[..., -1]\n",
        "      payoff_swap = float_leg - fixed_leg\n",
        "      payoff_swap = tf.where(is_payer_swaption, payoff_swap, -payoff_swap)\n",
        "      return tf.reshape(tf.transpose(\n",
        "          payoff_swap), tf.concat([batch_shape, meshgrid_shape[1:]], axis=0))\n",
        "\n",
        "    def _get_index(t, tensor_to_search):\n",
        "      t = tf.expand_dims(t, axis=-1)\n",
        "      index = tf.searchsorted(tensor_to_search, t - _PDE_TIME_GRID_TOL, 'right')\n",
        "      y = tf.gather(tensor_to_search, index)\n",
        "      return tf.where(tf.math.abs(t - y) \u003c _PDE_TIME_GRID_TOL, index, -1)[0]\n",
        "\n",
        "    sum_x_meshgrid = tf.math.reduce_sum(x_meshgrid, axis=0)\n",
        "\n",
        "    def _is_exercise_time(t):\n",
        "      return tf.reduce_any(tf.where(\n",
        "          tf.math.abs(exercise_times[..., -1] - t) \u003c _PDE_TIME_GRID_TOL,\n",
        "          True, False), axis=-1)\n",
        "\n",
        "    def _discounting_fn(t, grid):\n",
        "      del grid\n",
        "      f_0_t = (model._instant_forward_rate_fn(t))  # pylint: disable=protected-access\n",
        "      return sum_x_meshgrid + f_0_t\n",
        "\n",
        "    def _final_value():\n",
        "      t = pde_time_grid[-1]\n",
        "      payoff_swap = tf.nn.relu(_get_swap_payoff(t))\n",
        "      is_ex_time = _is_exercise_time(t)\n",
        "      return tf.where(tf.reshape(is_ex_time, tf.concat(\n",
        "          [batch_shape, [1] * dim], axis=0)), payoff_swap, 0.0)\n",
        "\n",
        "    def _values_transform_fn(t, grid, value_grid):\n",
        "      zero = tf.zeros_like(value_grid)\n",
        "      is_ex_time = _is_exercise_time(t)\n",
        "      def _at_least_one_swaption_pays():\n",
        "        payoff_swap = tf.nn.relu(_get_swap_payoff(t))\n",
        "        return tf.where(tf.reshape(is_ex_time, tf.concat(\n",
        "            [batch_shape, [1] * dim], axis=0)), payoff_swap, zero)\n",
        "      v_star = tf.cond(tf.math.reduce_any(is_ex_time),\n",
        "                       _at_least_one_swaption_pays, lambda: zero)\n",
        "      return grid, tf.maximum(value_grid, v_star)\n",
        "\n",
        "    # TODO(b/186876306): Use piecewise constant func here.\n",
        "    def _pde_time_step(t):\n",
        "      index = _get_index(t, pde_time_grid)\n",
        "      cond = lambda i, dt: tf.math.logical_and(dt \u003c _PDE_TIME_GRID_TOL, i \u003e -1)\n",
        "\n",
        "      def _fn(i, dt):\n",
        "        del dt\n",
        "        return i + 1, pde_time_grid_dt[i + 1]\n",
        "\n",
        "      _, dt = tf.while_loop(cond, _fn, (index, pde_time_grid_dt[index]))\n",
        "      return dt\n",
        "\n",
        "    # Use default boundary conditions, d^2V/dx_i^2 = 0\n",
        "    boundary_conditions = [(None, None) for i in range(dim)]\n",
        "    # res[0] contains the swaption prices.\n",
        "    # res[0].shape = batch_shape + [num_grid_points] * dim\n",
        "    res = model.fd_solver_backward(\n",
        "        pde_time_grid[-1],\n",
        "        0.0,\n",
        "        grid,\n",
        "        values_grid=_final_value(),\n",
        "        time_step=_pde_time_step,\n",
        "        boundary_conditions=boundary_conditions,\n",
        "        values_transform_fn=_values_transform_fn,\n",
        "        discounting=_discounting_fn,\n",
        "        dtype=dtype)\n",
        "\n",
        "    idx = tf.searchsorted(\n",
        "        tf.convert_to_tensor(grid),\n",
        "        tf.expand_dims(tf.convert_to_tensor([0.0] * dim, dtype=dtype), axis=-1))\n",
        "    # idx.shape = (dim, 1)\n",
        "    idx = tf.squeeze(idx) if dim \u003e 1 else tf.expand_dims(idx, axis=-1)\n",
        "\n",
        "    option_value = res[0]\n",
        "    for i in range(dim - 1, -1, -1):\n",
        "      option_value = tf.gather(option_value, idx[i], axis=-1)\n",
        "    # output_shape = batch_shape + [1]\n",
        "    return notional * tf.expand_dims(\n",
        "        tf.reshape(option_value, batch_shape), axis=-1)\n",
        "\n",
        "\n",
        "def _coord_grid_to_mesh_grid(coord_grid):\n",
        "  if len(coord_grid) == 1:\n",
        "    return tf.expand_dims(coord_grid[0], 0)\n",
        "  x_meshgrid = tf.stack(values=tf.meshgrid(*coord_grid, indexing='ij'), axis=-1)\n",
        "  perm = [len(coord_grid)] + list(range(len(coord_grid)))\n",
        "  return tf.transpose(x_meshgrid, perm=perm)\n",
        "\n",
        "\n",
        "def _create_pde_time_grid(exercise_times, time_step_fd, num_time_steps_fd,\n",
        "                          dtype):\n",
        "  \"\"\"Create PDE time grid.\"\"\"\n",
        "  with tf.name_scope('create_pde_time_grid'):\n",
        "    exercise_times, _ = tf.unique(tf.reshape(exercise_times, shape=[-1]))\n",
        "    if num_time_steps_fd is not None:\n",
        "      num_time_steps_fd = tf.convert_to_tensor(\n",
        "          num_time_steps_fd, dtype=tf.int32, name='num_time_steps_fd')\n",
        "      time_step_fd = tf.math.reduce_max(exercise_times) / tf.cast(\n",
        "          num_time_steps_fd, dtype=dtype)\n",
        "    if time_step_fd is None and num_time_steps_fd is None:\n",
        "      num_time_steps_fd = 100\n",
        "\n",
        "    pde_time_grid, _, _ = utils.prepare_grid(\n",
        "        times=exercise_times,\n",
        "        time_step=time_step_fd,\n",
        "        dtype=dtype,\n",
        "        num_time_steps=num_time_steps_fd)\n",
        "    pde_time_grid_dt = pde_time_grid[1:] - pde_time_grid[:-1]\n",
        "    pde_time_grid_dt = tf.concat([[100.0], pde_time_grid_dt], axis=-1)\n",
        "\n",
        "    return pde_time_grid, pde_time_grid_dt\n",
        "\n",
        "\n",
        "def _create_termstructure_maturities(fixed_leg_payment_times):\n",
        "  \"\"\"Create maturities needed for termstructure simulations.\"\"\"\n",
        "\n",
        "  with tf.name_scope('create_termstructure_maturities'):\n",
        "    maturities = fixed_leg_payment_times\n",
        "    maturities_shape = tf.shape(maturities)\n",
        "\n",
        "    # We should eventually remove tf.unique, but keeping it for now because\n",
        "    # PDE solvers are not xla compatible in TFF currently.\n",
        "    unique_maturities, _ = tf.unique(tf.reshape(maturities, shape=[-1]))\n",
        "    unique_maturities = tf.sort(unique_maturities, name='sort_maturities')\n",
        "\n",
        "    return maturities, unique_maturities, maturities_shape"
      ]
    },
    {
      "cell_type": "markdown",
      "metadata": {
        "id": "OWwDd2Qk3QyV"
      },
      "source": [
        "## Example"
      ]
    },
    {
      "cell_type": "code",
      "execution_count": null,
      "metadata": {
        "colab": {
          "base_uri": "https://localhost:8080/"
        },
        "executionInfo": {
          "elapsed": 6491,
          "status": "ok",
          "timestamp": 1627045847672,
          "user": {
            "displayName": "Cyril Chimisov",
            "photoUrl": "https://lh3.googleusercontent.com/a/default-user=s64",
            "userId": "02803093032097482871"
          },
          "user_tz": -60
        },
        "id": "nSvfWcNPvGTw",
        "outputId": "b8f6e55d-c671-40e3-a39c-704e934f5c6a"
      },
      "outputs": [
        {
          "data": {
            "text/plain": [
              "\u003ctf.Tensor: shape=(2, 1), dtype=float64, numpy=\n",
              "array([[0.58909314],\n",
              "       [0.80141135]])\u003e"
            ]
          },
          "execution_count": 27,
          "metadata": {
            "tags": []
          },
          "output_type": "execute_result"
        }
      ],
      "source": [
        "swaption_price = price\n",
        "dtype = tf.float64\n",
        "\n",
        "expiries = np.array([1.002739726, 2.002739726])\n",
        "fixed_leg_payment_times = np.array([[1.249315068,\t1.498630137,\t1.750684932,\t2.002739726],\n",
        "                                    [2.249315068,\t2.498630137,\t2.750684932,\t3.002739726]])\n",
        "fixed_leg_daycount_fractions = np.array([[0.2465753425,\t0.2493150685,\t0.2520547945,\t0.2520547945],\n",
        "                                         [0.2465753425,\t0.2493150685,\t0.2520547945,\t0.2520547945]])\n",
        "fixed_leg_coupon = 0.011 * np.ones_like(fixed_leg_payment_times)\n",
        "zero_rate_fn = lambda x: 0.01 * tf.ones_like(x, dtype=dtype)\n",
        "\n",
        "mu = [0.03, 0.15]\n",
        "vol = [0.01, 0.015]\n",
        "\n",
        "\n",
        "hjm_price = swaption_price(\n",
        "    expiries=expiries,\n",
        "    fixed_leg_payment_times=fixed_leg_payment_times,\n",
        "    fixed_leg_daycount_fractions=fixed_leg_daycount_fractions,\n",
        "    fixed_leg_coupon=fixed_leg_coupon,\n",
        "    reference_rate_fn=zero_rate_fn,\n",
        "    notional=100.,\n",
        "    num_hjm_factors=len(mu),\n",
        "    mean_reversion=mu,\n",
        "    volatility=vol,\n",
        "    # corr_matrix=[[1, 0.0], [0.0, 1]],\n",
        "    valuation_method=vm.ValuationMethod.FINITE_DIFFERENCE,\n",
        "    time_step_finite_difference=0.05,\n",
        "    num_grid_points_finite_difference=251,\n",
        "    time_step=0.05,\n",
        "    num_samples=1000000,\n",
        "    dtype=dtype)\n",
        "hjm_price"
      ]
    },
    {
      "cell_type": "markdown",
      "metadata": {
        "id": "-Z-2hbK5gZ4J"
      },
      "source": [
        "### Using quantlib"
      ]
    },
    {
      "cell_type": "code",
      "execution_count": null,
      "metadata": {
        "colab": {
          "base_uri": "https://localhost:8080/"
        },
        "executionInfo": {
          "elapsed": 6260,
          "status": "ok",
          "timestamp": 1627045876515,
          "user": {
            "displayName": "Cyril Chimisov",
            "photoUrl": "https://lh3.googleusercontent.com/a/default-user=s64",
            "userId": "02803093032097482871"
          },
          "user_tz": -60
        },
        "id": "nehPuYKO6Qor",
        "outputId": "70edd185-492b-4bb6-e743-f2aa4eb79ddc"
      },
      "outputs": [
        {
          "name": "stdout",
          "output_type": "stream",
          "text": [
            "price using HW 1.007148261731575\n",
            "price using G2 0.8029012153434956\n"
          ]
        },
        {
          "data": {
            "text/plain": [
              "0.010012511157488175"
            ]
          },
          "execution_count": 30,
          "metadata": {
            "tags": []
          },
          "output_type": "execute_result"
        }
      ],
      "source": [
        "import QuantLib as ql\n",
        "from QuantLib import *\n",
        "\n",
        "frequency_enum, settle_date = 4, Date(1, 1, 2020)\n",
        "expiry_date = Date(1,1,2022)\n",
        "midcurve_expiry_date = Date(1,7,2020)\n",
        "maturity_date = Date(1, 1, 2023)\n",
        "face_amount = 100.0\n",
        "settlement_days = 0\n",
        "fixing_days = 0\n",
        "\n",
        "calendar = NullCalendar()\n",
        "todays_date = Date(1,1,2020)\n",
        "Settings.instance().evaluationDate = todays_date\n",
        "\n",
        "spotDates = [ql.Date(1, 1, 2020), ql.Date(1, 1, 2021), ql.Date(1, 1, 2022), ql.Date(1, 1, 2030)]\n",
        "spotRates = [0.01, 0.01, 0.01, 0.01]\n",
        "\n",
        "dayCount = ql.Actual365Fixed()\n",
        "calendar = ql.UnitedStates()\n",
        "interpolation = ql.Linear()\n",
        "compounding = ql.Compounded\n",
        "compoundingFrequency = ql.Continuous\n",
        "spotCurve = ql.ZeroCurve(spotDates, spotRates, dayCount)\n",
        "spotCurveHandle = ql.YieldTermStructureHandle(spotCurve)\n",
        "\n",
        "\n",
        "index = IborIndex('USD Libor', Period(3, Months), settlement_days, USDCurrency(), NullCalendar(),\n",
        "                  Unadjusted, False, Actual365Fixed(), spotCurveHandle)\n",
        "#index.addFixing(ql.Date(15,1,2021), 0.006556)\n",
        "schedule = Schedule(expiry_date,\n",
        "                    maturity_date, Period(frequency_enum),\n",
        "                    NullCalendar(),\n",
        "                    Unadjusted, Unadjusted,\n",
        "                    DateGeneration.Forward, False)\n",
        "\n",
        "strike = 0.011\n",
        "ibor_leg = ql.IborLeg([face_amount], schedule, index)\n",
        "fixed_leg = ql.FixedRateLeg(schedule, Actual365Fixed(), [face_amount], [strike])\n",
        "\n",
        "swap = ql.VanillaSwap(ql.VanillaSwap.Payer, face_amount, schedule, strike, Actual365Fixed(), schedule, index, 0.0, Actual365Fixed()) \n",
        "exercise_date = ql.EuropeanExercise(expiry_date)\n",
        "swaption = ql.Swaption(swap, exercise_date)\n",
        "\n",
        "\n",
        "# price using hull-white\n",
        "model = ql.HullWhite(spotCurveHandle, a=0.03, sigma=0.02)\n",
        "engine = ql.JamshidianSwaptionEngine(model, spotCurveHandle)\n",
        "swaption.setPricingEngine(engine)\n",
        "print(\"price using HW\", swaption.NPV())\n",
        "\n",
        "# price using G2\n",
        "model = ql.G2(spotCurveHandle, a=0.03, sigma=0.01, b=0.15, eta=0.015, rho=0.0)\n",
        "engine = ql.FdG2SwaptionEngine(model, 20, 500, 500)\n",
        "swaption.setPricingEngine(engine)\n",
        "print(\"price using G2\", swaption.NPV())\n",
        "\n",
        "#  additional debugging\n",
        "swap.setPricingEngine(ql.DiscountingSwapEngine(spotCurveHandle))\n",
        "swap.fairRate()"
      ]
    },
    {
      "cell_type": "markdown",
      "metadata": {
        "id": "N_kpGLZsIPKj"
      },
      "source": [
        "## Example - Time dependent vol"
      ]
    },
    {
      "cell_type": "code",
      "execution_count": null,
      "metadata": {
        "id": "_hpElryGXFt2"
      },
      "outputs": [],
      "source": [
        "swaption_price = price\n",
        "dtype = tf.float64\n",
        "\n",
        "expiries = np.array([1.002739726, 1.002739726])\n",
        "fixed_leg_payment_times = np.array([[1.249315068,\t1.498630137,\t1.750684932,\t2.002739726],\n",
        "                                    [1.249315068,\t1.498630137,\t1.750684932,\t2.002739726]])\n",
        "fixed_leg_daycount_fractions = np.array([[0.2465753425,\t0.2493150685,\t0.2520547945,\t0.2520547945],\n",
        "                                         [0.2465753425,\t0.2493150685,\t0.2520547945,\t0.2520547945]])\n",
        "fixed_leg_coupon = 0.011 * np.ones_like(fixed_leg_payment_times)\n",
        "zero_rate_fn = lambda x: 0.01 * tf.ones_like(x, dtype=dtype)\n",
        "\n",
        "mu = [0.03, 0.15]\n",
        "vol = piecewise.PiecewiseConstantFunc(\n",
        "    [[0.5],[0.5]], [[0.01, 0.015], [0.015, 0.02]], dtype=dtype)\n",
        "\n",
        "\n",
        "hjm_price = swaption_price(\n",
        "    expiries=[expiries[0]],\n",
        "    fixed_leg_payment_times=fixed_leg_payment_times[0],\n",
        "    fixed_leg_daycount_fractions=fixed_leg_daycount_fractions[0],\n",
        "    fixed_leg_coupon=fixed_leg_coupon[0],\n",
        "    reference_rate_fn=zero_rate_fn,\n",
        "    notional=100.,\n",
        "    num_hjm_factors=len(mu),\n",
        "    mean_reversion=mu,\n",
        "    volatility=vol,\n",
        "    # corr_matrix=[[1, 0.0], [0.0, 1]],\n",
        "    valuation_method=ValuationMethod.MONTE_CARLO,\n",
        "    time_step_finite_difference=0.05,\n",
        "    num_grid_points_finite_difference=501,\n",
        "    time_step=0.05,\n",
        "    num_samples=2000000,\n",
        "    dtype=dtype)\n",
        "hjm_price"
      ]
    },
    {
      "cell_type": "code",
      "execution_count": null,
      "metadata": {
        "colab": {
          "base_uri": "https://localhost:8080/"
        },
        "executionInfo": {
          "elapsed": 336,
          "status": "ok",
          "timestamp": 1627045897958,
          "user": {
            "displayName": "Cyril Chimisov",
            "photoUrl": "https://lh3.googleusercontent.com/a/default-user=s64",
            "userId": "02803093032097482871"
          },
          "user_tz": -60
        },
        "id": "9CvxLRz1Iz1E",
        "outputId": "178ca900-b8b9-4075-9b98-1f0b920c939d"
      },
      "outputs": [
        {
          "data": {
            "text/plain": [
              "\u003ctf.Tensor: shape=(2, 1), dtype=float64, numpy=\n",
              "array([[0.015],\n",
              "       [0.02 ]])\u003e"
            ]
          },
          "execution_count": 32,
          "metadata": {
            "tags": []
          },
          "output_type": "execute_result"
        }
      ],
      "source": [
        "vol([0.50001])"
      ]
    },
    {
      "cell_type": "code",
      "execution_count": null,
      "metadata": {
        "colab": {
          "base_uri": "https://localhost:8080/"
        },
        "executionInfo": {
          "elapsed": 5,
          "status": "ok",
          "timestamp": 1627045899343,
          "user": {
            "displayName": "Cyril Chimisov",
            "photoUrl": "https://lh3.googleusercontent.com/a/default-user=s64",
            "userId": "02803093032097482871"
          },
          "user_tz": -60
        },
        "id": "OZblNNnCa4tm",
        "outputId": "7d706001-c1fb-4ce0-d247-5940b1e59e4e"
      },
      "outputs": [
        {
          "data": {
            "text/plain": [
              "\u003ctf.Tensor: shape=(4,), dtype=float32, numpy=array([6., 6., 6., 6.], dtype=float32)\u003e"
            ]
          },
          "execution_count": 33,
          "metadata": {
            "tags": []
          },
          "output_type": "execute_result"
        }
      ],
      "source": [
        "aa = tf.ones((2,3,4))\n",
        "tf.reduce_sum(aa, axis=[0, 1])"
      ]
    },
    {
      "cell_type": "code",
      "execution_count": null,
      "metadata": {
        "id": "qY70jvYiWpTj"
      },
      "outputs": [],
      "source": [
        ""
      ]
    }
  ],
  "metadata": {
    "colab": {
      "collapsed_sections": [],
      "name": "Exact_Gaussian_HJM_WIP.ipynb",
      "provenance": [],
      "toc_visible": true
    },
    "kernelspec": {
      "display_name": "Python 3",
      "language": "python",
      "name": "python3"
    },
    "language_info": {
      "codemirror_mode": {
        "name": "ipython",
        "version": 3
      },
      "file_extension": ".py",
      "mimetype": "text/x-python",
      "name": "python",
      "nbconvert_exporter": "python",
      "pygments_lexer": "ipython3",
      "version": "3.7.9"
    }
  },
  "nbformat": 4,
  "nbformat_minor": 0
}
